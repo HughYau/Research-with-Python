{
  "cells": [
    {
      "cell_type": "markdown",
      "metadata": {
        "id": "view-in-github",
        "colab_type": "text"
      },
      "source": [
        "<a href=\"https://colab.research.google.com/github/HughYau/Research-with-Python/blob/main/NonstochasticCakeProblem.ipynb\" target=\"_parent\"><img src=\"https://colab.research.google.com/assets/colab-badge.svg\" alt=\"Open In Colab\"/></a>"
      ]
    },
    {
      "cell_type": "markdown",
      "metadata": {
        "id": "qe0TtVctblOV"
      },
      "source": [
        "考虑这样一个简单的吃蛋糕的问题：（此模型其实可以看作是RCK最优增长模型的家庭效用最大化的决策问题）\n",
        "你有一个蛋糕大小是$W_{1}$,每期消费量$c_{t}$,当期蛋糕剩余量为$W_{t}$,蛋糕效用的“折现率”为$\\beta$,蛋糕每期的持有回报率为$\\rho$,现在考虑吃蛋糕的人的效用最大化问题，为使问题更加具体化，不妨设效用函数$\\mu(c)=\\frac{c^{1-\\gamma}}{1-\\gamma}$（CRRA效用函数）,考虑如下一个最优化问题：\n",
        "$$\n",
        " \\max_{\\{c_{t}\\}_{1}^{\\infty},\\{W_{t}\\}_{2}^{\\infty}}\\sum_{t=1}^{\\infty}\\beta^{t}\\mu(c_{t})\\\\\n",
        " s.t.W_{t+1}=\\rho (W_{t}-c_{t})\n",
        "$$\n",
        "求其贝尔曼方程为：$V(W_{t})=\\mu(c_{t})+\\beta V(W_{t+1})$,过程如下：\n",
        "定义其值函数$V（W_{t}）=max\\{\\sum_{a=t}^{\\infty}\\beta^{a-t}\\mu(c_{a})\\}$：\n",
        " $$\n",
        "  \\begin{aligned}\n",
        " V(W_{1})&=max\\{\\mu(c_{1})+\\beta\\mu(c_{2})+...+\\beta^{t-1}\\mu(c_{t})+...\\}\\\\\n",
        "&=\\mu(c_{1})+\\beta max\\{\\mu(c_{2})+...+\\beta^{t-2}\\mu(c_{t})+...\\}\\\\\n",
        "&=\\mu(c_{1})+\\beta V(W_{2})\\\\\n",
        "由递归同理可得：\\\\\n",
        " V(W_{t})&=\\mu(c_{t})+\\beta V(W_{t+1})\\\\\n",
        " &=\\mu(\\rho (W_{t}-W_{t+1}))+\\beta V(W_{t+1})\n",
        " \\end{aligned}\n",
        "$$\n",
        "\n",
        "则原问题转换为对贝尔曼方程的动态规划(本题特指无限期确定性动态规划)问题：\n",
        "$$\n",
        "V(W_{t})=max\\{\\mu(c_{t})+\\beta V(\\rho (W_{t}-c_{t}))\\}\n",
        "$$\n",
        "程序主要通过迭代法求近似解（数理方法亦可解出准确解：值函数：$V^*(W_t) = \\left( 1-\\beta^{1/\\gamma} \\right)^{-\\gamma}u(W_t)$,策略函数:$c^*_{t}(W_{t}) = \\left( 1-\\beta^{1/\\gamma} \\right) W_{t}$）"
      ]
    },
    {
      "cell_type": "code",
      "execution_count": null,
      "metadata": {
        "id": "uxGiEoQUblOZ"
      },
      "outputs": [],
      "source": [
        "%matplotlib inline \n",
        "from __future__ import division \n",
        "from scipy.interpolate import InterpolatedUnivariateSpline #一维插值函数\n",
        "from scipy.optimize import fminbound #求其最小值的函数，返回其最小值点\n",
        "from scipy.optimize import curve_fit\n",
        "import matplotlib.pyplot as plt #绘图\n",
        "import numpy as np"
      ]
    },
    {
      "cell_type": "code",
      "execution_count": null,
      "metadata": {
        "id": "1WIFYneXblOa"
      },
      "outputs": [],
      "source": [
        "class CakeProblem(object):\n",
        "        def __init__(self, beta=0.96, r = 1.0, gamma = 1.5, \n",
        "            grid_max=2.5, grid_min = 1e-3, grid_size=120):#grid_max代表蛋糕的尺寸,size代表点集的数量\n",
        "\n",
        "            self.r, self.beta, self.gamma = r, beta, gamma #变量初始化，具体说明见题意\n",
        "            if  gamma != 1.0:\n",
        "                self.u = lambda c: (c**(1 - gamma))/(1 - gamma)\n",
        "            else:\n",
        "                self.u = np.log\n",
        "                self.gamma = 1\n",
        "            self.grid = np.linspace(grid_min, grid_max, grid_size)#生成插值点\n",
        "            \n",
        "        def bellman_operator(self, w):#定义贝尔曼方程，用于后面的迭代求解\n",
        "            Vx = InterpolatedUnivariateSpline(self.grid, w)#对W进行关于grid的一维插值\n",
        "\n",
        "            Tw = np.empty(len(w))\n",
        "            c = np.empty(len(w))\n",
        "            for i, x in enumerate(self.grid):\n",
        "                value = lambda c: - self.u(c) - self.beta * Vx(self.r*(x - c))#定义贝尔曼方程\n",
        "                c_star = fminbound(value, 1e-6, x-1e-6)#最优化\n",
        "                Tw[i] = - value(c_star)\n",
        "                c[i] = c_star\n",
        "\n",
        "            return Tw,c #返回值包含两个，一个是迭代得到的的值的集合，一个是对应的最优c的值"
      ]
    },
    {
      "cell_type": "code",
      "execution_count": null,
      "metadata": {
        "id": "tDWk7UTvblOb",
        "outputId": "7cee82ac-69ff-498e-85dd-da2d9f0d149e"
      },
      "outputs": [
        {
          "data": {
            "image/png": "[encoded data removed]",
            "text/plain": [
              "<Figure size 576x432 with 1 Axes>"
            ]
          },
          "metadata": {
            "needs_background": "light"
          },
          "output_type": "display_data"
        }
      ],
      "source": [
        "cp = CakeProblem()\n",
        "v_zero = np.zeros(len(cp.grid)) #初始化v的值\n",
        "v_one = cp.bellman_operator(v_zero)[0] #第一次迭代\n",
        "v_two = cp.bellman_operator(v_one)[0] #第二次迭代\n",
        "v_three = cp.bellman_operator(v_two)[0]#第三次迭代\n",
        "v_four = cp.bellman_operator(v_three)[0]#第四次迭代\n",
        "\n",
        "\n",
        "fig, ax = plt.subplots(figsize =(8,6))\n",
        "\n",
        "ax.plot(cp.grid, v_zero, 'y-', lw = 2, alpha = .8, label='Initial Guess')\n",
        "ax.plot(cp.grid, v_one, 'g-', lw = 2, alpha = .8, label='First ')\n",
        "ax.plot(cp.grid, v_two, 'r-', lw = 2, alpha = .8, label='Second ')\n",
        "ax.plot(cp.grid, v_three, 'c-', lw = 2, alpha = .8, label='Third ')\n",
        "ax.plot(cp.grid, v_four, 'b-', lw = 2, alpha = .8, label='Fourth ')\n",
        "ax.legend()#loc = 'lower right', fontsize='x-large')\n",
        "ax.set_ylabel('$V(x)$', fontsize=12)\n",
        "ax.set_xlabel('$x$', fontsize=12)\n",
        "\n",
        "t = r'$Nonstochastic \\ DP:\\beta = {0:.2f}$'.format(cp.beta)\n",
        "ax.set_title(t)\n",
        "\n",
        "plt.show()"
      ]
    },
    {
      "cell_type": "code",
      "execution_count": null,
      "metadata": {
        "id": "Cy75_CVdblOc"
      },
      "outputs": [],
      "source": [
        "def compute_fixed_point(T, v, error_tol=1e-3, max_iter=500,#进行迭代的函数，T代表传入的值函数（贝尔曼方程），v代表上次迭代的值，error_tol代表误差范围，max_iter代表最大迭代次数，            \n",
        "                            print_skip=25,verbose=True):#print_skip代表打印结果的间隔，verbose代表是否打印结果\n",
        "        i = 0\n",
        "        error = error_tol + 1\n",
        "\n",
        "        while i < max_iter and error > error_tol:\n",
        "            new_v = T(v)[0]\n",
        "            i += 1\n",
        "            error = np.max(np.abs(new_v - v))\n",
        "            if verbose and i % print_skip == 0:\n",
        "                print(f\"第 {i}步收敛结果是  {error}.\")\n",
        "                \n",
        "            v = new_v\n",
        "        if i == max_iter:\n",
        "            print(\"收敛失败\")\n",
        "        if verbose and i < max_iter:\n",
        "            print(f\"\\n在第 {i} 步收敛\")\n",
        "\n",
        "\n",
        "        return v"
      ]
    },
    {
      "cell_type": "code",
      "execution_count": null,
      "metadata": {
        "id": "MI1b-66jblOd",
        "outputId": "dbf2a006-0937-46fa-dada-1471dd92e24a"
      },
      "outputs": [
        {
          "name": "stdout",
          "output_type": "stream",
          "text": [
            "第 25步收敛结果是  32.61290746816758.\n",
            "第 50步收敛结果是  11.9808393483504.\n",
            "第 75步收敛结果是  4.322996516406192.\n",
            "第 100步收敛结果是  1.5584699088216212.\n",
            "第 125步收敛结果是  0.5616670706775722.\n",
            "第 150步收敛结果是  0.20242254985498676.\n",
            "第 175步收敛结果是  0.07295252479207193.\n",
            "第 200步收敛结果是  0.026146320327711692.\n",
            "第 225步收敛结果是  0.009306197514433734.\n",
            "第 250步收敛结果是  0.0033539231632744304.\n",
            "第 275步收敛结果是  0.0012087429016105489.\n",
            "\n",
            "在第 280 步收敛\n"
          ]
        }
      ],
      "source": [
        "v = np.zeros(len(cp.grid))\n",
        "v_star = compute_fixed_point(cp.bellman_operator, v, max_iter = 500)#对值函数进行迭代"
      ]
    },
    {
      "cell_type": "code",
      "execution_count": null,
      "metadata": {
        "id": "GPp1YKobblOd",
        "outputId": "fb0cee96-dcef-4a35-aeba-6babccfd7c2e"
      },
      "outputs": [
        {
          "data": {
            "image/png": "[encoded data removed]",
            "text/plain": [
              "<Figure size 432x288 with 1 Axes>"
            ]
          },
          "metadata": {
            "needs_background": "light"
          },
          "output_type": "display_data"
        }
      ],
      "source": [
        "fig, ax = plt.subplots()\n",
        "\n",
        "ax.plot(cp.grid, v_star, label='Approximate value function')#由于是迭代得到的结果，因此结果不能认为使精确的\n",
        "ax.set_ylabel('$V(W_{t})$', fontsize=12)\n",
        "ax.set_xlabel('$W_{t}$', fontsize=12)\n",
        "ax.set_title('Value function')\n",
        "ax.legend()\n",
        "plt.show()"
      ]
    },
    {
      "cell_type": "code",
      "execution_count": null,
      "metadata": {
        "id": "TXrX9LT2blOe",
        "outputId": "6648c57d-2783-4ffb-af61-dc89956d9c2a"
      },
      "outputs": [
        {
          "name": "stdout",
          "output_type": "stream",
          "text": [
            "[0.02133892 0.00186879 0.04308721 0.02684754] [[ 6.08261673e+01  1.63303283e+00 -4.85668474e+01 -3.32762450e-07]\n",
            " [ 1.63303283e+00  4.38429106e-02 -1.30390027e+00 -8.93386963e-09]\n",
            " [-4.85668474e+01 -1.30390027e+00  3.87783542e+01  2.65694396e-07]\n",
            " [-3.32762450e-07 -8.93386962e-09  2.65694395e-07  1.56756046e-14]]\n"
          ]
        },
        {
          "data": {
            "image/png": "[encoded data removed]",
            "text/plain": [
              "<Figure size 432x288 with 1 Axes>"
            ]
          },
          "metadata": {
            "needs_background": "light"
          },
          "output_type": "display_data"
        }
      ],
      "source": [
        "#由值函数迭代的最优解，代入贝尔曼方程求其策略\n",
        "fig, ax = plt.subplots()\n",
        "c_star = cp.bellman_operator(v_star)[1]\n",
        "def piecewise_linear(x, k):\n",
        "    # x<x0 ⇒ lambda x: k1*x + y0 - k1*x0\n",
        "    # x>=x0 ⇒ lambda x: k2*x + y0 - k2*x0\n",
        "    return np.piecewise(x, [x < x0, x >= x0], [lambda x:k1*x + y0-k1*x0, \n",
        "                                   lambda x:k2*x + y0-k2*x0])\n",
        "\n",
        "# 用已有的 (x, y) 去拟合 piecewise_linear 分段函数\n",
        "p , e = curve_fit(piecewise_linear,cp.grid,c_star )\n",
        "print(p,e)\n",
        "ax.plot(cp.grid, c_star, label='Approximate policy function')\n",
        "ax.set_ylabel(r'$c_{t}(W_{t})$')\n",
        "ax.set_xlabel('$W_{t}$')\n",
        "ax.legend()\n",
        "ax.set_title('Policy function')\n",
        "plt.show()"
      ]
    },
    {
      "cell_type": "markdown",
      "metadata": {
        "id": "dCFv82SrblOe"
      },
      "source": [
        "**参考文献：**\n",
        "1. Dynamic economics: quantitative methods and applications  J Adda, R Cooper, RW Cooper - 2003\n",
        "2. https://python-programming.quantecon.org/"
      ]
    }
  ],
  "metadata": {
    "kernelspec": {
      "display_name": "Python 3",
      "language": "python",
      "name": "python3"
    },
    "language_info": {
      "codemirror_mode": {
        "name": "ipython",
        "version": 3
      },
      "file_extension": ".py",
      "mimetype": "text/x-python",
      "name": "python",
      "nbconvert_exporter": "python",
      "pygments_lexer": "ipython3",
      "version": "3.8.8"
    },
    "latex_envs": {
      "LaTeX_envs_menu_present": true,
      "autoclose": false,
      "autocomplete": true,
      "bibliofile": "biblio.bib",
      "cite_by": "apalike",
      "current_citInitial": 1,
      "eqLabelWithNumbers": true,
      "eqNumInitial": 1,
      "hotkeys": {
        "equation": "Ctrl-E",
        "itemize": "Ctrl-I"
      },
      "labels_anchors": false,
      "latex_user_defs": false,
      "report_style_numbering": false,
      "user_envs_cfg": false
    },
    "varInspector": {
      "cols": {
        "lenName": 16,
        "lenType": 16,
        "lenVar": 40
      },
      "kernels_config": {
        "python": {
          "delete_cmd_postfix": "",
          "delete_cmd_prefix": "del ",
          "library": "var_list.py",
          "varRefreshCmd": "print(var_dic_list())"
        },
        "r": {
          "delete_cmd_postfix": ") ",
          "delete_cmd_prefix": "rm(",
          "library": "var_list.r",
          "varRefreshCmd": "cat(var_dic_list()) "
        }
      },
      "types_to_exclude": [
        "module",
        "function",
        "builtin_function_or_method",
        "instance",
        "_Feature"
      ],
      "window_display": false
    },
    "colab": {
      "provenance": [],
      "include_colab_link": true
    }
  },
  "nbformat": 4,
  "nbformat_minor": 0
}