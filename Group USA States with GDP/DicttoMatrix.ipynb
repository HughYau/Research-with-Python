{
  "cells": [
    {
      "cell_type": "markdown",
      "metadata": {
        "id": "view-in-github",
        "colab_type": "text"
      },
      "source": [
        "<a href=\"https://colab.research.google.com/github/HughYau/Research-with-Python/blob/main/Group%20USA%20States%20with%20GDP/DicttoMatrix.ipynb\" target=\"_parent\"><img src=\"https://colab.research.google.com/assets/colab-badge.svg\" alt=\"Open In Colab\"/></a>"
      ]
    },
    {
      "cell_type": "code",
      "execution_count": null,
      "id": "6865f650",
      "metadata": {
        "ExecuteTime": {
          "end_time": "2022-01-11T05:39:57.349246Z",
          "start_time": "2022-01-11T05:39:57.106986Z"
        },
        "id": "6865f650"
      },
      "outputs": [],
      "source": [
        "import pandas as pd"
      ]
    },
    {
      "cell_type": "code",
      "execution_count": null,
      "id": "7bb93b06",
      "metadata": {
        "ExecuteTime": {
          "end_time": "2022-01-11T05:39:20.315690Z",
          "start_time": "2022-01-11T05:39:20.304701Z"
        },
        "id": "7bb93b06"
      },
      "outputs": [],
      "source": [
        "GRAPH = {\n",
        "\"AL\":  [\"FL\", \"GA\", \"TN\", \"MS\"] ,\n",
        "\n",
        "\"AZ\":  [ \"NM\", \"UT\", \"NV\", \"CA\"] ,\n",
        "\"AR\":  [ \"LA\", \"MS\", \"TN\", \"MO\", \"OK\", \"TX\"] ,\n",
        "\"CA\":  [ \"AZ\", \"NV\", \"OR\"] ,\n",
        "\"CO\":  [ \"NM\", \"OK\", \"KS\", \"NE\", \"WY\", \"UT\"] ,\n",
        "\"CT\":  [ \"RI\", \"MA\", \"NY\"] ,\n",
        "\"DE\":  [ \"NJ\", \"PA\", \"MD\"] ,\n",
        "\"FL\":  [ \"GA\", \"AL\"] ,\n",
        "\"GA\":  [ \"SC\", \"NC\", \"TN\", \"AL\", \"FL\"] ,\n",
        "\n",
        "\"ID\":  [ \"WA\", \"OR\", \"NV\", \"UT\", \"WY\", \"MT\"] ,\n",
        "\"IL\":  [ \"WI\", \"IA\", \"MO\", \"KY\", \"IN\"] ,\n",
        "\"IN\":  [ \"IL\", \"KY\", \"OH\", \"MI\"] ,\n",
        "\"IA\":  [ \"MN\", \"SD\", \"NE\", \"MO\", \"IL\", \"WI\"] ,\n",
        "\"KS\":  [ \"OK\", \"MO\", \"NE\", \"CO\"] ,\n",
        "\"KY\":  [ \"TN\", \"VA\", \"WV\", \"OH\", \"IN\", \"IL\", \"MO\"] ,\n",
        "\"LA\":  [ \"MS\", \"AR\", \"TX\"] ,\n",
        "\n",
        "\"ME\":  [ \"NH\"] ,\n",
        "\"MD\":  [ \"DE\", \"PA\", \"WV\", \"VA\" ] ,\n",
        "\"MA\":  [ \"NH\", \"VT\", \"NY\", \"CT\", \"RI\"] ,\n",
        "\"MI\":  [ \"WI\", \"IN\", \"OH\"] ,\n",
        "\"MN\":  [ \"ND\", \"SD\", \"IA\", \"WI\"] ,\n",
        "\"MS\":  [ \"AL\", \"TN\", \"AR\", \"LA\"] ,\n",
        "\"MO\":  [ \"AR\", \"TN\", \"KY\", \"IL\", \"IA\", \"NE\", \"KS\", \"OK\"] ,\n",
        "\"MT\":  [ \"ID\", \"WY\", \"SD\", \"ND\"] ,\n",
        "\n",
        "\"NE\":  [ \"KS\", \"MO\", \"IA\", \"SD\", \"WY\", \"CO\"] ,\n",
        "\"NV\":  [ \"AZ\", \"UT\", \"ID\", \"OR\", \"CA\"] ,\n",
        "\"NH\":  [ \"VT\", \"MA\", \"ME\"] ,\n",
        "\"NJ\":  [ \"NY\", \"PA\", \"DE\"] ,\n",
        "\"NM\":  [ \"TX\", \"OK\", \"CO\", \"AZ\"] ,\n",
        "\"NY\":  [ \"PA\", \"NJ\", \"CT\", \"MA\", \"VT\"] ,\n",
        "\"NC\":  [ \"VA\", \"TN\", \"GA\", \"SC\"] ,\n",
        "\"ND\":  [ \"MT\", \"SD\", \"MN\"] ,\n",
        "\"OH\":  [ \"MI\", \"IN\", \"KY\", \"WV\", \"PA\"] ,\n",
        "\"OK\":  [ \"TX\", \"AR\", \"MO\", \"KS\", \"CO\", \"NM\"] ,\n",
        "\"OR\":  [ \"CA\", \"NV\", \"ID\", \"WA\"] ,\n",
        "\"PA\":  [ \"OH\", \"WV\", \"MD\", \"DE\", \"NJ\", \"NY\"] ,\n",
        "\"RI\":  [ \"MA\", \"CT\"] ,\n",
        "\"SC\":  [ \"NC\", \"GA\"] ,\n",
        "\"SD\":  [ \"NE\", \"IA\", \"MN\", \"ND\", \"MT\", \"WY\"] ,\n",
        "\"TN\":  [ \"AL\", \"GA\", \"NC\", \"VA\", \"KY\", \"MO\", \"AR\", \"MS\"] ,\n",
        "\"TX\":  [ \"LA\", \"AR\", \"OK\", \"NM\"] ,\n",
        "\"UT\":  [ \"AZ\", \"CO\", \"WY\", \"ID\", \"NV\"] ,\n",
        "\"VT\":  [ \"NY\", \"MA\", \"NH\"] ,\n",
        "\"VA\":  [ \"MD\", \"WV\", \"KY\", \"TN\", \"NC\"] ,\n",
        "\"WA\":  [ \"OR\", \"ID\"] ,\n",
        "\"WV\":  [ \"VA\", \"MD\", \"PA\", \"OH\", \"KY\"] ,\n",
        "\"WI\":  [ \"MN\", \"IA\", \"IL\", \"MI\"] ,\n",
        "\"WY\":  [ \"CO\", \"NE\", \"SD\", \"MT\", \"ID\", \"UT\"] ,\n",
        "}"
      ]
    },
    {
      "cell_type": "code",
      "execution_count": null,
      "id": "83794a99",
      "metadata": {
        "ExecuteTime": {
          "end_time": "2022-01-11T05:40:26.921033Z",
          "start_time": "2022-01-11T05:40:26.844032Z"
        },
        "id": "83794a99"
      },
      "outputs": [],
      "source": [
        "g = {k: [v.strip() for v in vs] for k, vs in GRAPH.items()}\n",
        "\n",
        "edges = [(a, b) for a, bs in g.items() for b in bs]\n",
        "\n",
        "df = pd.DataFrame(edges)\n",
        "\n",
        "adj_matrix = pd.crosstab(df[0], df[1])"
      ]
    },
    {
      "cell_type": "code",
      "execution_count": null,
      "id": "0f7bd685",
      "metadata": {
        "ExecuteTime": {
          "end_time": "2022-01-11T05:41:22.166771Z",
          "start_time": "2022-01-11T05:41:22.032958Z"
        },
        "id": "0f7bd685"
      },
      "outputs": [],
      "source": [
        "adj_matrix.to_excel(r'D:\\Work\\state_matrix.xlsx')"
      ]
    }
  ],
  "metadata": {
    "kernelspec": {
      "display_name": "Python 3",
      "language": "python",
      "name": "python3"
    },
    "language_info": {
      "codemirror_mode": {
        "name": "ipython",
        "version": 3
      },
      "file_extension": ".py",
      "mimetype": "text/x-python",
      "name": "python",
      "nbconvert_exporter": "python",
      "pygments_lexer": "ipython3",
      "version": "3.8.8"
    },
    "toc": {
      "base_numbering": 1,
      "nav_menu": {},
      "number_sections": true,
      "sideBar": true,
      "skip_h1_title": false,
      "title_cell": "Table of Contents",
      "title_sidebar": "Contents",
      "toc_cell": false,
      "toc_position": {},
      "toc_section_display": true,
      "toc_window_display": false
    },
    "colab": {
      "provenance": [],
      "include_colab_link": true
    }
  },
  "nbformat": 4,
  "nbformat_minor": 5
}