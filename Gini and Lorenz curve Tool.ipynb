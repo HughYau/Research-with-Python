{
  "cells": [
    {
      "cell_type": "markdown",
      "metadata": {
        "id": "view-in-github",
        "colab_type": "text"
      },
      "source": [
        "<a href=\"https://colab.research.google.com/github/HughYau/Research-with-Python/blob/main/Gini%20and%20Lorenz%20curve%20Tool.ipynb\" target=\"_parent\"><img src=\"https://colab.research.google.com/assets/colab-badge.svg\" alt=\"Open In Colab\"/></a>"
      ]
    },
    {
      "cell_type": "code",
      "execution_count": null,
      "id": "a6380264",
      "metadata": {
        "ExecuteTime": {
          "end_time": "2022-04-04T08:01:58.004681Z",
          "start_time": "2022-04-04T08:01:57.991723Z"
        },
        "id": "a6380264"
      },
      "outputs": [],
      "source": [
        "import numpy as np\n",
        "from scipy.optimize import least_squares\n",
        "import matplotlib.pyplot as plt\n",
        "from scipy import integrate\n",
        "from scipy.stats import lognorm,pareto,norm,weibull_min\n",
        "import scipy.integrate as integrate\n",
        "from scipy.special import gamma\n",
        "from scipy.optimize import fsolve\n",
        "from matplotlib.ticker import MaxNLocator\n",
        "plt.rcParams['font.sans-serif']=['SimHei'] #用来正常显示中文标签\n",
        "plt.rcParams['axes.unicode_minus']=False #用来正常显示负号"
      ]
    },
    {
      "cell_type": "code",
      "execution_count": null,
      "id": "655d3e6f",
      "metadata": {
        "ExecuteTime": {
          "end_time": "2022-03-19T13:26:33.644487Z",
          "start_time": "2022-03-19T13:26:33.626992Z"
        },
        "id": "655d3e6f"
      },
      "outputs": [],
      "source": [
        "sheet = np.array([[ 4747.3, 10887.4, 17631. , 26937.4, 50968. ],\n",
        "       [ 5221.2, 11894. , 19320.1, 29437.6, 54543.5],\n",
        "       [ 5528.7, 12898.9, 20924.4, 31990.4, 59259.5],\n",
        "       [ 5958.4, 13842.8, 22495.3, 34546.8, 64934. ],\n",
        "       [ 6440.5, 14360.5, 23188.9, 36471.4, 70639.5],\n",
        "       [ 7380.4, 15777. , 25034.7, 39230.5, 76400.7],\n",
        "       [ 7868.8, 16442.7, 26248.9, 41171.7, 80293.8]])#14-20年收入五等分数据\n",
        "\n",
        "gini = np.array([[0.479, 0.473, 0.485, 0.487, 0.484, 0.491, 0.49 , 0.481, 0.477,\n",
        "        0.474, 0.473, 0.469, 0.462, 0.465, 0.467, 0.468, 0.465,0.468]]) #12-20基尼系数\n",
        "\n",
        "#洛伦兹曲线拟合方程1\n",
        "def lorenz_curve1(a,x):\n",
        "    return x-x*(1-x)**a\n",
        "\n",
        "#洛伦兹曲线拟合方程2\n",
        "def lorenz_curve2(a,x):\n",
        "    return (np.exp(a*x)-1)/(np.exp(a)-1)"
      ]
    },
    {
      "cell_type": "code",
      "execution_count": null,
      "id": "0812b299",
      "metadata": {
        "ExecuteTime": {
          "end_time": "2022-03-19T13:26:35.040959Z",
          "start_time": "2022-03-19T13:26:35.030992Z"
        },
        "id": "0812b299"
      },
      "outputs": [],
      "source": [
        "class Inequality(object):\n",
        "    def __init__(self,data,fun = lorenz_curve1):\n",
        "        self.data,self.fun = data,fun\n",
        "        y = np.empty(self.data.shape)\n",
        "        self.mean = np.mean(self.data)\n",
        "        for j in range(5):\n",
        "            y[j] = np.sum(self.data[:j+1])*0.2/self.mean\n",
        "        self.y = y\n",
        "    \n",
        "    def data_approx(self,method):#通过五等分数据估算分布\n",
        "        if method == 'lognorm':#对数正态\n",
        "            func = lognorm\n",
        "            theta0 = 0.5\n",
        "        elif method == 'pareto':#帕累托\n",
        "            func = pareto\n",
        "            theta0 = 1.5\n",
        "        elif method == 'weibull':#威布尔，III型极值分布\n",
        "            func = weibull_min\n",
        "            theta0 = 2\n",
        " \n",
        "        def fun(x):\n",
        "            result = np.empty(5)\n",
        "            for i in range(1,6):\n",
        "                xtimespdf = lambda a:a*func(x).pdf(a)\n",
        "                result[i-1] = integrate.quad(xtimespdf,0,func.ppf(0.2*i,x))[0]/func(x).mean()   \n",
        "            return result - self.y\n",
        "        res = least_squares(fun,theta0,loss = 'linear',verbose = 2)\n",
        "        if method == 'lognorm':\n",
        "            gini = 2*norm.cdf(res.x)-1\n",
        "        elif method == 'pareto':\n",
        "            gini = 1/(2*res.x-1)\n",
        "        elif method == 'weibull':\n",
        "            gini = 1-2**(-1/res.x)\n",
        "            \n",
        "        return func(res.x),res,gini\n",
        "    \n",
        "    def curve_fit(self):#通过五等分数据以及给定的洛伦兹曲线形式估算分布\n",
        "        theta0 = 0.5\n",
        "        def difffun(a):\n",
        "            return self.fun(a,0.2*np.arange(1,6))-self.y\n",
        "        res = least_squares(difffun,theta0,loss = 'linear',verbose = 0)\n",
        "        return res\n",
        "                 \n",
        "    def gini(self):\n",
        "        a = self.curve_fit().x\n",
        "        def fun(x):\n",
        "            return self.fun(a,x)\n",
        "        return 1-2*integrate.quad(fun,0,1)[0]\n",
        "    \n",
        "    def plot(self):\n",
        "        fig, ax = plt.subplots(figsize=(10,6))\n",
        "        ax.scatter(0.2*np.arange(1,6),self.y,label = '五等分数据点')\n",
        "        ax.plot(np.linspace(0,1,100),np.linspace(0,1,100),label = '绝对平等线', linestyle = ':' )\n",
        "        plt.plot(np.linspace(0,1,100),self.fun(self.curve_fit().x,np.linspace(0,1,100)),label = '拟合曲线')\n",
        "        ax.legend()"
      ]
    },
    {
      "cell_type": "code",
      "execution_count": null,
      "id": "4b0d17e7",
      "metadata": {
        "ExecuteTime": {
          "end_time": "2021-11-14T09:29:31.144115Z",
          "start_time": "2021-11-14T09:29:28.753726Z"
        },
        "id": "4b0d17e7",
        "outputId": "c66ad934-4e1b-46b4-dced-4b51ad7e558f"
      },
      "outputs": [
        {
          "name": "stdout",
          "output_type": "stream",
          "text": [
            "   Iteration     Total nfev        Cost      Cost reduction    Step norm     Optimality   \n",
            "       0              1         1.5436e-02                                    1.12e-01    \n",
            "       1              2         1.3500e-04      1.53e-02       2.75e-01       2.87e-03    \n",
            "       2              3         1.2325e-04      1.18e-05       8.29e-03       3.10e-05    \n",
            "       3              4         1.2324e-04      1.37e-09       8.99e-05       3.84e-07    \n",
            "       4              5         1.2324e-04      2.11e-13       1.11e-06       4.83e-09    \n",
            "`gtol` termination condition is satisfied.\n",
            "Function evaluations 5, initial cost 1.5436e-02, final cost 1.2324e-04, first-order optimality 4.83e-09.\n"
          ]
        }
      ],
      "source": [
        "case = Inequality(data = sheet[5])\n",
        "test = case.data_approx(method = 'lognorm')"
      ]
    },
    {
      "cell_type": "code",
      "execution_count": null,
      "id": "e027025a",
      "metadata": {
        "ExecuteTime": {
          "end_time": "2021-11-14T09:29:45.039417Z",
          "start_time": "2021-11-14T09:29:45.028486Z"
        },
        "id": "e027025a",
        "outputId": "63e8d913-b0ba-4cbf-d6ab-45f417fa73a1"
      },
      "outputs": [
        {
          "data": {
            "text/plain": [
              " active_mask: array([0.])\n",
              "        cost: 0.00012324396117275072\n",
              "         fun: array([ 7.04803918e-03,  8.61466201e-03,  3.93148245e-03, -1.03510439e-02,\n",
              "       -1.37811984e-12])\n",
              "        grad: array([4.8286483e-09])\n",
              "         jac: array([[-0.10656709],\n",
              "       [-0.23312833],\n",
              "       [-0.34669248],\n",
              "       [-0.39826234],\n",
              "       [ 0.        ]])\n",
              "     message: '`gtol` termination condition is satisfied.'\n",
              "        nfev: 5\n",
              "        njev: 5\n",
              "  optimality: 4.828648301515026e-09\n",
              "      status: 1\n",
              "     success: True\n",
              "           x: array([0.78321229])"
            ]
          },
          "execution_count": 9,
          "metadata": {},
          "output_type": "execute_result"
        }
      ],
      "source": [
        "test[1]"
      ]
    },
    {
      "cell_type": "code",
      "execution_count": null,
      "id": "6376b310",
      "metadata": {
        "ExecuteTime": {
          "end_time": "2021-11-14T09:29:46.668750Z",
          "start_time": "2021-11-14T09:29:46.655233Z"
        },
        "id": "6376b310",
        "outputId": "ad297e1d-d7f9-476e-f87c-09b632dc0621"
      },
      "outputs": [
        {
          "data": {
            "text/plain": [
              "array([0.56649754])"
            ]
          },
          "execution_count": 10,
          "metadata": {},
          "output_type": "execute_result"
        }
      ],
      "source": [
        "test[2]#通过数据拟合出的分布计算基尼系数"
      ]
    },
    {
      "cell_type": "code",
      "execution_count": null,
      "id": "6c7b0d99",
      "metadata": {
        "ExecuteTime": {
          "end_time": "2021-11-13T04:56:27.554489Z",
          "start_time": "2021-11-13T04:56:27.454421Z"
        },
        "id": "6c7b0d99",
        "outputId": "4974d195-7513-48ab-ac02-41a8801283f1"
      },
      "outputs": [
        {
          "data": {
            "text/plain": [
              "[<matplotlib.lines.Line2D at 0x1d65490c040>]"
            ]
          },
          "execution_count": 97,
          "metadata": {},
          "output_type": "execute_result"
        },
        {
          "data": {
            "image/png": "[encoded data removed]",
            "text/plain": [
              "<Figure size 432x288 with 1 Axes>"
            ]
          },
          "metadata": {
            "needs_background": "light"
          },
          "output_type": "display_data"
        }
      ],
      "source": [
        "func = test[0]\n",
        "x = np.linspace(func.ppf(0.01),\n",
        "                func.ppf(0.99), 100)\n",
        "plt.plot(x,func.pdf(x))"
      ]
    },
    {
      "cell_type": "code",
      "execution_count": null,
      "id": "b3618277",
      "metadata": {
        "ExecuteTime": {
          "end_time": "2021-11-14T09:30:48.926619Z",
          "start_time": "2021-11-14T09:30:48.722099Z"
        },
        "id": "b3618277",
        "outputId": "116e0d17-ecc8-4100-ecc0-d817eec60e97"
      },
      "outputs": [
        {
          "data": {
            "image/png": "[encoded data removed]",
            "text/plain": [
              "<Figure size 720x432 with 1 Axes>"
            ]
          },
          "metadata": {
            "needs_background": "light"
          },
          "output_type": "display_data"
        }
      ],
      "source": [
        "case.plot()"
      ]
    },
    {
      "cell_type": "code",
      "execution_count": null,
      "id": "eddf9dc0",
      "metadata": {
        "ExecuteTime": {
          "end_time": "2021-11-14T09:29:37.004537Z",
          "start_time": "2021-11-14T09:29:36.990998Z"
        },
        "id": "eddf9dc0",
        "outputId": "3eba7da4-6759-4ab4-e9ea-81d4919dae25"
      },
      "outputs": [
        {
          "data": {
            "text/plain": [
              "0.4302428002805564"
            ]
          },
          "execution_count": 8,
          "metadata": {},
          "output_type": "execute_result"
        }
      ],
      "source": [
        "case.gini()#通过数据拟合出的洛伦兹曲线计算基尼系数"
      ]
    },
    {
      "cell_type": "code",
      "execution_count": null,
      "id": "8d34bf1b",
      "metadata": {
        "ExecuteTime": {
          "end_time": "2022-04-04T07:47:53.641620Z",
          "start_time": "2022-04-04T07:47:53.636579Z"
        },
        "id": "8d34bf1b"
      },
      "outputs": [],
      "source": [
        "#通过基尼系数估计分布\n",
        "def gini_approx(gini,method):\n",
        "    if method == 'lognorm':\n",
        "        func = lambda x:2*norm.cdf(x)-1-gini\n",
        "        sigma = fsolve(func,2)\n",
        "        print(sigma)\n",
        "        return lognorm(sigma)\n",
        "    elif method == 'pareto':\n",
        "        func = lambda x:1/(2*x-1)-gini\n",
        "        alpha = fsolve(func,2)\n",
        "        print(alpha)\n",
        "        return pareto(alpha)\n",
        "    elif method == 'weibull':\n",
        "        func = lambda x:1-2**(-1/x)-gini\n",
        "        beta = fsolve(func,2)\n",
        "        print(beta)\n",
        "        return weibull_min(beta)"
      ]
    },
    {
      "cell_type": "code",
      "execution_count": null,
      "id": "a873805b",
      "metadata": {
        "ExecuteTime": {
          "end_time": "2022-04-04T07:48:54.864358Z",
          "start_time": "2022-04-04T07:48:54.749545Z"
        },
        "id": "a873805b",
        "outputId": "ffd1d4c6-1790-4eb0-a360-3bb058b8c6de"
      },
      "outputs": [
        {
          "name": "stdout",
          "output_type": "stream",
          "text": [
            "[1.10157325]\n"
          ]
        },
        {
          "data": {
            "text/plain": [
              "[<matplotlib.lines.Line2D at 0x2749d618130>]"
            ]
          },
          "execution_count": 29,
          "metadata": {},
          "output_type": "execute_result"
        },
        {
          "data": {
            "image/png": "[encoded data removed]",
            "text/plain": [
              "<Figure size 432x288 with 1 Axes>"
            ]
          },
          "metadata": {
            "needs_background": "light"
          },
          "output_type": "display_data"
        }
      ],
      "source": [
        "test1 = gini_approx(gini = 0.467,method = 'weibull')\n",
        "x = np.linspace(test1.ppf(0.01),\n",
        "                test1.ppf(0.99), 100)\n",
        "plt.plot(x,test1.pdf(x))"
      ]
    },
    {
      "cell_type": "code",
      "execution_count": null,
      "id": "0a699c43",
      "metadata": {
        "ExecuteTime": {
          "end_time": "2022-04-04T08:21:43.484193Z",
          "start_time": "2022-04-04T08:21:43.430951Z"
        },
        "id": "0a699c43",
        "outputId": "a3144ef3-1409-4a12-828c-d521592d8337"
      },
      "outputs": [
        {
          "name": "stdout",
          "output_type": "stream",
          "text": [
            "0.12963452764342645\n",
            "0.39477314210369746\n",
            "0.722465667274827\n",
            "1.1993295554449177\n",
            "2.376092686067955\n"
          ]
        }
      ],
      "source": [
        "for i in range(5):\n",
        "    a = integrate.quad(lambda x:5*x*test1.pdf(x),test1.ppf(0.2*i),test1.ppf(0.2*(i+1)))\n",
        "    print(a[0])"
      ]
    },
    {
      "cell_type": "code",
      "execution_count": null,
      "id": "ea632262",
      "metadata": {
        "ExecuteTime": {
          "end_time": "2022-04-04T08:04:52.260545Z",
          "start_time": "2022-04-04T08:04:52.255562Z"
        },
        "id": "ea632262",
        "outputId": "52107e10-64a0-48a9-eaf7-5dbb920bd7b5"
      },
      "outputs": [
        {
          "data": {
            "text/plain": [
              "(0.025926905518148826, 6.397864556600817e-09)"
            ]
          },
          "execution_count": 44,
          "metadata": {},
          "output_type": "execute_result"
        }
      ],
      "source": [
        "a"
      ]
    },
    {
      "cell_type": "code",
      "execution_count": null,
      "id": "7131ab63",
      "metadata": {
        "ExecuteTime": {
          "end_time": "2022-04-04T08:11:05.201159Z",
          "start_time": "2022-04-04T08:11:05.187182Z"
        },
        "id": "7131ab63",
        "outputId": "bb558dce-9172-4591-c395-dca0476d671b"
      },
      "outputs": [
        {
          "data": {
            "text/plain": [
              "array([2.13214486])"
            ]
          },
          "execution_count": 56,
          "metadata": {},
          "output_type": "execute_result"
        }
      ],
      "source": [
        "test1.ppf(0.9)"
      ]
    },
    {
      "cell_type": "code",
      "execution_count": null,
      "id": "5b7a8bdf",
      "metadata": {
        "ExecuteTime": {
          "end_time": "2022-04-04T07:47:45.027760Z",
          "start_time": "2022-04-04T07:47:44.916990Z"
        },
        "id": "5b7a8bdf",
        "outputId": "5dcfdc9e-67ef-4e7d-dc58-c7c70dafa845"
      },
      "outputs": [
        {
          "data": {
            "text/plain": [
              "(array([5., 7., 3., 5., 3., 2., 3., 1., 0., 1.]),\n",
              " array([0.01338397, 0.29994555, 0.58650713, 0.87306871, 1.15963029,\n",
              "        1.44619187, 1.73275345, 2.01931503, 2.30587661, 2.59243819,\n",
              "        2.87899977]),\n",
              " <BarContainer object of 10 artists>)"
            ]
          },
          "execution_count": 17,
          "metadata": {},
          "output_type": "execute_result"
        },
        {
          "data": {
            "image/png": "[encoded data removed]",
            "text/plain": [
              "<Figure size 432x288 with 1 Axes>"
            ]
          },
          "metadata": {
            "needs_background": "light"
          },
          "output_type": "display_data"
        }
      ],
      "source": [
        "ep = 1.0368505876615817*np.random.weibull(1.10157325,30)\n",
        "plt.hist(ep)"
      ]
    },
    {
      "cell_type": "code",
      "execution_count": null,
      "id": "e8b56e1a",
      "metadata": {
        "ExecuteTime": {
          "end_time": "2022-04-04T07:47:06.918296Z",
          "start_time": "2022-04-04T07:47:06.899358Z"
        },
        "id": "e8b56e1a",
        "outputId": "491c92b9-e722-483a-9b37-b97f94753f93"
      },
      "outputs": [
        {
          "data": {
            "text/plain": [
              "1.0368505876615817"
            ]
          },
          "execution_count": 5,
          "metadata": {},
          "output_type": "execute_result"
        }
      ],
      "source": [
        "1/gamma(1+1/1.10157325)#验证Weibull均值计算"
      ]
    },
    {
      "cell_type": "code",
      "execution_count": null,
      "id": "36b05eeb",
      "metadata": {
        "ExecuteTime": {
          "end_time": "2022-03-12T03:52:09.832449Z",
          "start_time": "2022-03-12T03:52:09.822142Z"
        },
        "id": "36b05eeb",
        "outputId": "e7357202-2bb1-4a51-fad9-5910d050ac39"
      },
      "outputs": [
        {
          "data": {
            "text/plain": [
              "array([0.75880569, 0.40874197, 0.470598  , 0.25215749, 0.49525188,\n",
              "       0.32785275, 0.46331132, 0.38502471, 0.08193357, 0.65806658,\n",
              "       0.61587131, 0.66841024, 0.64607025, 0.73605277, 1.71949241,\n",
              "       0.12095518, 0.46916368, 0.06988415, 0.52288496, 0.5611389 ,\n",
              "       2.34203188, 0.24930087, 2.41516953, 0.34948344, 2.23983152,\n",
              "       1.37045345, 1.48534204, 1.00055135, 0.13465829, 2.84543818])"
            ]
          },
          "execution_count": 9,
          "metadata": {},
          "output_type": "execute_result"
        }
      ],
      "source": [
        "ep"
      ]
    }
  ],
  "metadata": {
    "kernelspec": {
      "display_name": "Python 3",
      "language": "python",
      "name": "python3"
    },
    "language_info": {
      "codemirror_mode": {
        "name": "ipython",
        "version": 3
      },
      "file_extension": ".py",
      "mimetype": "text/x-python",
      "name": "python",
      "nbconvert_exporter": "python",
      "pygments_lexer": "ipython3",
      "version": "3.8.8"
    },
    "toc": {
      "base_numbering": 1,
      "nav_menu": {},
      "number_sections": true,
      "sideBar": true,
      "skip_h1_title": false,
      "title_cell": "Table of Contents",
      "title_sidebar": "Contents",
      "toc_cell": false,
      "toc_position": {},
      "toc_section_display": true,
      "toc_window_display": false
    },
    "colab": {
      "provenance": [],
      "include_colab_link": true
    }
  },
  "nbformat": 4,
  "nbformat_minor": 5
}