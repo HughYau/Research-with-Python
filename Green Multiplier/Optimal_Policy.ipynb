{
  "cells": [
    {
      "cell_type": "markdown",
      "metadata": {
        "id": "view-in-github",
        "colab_type": "text"
      },
      "source": [
        "<a href=\"https://colab.research.google.com/github/HughYau/Research-with-Python/blob/main/Green%20Multiplier/Optimal_Policy.ipynb\" target=\"_parent\"><img src=\"https://colab.research.google.com/assets/colab-badge.svg\" alt=\"Open In Colab\"/></a>"
      ]
    },
    {
      "cell_type": "code",
      "execution_count": null,
      "id": "e6c844e4",
      "metadata": {
        "ExecuteTime": {
          "end_time": "2022-06-07T01:33:18.444858Z",
          "start_time": "2022-06-07T01:33:14.237542Z"
        },
        "id": "e6c844e4"
      },
      "outputs": [],
      "source": [
        "from scipy.optimize import least_squares\n",
        "import matplotlib.pyplot as plt\n",
        "import numpy as np\n",
        "import pandas as pd\n",
        "import matplotlib.pyplot as plt\n",
        "from scipy.stats import weibull_min\n",
        "from interpolation import interp\n",
        "from quantecon.optimize.scalar_maximization import brent_max\n",
        "from scipy.optimize import minimize_scalar\n",
        "from collections import Counter\n",
        "from matplotlib.ticker import MaxNLocator\n",
        "from numba import njit, jit, njit, prange, float64, int32, typeof\n",
        "from numba.experimental import jitclass\n",
        "plt.rcParams['font.sans-serif']=['SimHei'] #用来正常显示中文标签\n",
        "plt.rcParams['axes.unicode_minus']=False #用来正常显示负号"
      ]
    },
    {
      "cell_type": "code",
      "execution_count": null,
      "id": "ee636181",
      "metadata": {
        "ExecuteTime": {
          "end_time": "2022-06-07T01:33:19.947172Z",
          "start_time": "2022-06-07T01:33:19.902661Z"
        },
        "id": "ee636181"
      },
      "outputs": [],
      "source": [
        "ddcm_para = [\n",
        "             ('t',int32),\n",
        "             ('alpha',float64),\n",
        "             ('beta',float64),\n",
        "             ('delta',float64),\n",
        "             ('gamma',float64),\n",
        "             ('A',int32),\n",
        "             ('var1',float64),\n",
        "             ('var2',float64),\n",
        "             ('truelambda',float64),\n",
        "             ('zeta',float64),\n",
        "             ('epsilon',float64),\n",
        "             ('AFE',float64[:]),\n",
        "             ('EAFE',float64[:]),\n",
        "             ('VMT',float64),\n",
        "             ('y',float64),\n",
        "             ('r',float64),\n",
        "             ('bt',float64),\n",
        "             ('vat',float64),\n",
        "             ('sub',float64[:]),\n",
        "             ('cha',float64),\n",
        "             ('shocks',float64[:,::1]),\n",
        "             ('transition',float64[:,::1])\n",
        "]\n",
        "\n",
        "@jitclass(ddcm_para)\n",
        "class DDCM:\n",
        "    def __init__(self,\n",
        "                 ifbt = 0,\n",
        "                 bev_tax= 1.94,\n",
        "                 phev_tax= 0.85,\n",
        "                 t = 7,\n",
        "                 epsilon = 1,\n",
        "                 alpha = 2,\n",
        "                 beta=0.8, \n",
        "                 delta = 0.02, \n",
        "                 gamma = 0.34,\n",
        "                 A = 20,\n",
        "                 var1 = 0.2,\n",
        "                 var2 = 0.2,\n",
        "                 truelambda = 0.2,\n",
        "                 zeta = 1.7,\n",
        "                 r = 0.05,\n",
        "                 shocks = np.array([[105761.01203155,   7515.46061925],\n",
        "                           [104044.59375342,   8558.00847766],\n",
        "                           [102356.03159778,   9745.17901352],\n",
        "                           [109349.77977224,   7582.17502758],\n",
        "                           [107575.11860831,   8633.97753677],\n",
        "                           [105829.25880323,   9831.68653247],\n",
        "                           [113060.32446693,   7649.48165673],\n",
        "                           [111225.44407274,   8710.62096983],\n",
        "                           [109420.34234828,   9918.96197481]]),\n",
        "                 transition = np.array([[1.97170195e-01, 4.46763023e-01, 1.38531452e-01, 2.89016362e-02,\n",
        "                                6.54874961e-02, 2.03062417e-02, 2.59142361e-02, 5.87184208e-02,\n",
        "                                1.82072994e-02],\n",
        "                               [7.40998999e-02, 3.42063659e-01, 3.65482201e-01, 1.09625370e-02,\n",
        "                                5.06058109e-02, 5.40704127e-02, 9.73741194e-03, 4.49503273e-02,\n",
        "                                4.80277403e-02],\n",
        "                               [2.66343353e-03, 1.34830014e-01, 6.43333900e-01, 3.97663163e-04,\n",
        "                                2.01307558e-02, 9.60527797e-02, 3.49943580e-04, 1.77150649e-02,\n",
        "                                8.45264452e-02],\n",
        "                               [1.13618061e-01, 7.97603087e-02, 1.86765138e-02, 3.08931475e-01,\n",
        "                                2.16871064e-01, 5.07820931e-02, 1.13246005e-01, 7.94991241e-02,\n",
        "                                1.86153553e-02],\n",
        "                               [4.48200448e-02, 1.22067362e-01, 4.48200458e-02, 1.22067361e-01,\n",
        "                                3.32450377e-01, 1.22067364e-01, 4.48200431e-02, 1.22067358e-01,\n",
        "                                4.48200442e-02],\n",
        "                               [1.86153553e-02, 7.94991211e-02, 1.13246002e-01, 5.07820943e-02,\n",
        "                                2.16871061e-01, 3.08931473e-01, 1.86765152e-02, 7.97603119e-02,\n",
        "                                1.13618066e-01],\n",
        "                               [8.45264525e-02, 1.77150659e-02, 3.49943590e-04, 9.60527754e-02,\n",
        "                                2.01307543e-02, 3.97663123e-04, 6.43333902e-01, 1.34830010e-01,\n",
        "                                2.66343338e-03],\n",
        "                               [4.80277339e-02, 4.49503235e-02, 9.73741061e-03, 5.40704161e-02,\n",
        "                                5.06058167e-02, 1.09625377e-02, 3.65482194e-01, 3.42063669e-01,\n",
        "                                7.40998982e-02],\n",
        "                               [1.82073008e-02, 5.87184255e-02, 2.59142379e-02, 2.03062428e-02,\n",
        "                                6.54874999e-02, 2.89016376e-02, 1.38531450e-01, 4.46763016e-01,\n",
        "                                1.97170189e-01]])\n",
        "             ):\n",
        "\n",
        "        self.t,self.epsilon,self.delta, self.beta, self.gamma,self.alpha,self.A,self.var1,self.var2,self.truelambda,self.zeta,self.r = t,epsilon,delta, beta, gamma,alpha,A,var1,var2,truelambda,zeta,r\n",
        "        self.shocks = shocks\n",
        "        self.transition = transition\n",
        "        \n",
        "\n",
        "        \n",
        "        INC = np.array([18331,20167,21966,23821,25974,28228,30733,32189,35128])\n",
        "        self.AFE = np.array([6.79,6.99,7.22,7.33,7.38,7.54,7.71,7.77,7.89,8,8.06,8.65,9.15,9.65,10.15,10.65,11.15,11.65,12.15,12.65,13.15])\n",
        "        self.EAFE = np.array([14.7,19])\n",
        "        self.VMT = 150\n",
        "        N = np.array([2.98,2.97,3.1,3.11,3.03,3,2.92,2.92,3])\n",
        "        VAT = np.array([0.17,0.17,0.17,0.17,0.17,0.16,0.13,0.13,0.13,0.13,0.13])\n",
        "\n",
        "        CHARGE = np.array([2.2528,3.0914,6.6,23,44.6,77.7,121.9,168.1,261.7])\n",
        "        self.y = self.epsilon*N[self.t]*INC[self.t]+80000\n",
        "        self.vat = VAT[self.t]\n",
        "        self.sub = np.array([0,bev_tax,phev_tax])\n",
        "        self.bt = ifbt*0.1\n",
        "        self.cha = CHARGE[self.t]\n",
        "        \n",
        "    def F(self,i,a,e):\n",
        "        O = e[1]/1000\n",
        "        if i == 0:\n",
        "            F = 0.09*self.y\n",
        "        elif i == 1:\n",
        "            F = self.AFE[a-1]*self.VMT*0.732*O\n",
        "        elif i == 2:\n",
        "            F = self.EAFE[i-2]*self.VMT*0.6\n",
        "        else:\n",
        "            F = (self.EAFE[i-2]*0.6+self.AFE[a-1]*0.732*O)*self.VMT/2\n",
        "\n",
        "        return F\n",
        "\n",
        "\n",
        "    def constraint(self,c,i,a,e):\n",
        "        P0 = e[0]\n",
        "        def Q(i,a):\n",
        "            scrapdis = np.array([0.806225  , 0.756255  , 0.695555  , 0.62868824, 0.5709375 ])\n",
        "            scrapEV = np.array([0.612853333 ,0.62882])\n",
        "            if i == 1:\n",
        "                if a < 6:\n",
        "                    Q = P0*scrapdis[i]\n",
        "                else:\n",
        "                    Q = 10000\n",
        "            elif i == 2 or i == 3:\n",
        "                if a == 1:\n",
        "                    Q = P0*scrapEV[i-2]\n",
        "                else:\n",
        "                    Q = 0\n",
        "            else:\n",
        "                Q = 0\n",
        "\n",
        "            return Q\n",
        "        if c == 0:\n",
        "            con = self.y - self.F(i,a,e)\n",
        "        elif c == 4:\n",
        "            con = self.y - self.F(0,a,e)+Q(i,a)\n",
        "        else:\n",
        "            P = P0*(1+self.bt+self.vat)/(1+self.vat)-self.sub[c-1]*10000\n",
        "            con = self.y - self.F(c,1,e)-P+Q(i,a)\n",
        "\n",
        "        return con\n",
        "\n",
        "    def utility(self,c,i,a,e):\n",
        "        aveage = np.array([10.5,10.5,12.1,12.1,12.9,12.9,12.9,12.9,12.9])\n",
        "        cha = np.array([0,self.cha**self.var1,self.cha**self.var2])\n",
        "        C = self.constraint(c,i,a,e)\n",
        "        if C < 0:\n",
        "            C = 10\n",
        "        if c == 0:\n",
        "            if i == 0:\n",
        "                u = (C/self.truelambda)**(1-self.zeta)/(1-self.zeta)+self.alpha\n",
        "            else:\n",
        "#                 u = 1/(1+np.exp(self.gamma*(a-aveage[self.t])))+(C/self.truelambda)**(1-self.zeta)/(1-self.zeta)\n",
        "                u = a**(-self.gamma)+(C/self.truelambda)**(1-self.zeta)/(1-self.zeta)+self.alpha\n",
        "        elif c == 4:\n",
        "            u = (C/self.truelambda)**(1-self.zeta)/(1-self.zeta)\n",
        "\n",
        "        else:\n",
        "            u = 1+(C/self.truelambda)**(1-self.zeta)/(1-self.zeta)+cha[c-1]\n",
        "\n",
        "        return u\n",
        "\n",
        "@jit(nopython = True)\n",
        "def T(w,ddcm):\n",
        "        Tw = np.zeros((4,ddcm.A,len(ddcm.shocks)))\n",
        "        flag = np.asarray(Tw)\n",
        "        for i in range(4):\n",
        "            for k,e in enumerate(ddcm.shocks):\n",
        "                if i == 0:\n",
        "                    keep = ddcm.utility(0,0,0,e) + ddcm.beta*np.dot(ddcm.transition[k],w[0][0])\n",
        "                    replace1 = ddcm.utility(1,0,1,e) + ddcm.beta*((1-ddcm.delta)*np.dot(ddcm.transition[k],w[1][2])+ddcm.delta*np.dot(ddcm.transition[k],w[0][0]))\n",
        "                    replace2 = ddcm.utility(2,0,1,e) + ddcm.beta*((1-ddcm.delta)*np.dot(ddcm.transition[k],w[2][2])+ddcm.delta*np.dot(ddcm.transition[k],w[0][0]))\n",
        "                    replace3 = ddcm.utility(3,0,1,e) + ddcm.beta*((1-ddcm.delta)*np.dot(ddcm.transition[k],w[3][2])+ddcm.delta*np.dot(ddcm.transition[k],w[0][0]))\n",
        "                    Tw[0][0][k] = max(keep,replace1,replace2,replace3)\n",
        "\n",
        "\n",
        "                else:\n",
        "                    for j in range(1,ddcm.A-1):\n",
        "                        if i == 1:\n",
        "                            keep = ddcm.utility(0,1,j,e) + ddcm.beta*((1-ddcm.delta)*np.dot(ddcm.transition[k],w[i][j+1])+ddcm.delta*np.dot(ddcm.transition[k],w[0][0]))\n",
        "                            replace1 = ddcm.utility(1,1,1,e) + ddcm.beta*((1-ddcm.delta)*np.dot(ddcm.transition[k],w[1][2])+ddcm.delta*np.dot(ddcm.transition[k],w[0][0]))\n",
        "                            replace2 = ddcm.utility(2,1,1,e) + ddcm.beta*((1-ddcm.delta)*np.dot(ddcm.transition[k],w[2][2])+ddcm.delta*np.dot(ddcm.transition[k],w[0][0]))\n",
        "                            replace3 = ddcm.utility(3,1,1,e) + ddcm.beta*((1-ddcm.delta)*np.dot(ddcm.transition[k],w[3][2])+ddcm.delta*np.dot(ddcm.transition[k],w[0][0]))\n",
        "                            scrap = ddcm.utility(4,1,0,e)+ ddcm.beta*np.dot(ddcm.transition[k],w[0][0])\n",
        "                            \n",
        "                            Tw[i][j][k] = max(keep,replace1,replace2,replace3,scrap)\n",
        "\n",
        "                        else:\n",
        "                            keep = ddcm.utility(0,i,j,e) + ddcm.beta*((1-ddcm.delta)*np.dot(ddcm.transition[k],w[i][j+1])+ddcm.delta*np.dot(ddcm.transition[k],w[0][0]))\n",
        "                            scrap = ddcm.utility(4,i,0,e)+ ddcm.beta*np.dot(ddcm.transition[k],w[0][0])\n",
        "                            \n",
        "                            Tw[i][j][k] = max(keep,scrap)\n",
        "                            \n",
        "\n",
        "        return Tw\n",
        "    \n",
        "    \n",
        "@jit(nopython = True)\n",
        "def Prob(ddcm,w):\n",
        "    Prk = np.zeros((4,ddcm.A,len(ddcm.shocks)))\n",
        "    Prr1 = np.zeros((4,ddcm.A,len(ddcm.shocks)))\n",
        "    Prr2 = np.zeros((4,ddcm.A,len(ddcm.shocks)))\n",
        "    Prr3 = np.zeros((4,ddcm.A,len(ddcm.shocks)))\n",
        "    Prs = np.zeros((4,ddcm.A,len(ddcm.shocks)))\n",
        "\n",
        "    for i in range(4):\n",
        "        for k,e in enumerate(ddcm.shocks):\n",
        "            if i == 0:\n",
        "                keep = ddcm.utility(0,0,0,e) + ddcm.beta*np.dot(ddcm.transition[k],w[0][0])\n",
        "                replace1 = ddcm.utility(1,0,1,e) + ddcm.beta*((1-ddcm.delta)*np.dot(ddcm.transition[k],w[1][2])+ddcm.delta*np.dot(ddcm.transition[k],w[0][0]))\n",
        "                replace2 = ddcm.utility(2,0,1,e) + ddcm.beta*((1-ddcm.delta)*np.dot(ddcm.transition[k],w[2][2])+ddcm.delta*np.dot(ddcm.transition[k],w[0][0]))\n",
        "                replace3 = ddcm.utility(3,0,1,e) + ddcm.beta*((1-ddcm.delta)*np.dot(ddcm.transition[k],w[3][2])+ddcm.delta*np.dot(ddcm.transition[k],w[0][0]))\n",
        "\n",
        "                Prk[0][0][k] = np.exp(keep)/(np.exp(keep)+np.exp(replace1)+np.exp(replace2)+np.exp(replace3))\n",
        "                Prr1[0][0][k] = np.exp(replace1)/(np.exp(keep)+np.exp(replace1)+np.exp(replace2)+np.exp(replace3))\n",
        "                Prr2[0][0][k] = np.exp(replace2)/(np.exp(keep)+np.exp(replace1)+np.exp(replace2)+np.exp(replace3))\n",
        "                Prr3[0][0][k] = np.exp(replace3)/(np.exp(keep)+np.exp(replace1)+np.exp(replace2)+np.exp(replace3))\n",
        "\n",
        "\n",
        "            else:\n",
        "                for j in range(1,ddcm.A-1):\n",
        "                    if i == 1:\n",
        "                        keep = ddcm.utility(0,1,j,e) + ddcm.beta*((1-ddcm.delta)*np.dot(ddcm.transition[k],w[i][j+1])+ddcm.delta*np.dot(ddcm.transition[k],w[0][0]))\n",
        "                        replace1 = ddcm.utility(1,1,1,e) + ddcm.beta*((1-ddcm.delta)*np.dot(ddcm.transition[k],w[1][2])+ddcm.delta*np.dot(ddcm.transition[k],w[0][0]))\n",
        "                        replace2 = ddcm.utility(2,1,1,e) + ddcm.beta*((1-ddcm.delta)*np.dot(ddcm.transition[k],w[2][2])+ddcm.delta*np.dot(ddcm.transition[k],w[0][0]))\n",
        "                        replace3 = ddcm.utility(3,1,1,e) + ddcm.beta*((1-ddcm.delta)*np.dot(ddcm.transition[k],w[3][2])+ddcm.delta*np.dot(ddcm.transition[k],w[0][0]))\n",
        "                        scrap = ddcm.utility(4,1,0,e)+ ddcm.beta*np.dot(ddcm.transition[k],w[0][0])\n",
        "\n",
        "                        Prk[1][j][k] = np.exp(keep)/(np.exp(keep)+np.exp(replace1)+np.exp(replace2)+np.exp(replace3)+np.exp(scrap))\n",
        "                        Prr1[1][j][k] = np.exp(replace1)/(np.exp(keep)+np.exp(replace1)+np.exp(replace2)+np.exp(replace3)+np.exp(scrap))\n",
        "                        Prr2[1][j][k] = np.exp(replace2)/(np.exp(keep)+np.exp(replace1)+np.exp(replace2)+np.exp(replace3)+np.exp(scrap))\n",
        "                        Prr3[1][j][k] = np.exp(replace3)/(np.exp(keep)+np.exp(replace1)+np.exp(replace2)+np.exp(replace3)+np.exp(scrap))\n",
        "                        Prs[1][j][k] = np.exp(scrap)/(np.exp(keep)+np.exp(replace1)+np.exp(replace2)+np.exp(replace3)+np.exp(scrap))\n",
        "\n",
        "                    else:\n",
        "                        keep = ddcm.utility(0,i,j,e) + ddcm.beta*((1-ddcm.delta)*np.dot(ddcm.transition[k],w[i][j+1])+ddcm.delta*np.dot(ddcm.transition[k],w[0][0]))\n",
        "                        scrap = ddcm.utility(4,i,0,e)+ ddcm.beta*np.dot(ddcm.transition[k],w[0][0])\n",
        "\n",
        "                        Prk[i][j][k] = np.exp(keep)/(np.exp(keep)+np.exp(scrap))\n",
        "                        Prs[i][j][k] = np.exp(scrap)/(np.exp(keep)+np.exp(scrap))\n",
        "\n",
        "\n",
        "    return  Prk,Prr1 ,Prr2,Prr3 , Prs \n",
        "\n",
        "\n",
        "def solve_model(v,ddcm ,\n",
        "                tol=1e-4,\n",
        "                max_iter=1000,\n",
        "                verbose=False,\n",
        "                print_skip=1):\n",
        "\n",
        "\n",
        "    i = 0\n",
        "    error = tol + 1\n",
        "\n",
        "    while i < max_iter and error > tol:\n",
        "        v_new = T(v,ddcm)\n",
        "        error = np.max(np.abs(v - v_new))\n",
        "        i += 1\n",
        "        if verbose and i % print_skip == 0:\n",
        "            print(f\"Error at iteration {i} is {error}.\")\n",
        "        v = v_new\n",
        "\n",
        "    if i == max_iter:\n",
        "        print(\"Failed to converge!\")\n",
        "\n",
        "    if verbose and i < max_iter:\n",
        "        print(f\"\\nConverged in {i} iterations.\")\n",
        "\n",
        "    return v_new\n",
        "\n"
      ]
    },
    {
      "cell_type": "code",
      "execution_count": null,
      "id": "41559ab4",
      "metadata": {
        "ExecuteTime": {
          "end_time": "2022-06-07T01:33:26.458314Z",
          "start_time": "2022-06-07T01:33:26.442142Z"
        },
        "id": "41559ab4"
      },
      "outputs": [],
      "source": [
        "stock = np.array([10933.09,12670.14,14598.11,16284.45,18574.54,20906.67,23231.22,25376.38,273409.175,301510])#2012\n",
        "evstock = np.array([0,6,21.64,58.32,91.28,153.4,260.78,380.87,492.02,784])#2012\n",
        "agepdf = np.array([[0.201 , 0.18  , 0.169 , 0.16  , 0.164 , 0.1466, 0.1372, 0.1278,\n",
        "    0.1184, 0.109 ],\n",
        "   [0.168 , 0.161 , 0.152 , 0.145 , 0.137 , 0.1292, 0.1214, 0.1136,\n",
        "    0.1058, 0.098 ],\n",
        "   [0.172 , 0.14  , 0.135 , 0.129 , 0.125 , 0.1087, 0.0982, 0.0877,\n",
        "    0.0772, 0.0667],\n",
        "   [0.129 , 0.14  , 0.117 , 0.115 , 0.109 , 0.1025, 0.096 , 0.0895,\n",
        "    0.083 , 0.0765],\n",
        "   [0.081 , 0.11  , 0.118 , 0.1   , 0.098 , 0.1086, 0.111 , 0.1134,\n",
        "    0.1158, 0.1182],\n",
        "   [0.069 , 0.066 , 0.092 , 0.099 , 0.083 , 0.1001, 0.1062, 0.1123,\n",
        "    0.1184, 0.1245],\n",
        "   [0.058 , 0.059 , 0.055 , 0.077 , 0.084 , 0.0876, 0.0946, 0.1016,\n",
        "    0.1086, 0.1156],\n",
        "   [0.042 , 0.047 , 0.048 , 0.046 , 0.064 , 0.0623, 0.0666, 0.0709,\n",
        "    0.0752, 0.0795],\n",
        "   [0.03  , 0.034 , 0.038 , 0.04  , 0.037 , 0.0418, 0.0438, 0.0458,\n",
        "    0.0478, 0.0498],\n",
        "   [0.024 , 0.024 , 0.027 , 0.031 , 0.032 , 0.0345, 0.0368, 0.0391,\n",
        "    0.0414, 0.0437],\n",
        "   [0.013 , 0.019 , 0.019 , 0.022 , 0.024 , 0.0269, 0.0294, 0.0319,\n",
        "    0.0344, 0.0369],\n",
        "   [0.006 , 0.011 , 0.015 , 0.015 , 0.017 , 0.0206, 0.0232, 0.0258,\n",
        "    0.0284, 0.031 ],\n",
        "   [0.004 , 0.005 , 0.008 , 0.012 , 0.011 , 0.0143, 0.0164, 0.0185,\n",
        "    0.0206, 0.0227],\n",
        "   [0.002 , 0.003 , 0.004 , 0.006 , 0.008 , 0.0091, 0.0106, 0.0121,\n",
        "    0.0136, 0.0151],\n",
        "   [0.001 , 0.001 , 0.002 , 0.003 , 0.004 , 0.0046, 0.0054, 0.0062,\n",
        "    0.007 , 0.0078],\n",
        "   [0.    , 0.    , 0.001 , 0.001 , 0.003 , 0.0026, 0.0032, 0.0038,\n",
        "    0.0044, 0.005 ]])\n",
        "\n",
        "def estimate_function(ifbt,bev_tax,phev_tax):\n",
        "#     ifbt = 0\n",
        "    ep = np.array([0.12963452764342645,\n",
        "                    0.39477314210369746,\n",
        "                    0.722465667274827,\n",
        "                    1.1993295554449177,\n",
        "                    2.376092686067955])\n",
        "    t = 7\n",
        "#     phev_tax = 0\n",
        "    VAT = [0.17,0.17,0.17,0.17,0.17,0.16,0.13,0.13,0.13,0.13]\n",
        "    price = np.array([104625.  , 103741.67, 103833.33, 105558.33, 105575.  , 105087.5 ,\n",
        "        113700.  , 114675.  ])\n",
        "#     theta = [7.33086700e+00, 1.17610371e+01, 1.95900904e-01, 6.91557514e-02,\n",
        "#        8.72723806e+05, 2.13174732e+00]\n",
        "    theta = [2.07139266e+01, 5.99218827e-01, 1.87930275e-01, 1.47336089e-01,\n",
        "       1.11396624e+06, 1.71926020e+00]\n",
        "    trstock = [stock[i] - evstock[i] for i in range(len(stock))]\n",
        "    shocklist=[6,6,1,4,2,2,4,6]\n",
        "    predsale = np.empty(2)\n",
        "    predsale1 = np.empty(2)\n",
        "    Pr = 0\n",
        "    for e_i,e in enumerate(ep):\n",
        "        k = shocklist[t]\n",
        "        model = DDCM(ifbt = ifbt,bev_tax = bev_tax,phev_tax = phev_tax,t = t,epsilon = e,alpha = theta[0], beta=0.95, delta = 0.02, gamma = theta[1],A = 16,var1 = theta[2],var2 = theta[3],truelambda = theta[4],zeta = theta[5])\n",
        "        w_guess = np.zeros((4,model.A,len(model.shocks)))\n",
        "        w_star1 = w_inc = solve_model(w_guess,model, print_skip=100)\n",
        "#         Pr = Prob(model,w_star1)\n",
        "        Pr = Pr+np.asarray(Prob(model,w_star1))\n",
        "    Pr = Pr/len(ep)\n",
        "    for j in range (0,2):\n",
        "        frac1 = 0\n",
        "        frac2 = 0\n",
        "        for a in range(1,15):\n",
        "            frac1 += Pr[j+2][1][a+1][k]*(1-model.delta)*agepdf[a][t]\n",
        "            frac2 += Pr[4][1][a+1][k]*agepdf[a][t]\n",
        "        predsale[j] = frac1*trstock[t]+Pr[j+2][0][0][k]*trstock[t]*(model.delta+frac1+frac2)\n",
        "        predsale1[j] = (Pr[j+2][0][0][k]*trstock[t]*(model.delta+frac1+frac2))*10e7\n",
        "        \n",
        "    \n",
        "    cg1 = 55.3\n",
        "    cg2 = 28.1\n",
        "    gs = predsale[0]*bev_tax+predsale[1]*phev_tax\n",
        "#     tax = (predsale[0]+predsale[1])*price[t]*(ifbt*0.1+VAT[t])/(10000*(1+VAT[t]))\n",
        "    tax = (predsale[0]+predsale[1])*price[t]*((1-ifbt)*0.1)/(10000*(1+VAT[t]))\n",
        "#     w = gs-tax+234.468573\n",
        "    w = gs + tax\n",
        "    c = (predsale[0]*cg1+predsale[1]*cg2-(predsale1[0]+predsale1[1])*209)*15/100\n",
        "#     gm = (c-749.022329)/w\n",
        "#     print(predsale)\n",
        "    return c,w"
      ]
    },
    {
      "cell_type": "code",
      "execution_count": null,
      "id": "51e75eec",
      "metadata": {
        "ExecuteTime": {
          "end_time": "2022-06-07T02:56:28.203369Z",
          "start_time": "2022-06-07T02:56:28.187422Z"
        },
        "id": "51e75eec"
      },
      "outputs": [],
      "source": [
        "def estimate_function1(bev_tax):\n",
        "    ifbt = 0\n",
        "    ep = np.array([0.12963452764342645,\n",
        "                    0.39477314210369746,\n",
        "                    0.722465667274827,\n",
        "                    1.1993295554449177,\n",
        "                    2.376092686067955])\n",
        "    t = 7\n",
        "    phev_tax = 0\n",
        "    VAT = [0.17,0.17,0.17,0.17,0.17,0.16,0.13,0.13,0.13,0.13]\n",
        "    price = np.array([104625.  , 103741.67, 103833.33, 105558.33, 105575.  , 105087.5 ,\n",
        "        113700.  , 114675.  ])\n",
        "#     theta = [7.33086700e+00, 1.17610371e+01, 1.95900904e-01, 6.91557514e-02,\n",
        "#        8.72723806e+05, 2.13174732e+00]\n",
        "    theta = [2.07139266e+01, 5.99218827e-01, 1.87930275e-01, 1.47336089e-01,\n",
        "       1.11396624e+06, 1.71926020e+00]\n",
        "    trstock = [stock[i] - evstock[i] for i in range(len(stock))]\n",
        "    shocklist=[6,6,1,4,2,2,4,6]\n",
        "    predsale = np.empty(2)\n",
        "    predsale1 = np.empty(2)\n",
        "    Pr = 0\n",
        "    for e_i,e in enumerate(ep):\n",
        "        k = shocklist[t]\n",
        "        model = DDCM(ifbt = ifbt,bev_tax = bev_tax,phev_tax = phev_tax,t = t,epsilon = e,alpha = theta[0], beta=0.95, delta = 0.02, gamma = theta[1],A = 16,var1 = theta[2],var2 = theta[3],truelambda = theta[4],zeta = theta[5])\n",
        "        w_guess = np.zeros((4,model.A,len(model.shocks)))\n",
        "        w_star1 = w_inc = solve_model(w_guess,model, print_skip=100)\n",
        "#         Pr = Prob(model,w_star1)\n",
        "        Pr = Pr+np.asarray(Prob(model,w_star1))\n",
        "    Pr = Pr/len(ep)\n",
        "    for j in range (0,2):\n",
        "        frac1 = 0\n",
        "        frac2 = 0\n",
        "        for a in range(1,15):\n",
        "            frac1 += Pr[j+2][1][a+1][k]*(1-model.delta)*agepdf[a][t]\n",
        "            frac2 += Pr[4][1][a+1][k]*agepdf[a][t]\n",
        "        predsale[j] = frac1*trstock[t]+Pr[j+2][0][0][k]*trstock[t]*(model.delta+frac1+frac2)\n",
        "        predsale1[j] = (Pr[j+2][0][0][k]*trstock[t]*(model.delta+frac1+frac2))*10e7\n",
        "        \n",
        "    \n",
        "    cg1 = 55.3\n",
        "    cg2 = 28.1\n",
        "    gs = predsale[0]*bev_tax+predsale[1]*phev_tax\n",
        "#     tax = (predsale[0]+predsale[1])*price[t]*(ifbt*0.1+VAT[t])/(10000*(1+VAT[t]))\n",
        "    tax = (predsale[0]+predsale[1])*price[t]*((1-ifbt)*0.1)/(10000*(1+VAT[t]))\n",
        "#     w = gs-tax+234.468573\n",
        "    w = gs + tax\n",
        "    c = (predsale[0]*cg1+predsale[1]*cg2-(predsale1[0]+predsale1[1])*209)*15/100\n",
        "#     gm = (c-749.022329)/w\n",
        "#     print(predsale)\n",
        "    return -(c-399.624943)/w"
      ]
    },
    {
      "cell_type": "code",
      "execution_count": null,
      "id": "739e3e99",
      "metadata": {
        "ExecuteTime": {
          "end_time": "2022-06-07T02:24:58.010959Z",
          "start_time": "2022-06-07T01:33:44.558612Z"
        },
        "id": "739e3e99"
      },
      "outputs": [],
      "source": [
        "N = 50\n",
        "bev_tax = np.linspace(0,5,N)\n",
        "phev_tax = np.linspace(0,2,N)\n",
        "c = np.zeros((2,N,N))\n",
        "w = np.zeros((2,N,N))\n",
        "for i,btax in enumerate(bev_tax):\n",
        "    for j,ptax in enumerate(phev_tax):\n",
        "        for k in range(2):\n",
        "            res = estimate_function(k,btax,ptax)\n",
        "            c[k][i][j],w[k][i][j] = res[0],res[1]\n",
        "# np.save('optimal_carbon_3d_new1.npy',c)\n",
        "# np.save('optimal_w_3d_new1.npy',w)"
      ]
    },
    {
      "cell_type": "code",
      "execution_count": null,
      "id": "607e6e7e",
      "metadata": {
        "ExecuteTime": {
          "end_time": "2022-06-07T02:34:18.009114Z",
          "start_time": "2022-06-07T02:34:18.003134Z"
        },
        "id": "607e6e7e"
      },
      "outputs": [],
      "source": [
        "np.save('optimal_w_3d_new2.npy',w)"
      ]
    },
    {
      "cell_type": "code",
      "execution_count": null,
      "id": "4a4428b5",
      "metadata": {
        "ExecuteTime": {
          "end_time": "2022-06-07T02:56:47.461083Z",
          "start_time": "2022-06-07T02:56:36.416646Z"
        },
        "id": "4a4428b5",
        "outputId": "46dee2aa-3555-423d-e161-3e4003aa5a09"
      },
      "outputs": [
        {
          "data": {
            "text/plain": [
              "     fun: -1.0371530768516353\n",
              "    nfev: 19\n",
              "     nit: 15\n",
              " success: True\n",
              "       x: 0.8231924319631744"
            ]
          },
          "execution_count": 8,
          "metadata": {},
          "output_type": "execute_result"
        }
      ],
      "source": [
        "minimize_scalar(estimate_function1,method = 'brent')"
      ]
    },
    {
      "cell_type": "code",
      "execution_count": null,
      "id": "4d7ed766",
      "metadata": {
        "ExecuteTime": {
          "end_time": "2022-04-26T13:58:41.511848Z",
          "start_time": "2022-04-26T13:58:40.969574Z"
        },
        "id": "4d7ed766",
        "outputId": "252d6677-be5c-49f4-aa3d-c5cf5b059f40"
      },
      "outputs": [
        {
          "data": {
            "text/plain": [
              "-80.51081636372072"
            ]
          },
          "execution_count": 39,
          "metadata": {},
          "output_type": "execute_result"
        }
      ],
      "source": [
        "estimate_function(1,0.7096134930605741)"
      ]
    },
    {
      "cell_type": "code",
      "execution_count": null,
      "id": "c82e4e0d",
      "metadata": {
        "ExecuteTime": {
          "end_time": "2022-04-26T13:55:52.263618Z",
          "start_time": "2022-04-26T13:55:42.748445Z"
        },
        "id": "c82e4e0d",
        "outputId": "a5945996-9c7e-47f4-d0ef-d111b0773705"
      },
      "outputs": [
        {
          "data": {
            "text/plain": [
              "     fun: -1.9086137426290193\n",
              "    nfev: 18\n",
              "     nit: 14\n",
              " success: True\n",
              "       x: 0.619978094277873"
            ]
          },
          "execution_count": 37,
          "metadata": {},
          "output_type": "execute_result"
        }
      ],
      "source": [
        "minimize_scalar(estimate_function,method = 'brent')"
      ]
    },
    {
      "cell_type": "code",
      "execution_count": null,
      "id": "08fe9643",
      "metadata": {
        "ExecuteTime": {
          "end_time": "2022-04-26T13:59:14.957146Z",
          "start_time": "2022-04-26T13:59:14.415190Z"
        },
        "id": "08fe9643",
        "outputId": "75bf40e7-aa37-4693-89e9-f2c8e23bdddc"
      },
      "outputs": [
        {
          "data": {
            "text/plain": [
              "-206.93286573972574"
            ]
          },
          "execution_count": 40,
          "metadata": {},
          "output_type": "execute_result"
        }
      ],
      "source": [
        "estimate_function(0,0.619978094277873)"
      ]
    },
    {
      "cell_type": "code",
      "execution_count": null,
      "id": "6defa3ca",
      "metadata": {
        "ExecuteTime": {
          "end_time": "2022-04-26T10:02:15.568066Z",
          "start_time": "2022-04-26T10:01:21.060725Z"
        },
        "id": "6defa3ca"
      },
      "outputs": [],
      "source": [
        "N = 50\n",
        "bev_tax = np.linspace(0,5,N)\n",
        "phev_tax = np.linspace(0,2,N)\n",
        "c = np.zeros((2,N,N))\n",
        "w = np.zeros((2,N,N))\n",
        "j = 0\n",
        "ptax = 0.5\n",
        "for i,btax in enumerate(bev_tax):\n",
        "#     for j,ptax in enumerate(phev_tax):\n",
        "    for k in range(2):\n",
        "        res = estimate_function(k,btax,ptax)\n",
        "        c[k][i][j],w[k][i][j] = res[0],res[1]"
      ]
    },
    {
      "cell_type": "code",
      "execution_count": null,
      "id": "197196d9",
      "metadata": {
        "ExecuteTime": {
          "end_time": "2022-04-09T02:59:56.830131Z",
          "start_time": "2022-04-09T02:59:56.824915Z"
        },
        "id": "197196d9",
        "outputId": "04c8e488-c6c7-4dc2-aa98-72a1143617ba"
      },
      "outputs": [
        {
          "data": {
            "text/plain": [
              "array([0.        , 0.08163265, 0.16326531, 0.24489796, 0.32653061,\n",
              "       0.40816327, 0.48979592, 0.57142857, 0.65306122, 0.73469388,\n",
              "       0.81632653, 0.89795918, 0.97959184, 1.06122449, 1.14285714,\n",
              "       1.2244898 , 1.30612245, 1.3877551 , 1.46938776, 1.55102041,\n",
              "       1.63265306, 1.71428571, 1.79591837, 1.87755102, 1.95918367,\n",
              "       2.04081633, 2.12244898, 2.20408163, 2.28571429, 2.36734694,\n",
              "       2.44897959, 2.53061224, 2.6122449 , 2.69387755, 2.7755102 ,\n",
              "       2.85714286, 2.93877551, 3.02040816, 3.10204082, 3.18367347,\n",
              "       3.26530612, 3.34693878, 3.42857143, 3.51020408, 3.59183673,\n",
              "       3.67346939, 3.75510204, 3.83673469, 3.91836735, 4.        ])"
            ]
          },
          "execution_count": 18,
          "metadata": {},
          "output_type": "execute_result"
        }
      ],
      "source": [
        "bev_tax"
      ]
    },
    {
      "cell_type": "code",
      "execution_count": null,
      "id": "d54b0124",
      "metadata": {
        "ExecuteTime": {
          "end_time": "2022-04-09T02:12:24.456731Z",
          "start_time": "2022-04-09T02:12:23.914991Z"
        },
        "id": "d54b0124",
        "outputId": "700c418d-70ba-4b20-9fc6-efec4beffb5d"
      },
      "outputs": [
        {
          "data": {
            "text/plain": [
              "(1074.3732949495293, -88.75660590297005)"
            ]
          },
          "execution_count": 13,
          "metadata": {},
          "output_type": "execute_result"
        }
      ],
      "source": [
        "estimate_function(1,2,0.4)"
      ]
    },
    {
      "cell_type": "code",
      "execution_count": null,
      "id": "1ce966af",
      "metadata": {
        "ExecuteTime": {
          "end_time": "2022-04-09T03:00:07.387551Z",
          "start_time": "2022-04-09T03:00:07.376588Z"
        },
        "id": "1ce966af",
        "outputId": "eb721bd2-c6df-43e1-b73a-186afbf40b42"
      },
      "outputs": [
        {
          "data": {
            "text/plain": [
              "731.512593852735"
            ]
          },
          "execution_count": 19,
          "metadata": {},
          "output_type": "execute_result"
        }
      ],
      "source": [
        "c[1][5][2]"
      ]
    },
    {
      "cell_type": "code",
      "execution_count": null,
      "id": "5f68d0db",
      "metadata": {
        "ExecuteTime": {
          "end_time": "2022-04-08T15:08:10.105346Z",
          "start_time": "2022-04-08T15:08:10.091016Z"
        },
        "id": "5f68d0db",
        "outputId": "9410c43d-5d19-4c06-9662-27db3575604e"
      },
      "outputs": [
        {
          "data": {
            "text/plain": [
              "array([0.        , 0.004004  , 0.00800801, 0.01201201, 0.01601602,\n",
              "       0.02002002, 0.02402402, 0.02802803, 0.03203203, 0.03603604,\n",
              "       0.04004004, 0.04404404, 0.04804805, 0.05205205, 0.05605606,\n",
              "       0.06006006, 0.06406406, 0.06806807, 0.07207207, 0.07607608,\n",
              "       0.08008008, 0.08408408, 0.08808809, 0.09209209, 0.0960961 ,\n",
              "       0.1001001 , 0.1041041 , 0.10810811, 0.11211211, 0.11611612,\n",
              "       0.12012012, 0.12412412, 0.12812813, 0.13213213, 0.13613614,\n",
              "       0.14014014, 0.14414414, 0.14814815, 0.15215215, 0.15615616,\n",
              "       0.16016016, 0.16416416, 0.16816817, 0.17217217, 0.17617618,\n",
              "       0.18018018, 0.18418418, 0.18818819, 0.19219219, 0.1961962 ,\n",
              "       0.2002002 , 0.2042042 , 0.20820821, 0.21221221, 0.21621622,\n",
              "       0.22022022, 0.22422422, 0.22822823, 0.23223223, 0.23623624,\n",
              "       0.24024024, 0.24424424, 0.24824825, 0.25225225, 0.25625626,\n",
              "       0.26026026, 0.26426426, 0.26826827, 0.27227227, 0.27627628,\n",
              "       0.28028028, 0.28428428, 0.28828829, 0.29229229, 0.2962963 ,\n",
              "       0.3003003 , 0.3043043 , 0.30830831, 0.31231231, 0.31631632,\n",
              "       0.32032032, 0.32432432, 0.32832833, 0.33233233, 0.33633634,\n",
              "       0.34034034, 0.34434434, 0.34834835, 0.35235235, 0.35635636,\n",
              "       0.36036036, 0.36436436, 0.36836837, 0.37237237, 0.37637638,\n",
              "       0.38038038, 0.38438438, 0.38838839, 0.39239239, 0.3963964 ,\n",
              "       0.4004004 , 0.4044044 , 0.40840841, 0.41241241, 0.41641642,\n",
              "       0.42042042, 0.42442442, 0.42842843, 0.43243243, 0.43643644,\n",
              "       0.44044044, 0.44444444, 0.44844845, 0.45245245, 0.45645646,\n",
              "       0.46046046, 0.46446446, 0.46846847, 0.47247247, 0.47647648,\n",
              "       0.48048048, 0.48448448, 0.48848849, 0.49249249, 0.4964965 ,\n",
              "       0.5005005 , 0.5045045 , 0.50850851, 0.51251251, 0.51651652,\n",
              "       0.52052052, 0.52452452, 0.52852853, 0.53253253, 0.53653654,\n",
              "       0.54054054, 0.54454454, 0.54854855, 0.55255255, 0.55655656,\n",
              "       0.56056056, 0.56456456, 0.56856857, 0.57257257, 0.57657658,\n",
              "       0.58058058, 0.58458458, 0.58858859, 0.59259259, 0.5965966 ,\n",
              "       0.6006006 , 0.6046046 , 0.60860861, 0.61261261, 0.61661662,\n",
              "       0.62062062, 0.62462462, 0.62862863, 0.63263263, 0.63663664,\n",
              "       0.64064064, 0.64464464, 0.64864865, 0.65265265, 0.65665666,\n",
              "       0.66066066, 0.66466466, 0.66866867, 0.67267267, 0.67667668,\n",
              "       0.68068068, 0.68468468, 0.68868869, 0.69269269, 0.6966967 ,\n",
              "       0.7007007 , 0.7047047 , 0.70870871, 0.71271271, 0.71671672,\n",
              "       0.72072072, 0.72472472, 0.72872873, 0.73273273, 0.73673674,\n",
              "       0.74074074, 0.74474474, 0.74874875, 0.75275275, 0.75675676,\n",
              "       0.76076076, 0.76476476, 0.76876877, 0.77277277, 0.77677678,\n",
              "       0.78078078, 0.78478478, 0.78878879, 0.79279279, 0.7967968 ,\n",
              "       0.8008008 , 0.8048048 , 0.80880881, 0.81281281, 0.81681682,\n",
              "       0.82082082, 0.82482482, 0.82882883, 0.83283283, 0.83683684,\n",
              "       0.84084084, 0.84484484, 0.84884885, 0.85285285, 0.85685686,\n",
              "       0.86086086, 0.86486486, 0.86886887, 0.87287287, 0.87687688,\n",
              "       0.88088088, 0.88488488, 0.88888889, 0.89289289, 0.8968969 ,\n",
              "       0.9009009 , 0.9049049 , 0.90890891, 0.91291291, 0.91691692,\n",
              "       0.92092092, 0.92492492, 0.92892893, 0.93293293, 0.93693694,\n",
              "       0.94094094, 0.94494494, 0.94894895, 0.95295295, 0.95695696,\n",
              "       0.96096096, 0.96496496, 0.96896897, 0.97297297, 0.97697698,\n",
              "       0.98098098, 0.98498498, 0.98898899, 0.99299299, 0.996997  ,\n",
              "       1.001001  , 1.00500501, 1.00900901, 1.01301301, 1.01701702,\n",
              "       1.02102102, 1.02502503, 1.02902903, 1.03303303, 1.03703704,\n",
              "       1.04104104, 1.04504505, 1.04904905, 1.05305305, 1.05705706,\n",
              "       1.06106106, 1.06506507, 1.06906907, 1.07307307, 1.07707708,\n",
              "       1.08108108, 1.08508509, 1.08908909, 1.09309309, 1.0970971 ,\n",
              "       1.1011011 , 1.10510511, 1.10910911, 1.11311311, 1.11711712,\n",
              "       1.12112112, 1.12512513, 1.12912913, 1.13313313, 1.13713714,\n",
              "       1.14114114, 1.14514515, 1.14914915, 1.15315315, 1.15715716,\n",
              "       1.16116116, 1.16516517, 1.16916917, 1.17317317, 1.17717718,\n",
              "       1.18118118, 1.18518519, 1.18918919, 1.19319319, 1.1971972 ,\n",
              "       1.2012012 , 1.20520521, 1.20920921, 1.21321321, 1.21721722,\n",
              "       1.22122122, 1.22522523, 1.22922923, 1.23323323, 1.23723724,\n",
              "       1.24124124, 1.24524525, 1.24924925, 1.25325325, 1.25725726,\n",
              "       1.26126126, 1.26526527, 1.26926927, 1.27327327, 1.27727728,\n",
              "       1.28128128, 1.28528529, 1.28928929, 1.29329329, 1.2972973 ,\n",
              "       1.3013013 , 1.30530531, 1.30930931, 1.31331331, 1.31731732,\n",
              "       1.32132132, 1.32532533, 1.32932933, 1.33333333, 1.33733734,\n",
              "       1.34134134, 1.34534535, 1.34934935, 1.35335335, 1.35735736,\n",
              "       1.36136136, 1.36536537, 1.36936937, 1.37337337, 1.37737738,\n",
              "       1.38138138, 1.38538539, 1.38938939, 1.39339339, 1.3973974 ,\n",
              "       1.4014014 , 1.40540541, 1.40940941, 1.41341341, 1.41741742,\n",
              "       1.42142142, 1.42542543, 1.42942943, 1.43343343, 1.43743744,\n",
              "       1.44144144, 1.44544545, 1.44944945, 1.45345345, 1.45745746,\n",
              "       1.46146146, 1.46546547, 1.46946947, 1.47347347, 1.47747748,\n",
              "       1.48148148, 1.48548549, 1.48948949, 1.49349349, 1.4974975 ,\n",
              "       1.5015015 , 1.50550551, 1.50950951, 1.51351351, 1.51751752,\n",
              "       1.52152152, 1.52552553, 1.52952953, 1.53353353, 1.53753754,\n",
              "       1.54154154, 1.54554555, 1.54954955, 1.55355355, 1.55755756,\n",
              "       1.56156156, 1.56556557, 1.56956957, 1.57357357, 1.57757758,\n",
              "       1.58158158, 1.58558559, 1.58958959, 1.59359359, 1.5975976 ,\n",
              "       1.6016016 , 1.60560561, 1.60960961, 1.61361361, 1.61761762,\n",
              "       1.62162162, 1.62562563, 1.62962963, 1.63363363, 1.63763764,\n",
              "       1.64164164, 1.64564565, 1.64964965, 1.65365365, 1.65765766,\n",
              "       1.66166166, 1.66566567, 1.66966967, 1.67367367, 1.67767768,\n",
              "       1.68168168, 1.68568569, 1.68968969, 1.69369369, 1.6976977 ,\n",
              "       1.7017017 , 1.70570571, 1.70970971, 1.71371371, 1.71771772,\n",
              "       1.72172172, 1.72572573, 1.72972973, 1.73373373, 1.73773774,\n",
              "       1.74174174, 1.74574575, 1.74974975, 1.75375375, 1.75775776,\n",
              "       1.76176176, 1.76576577, 1.76976977, 1.77377377, 1.77777778,\n",
              "       1.78178178, 1.78578579, 1.78978979, 1.79379379, 1.7977978 ,\n",
              "       1.8018018 , 1.80580581, 1.80980981, 1.81381381, 1.81781782,\n",
              "       1.82182182, 1.82582583, 1.82982983, 1.83383383, 1.83783784,\n",
              "       1.84184184, 1.84584585, 1.84984985, 1.85385385, 1.85785786,\n",
              "       1.86186186, 1.86586587, 1.86986987, 1.87387387, 1.87787788,\n",
              "       1.88188188, 1.88588589, 1.88988989, 1.89389389, 1.8978979 ,\n",
              "       1.9019019 , 1.90590591, 1.90990991, 1.91391391, 1.91791792,\n",
              "       1.92192192, 1.92592593, 1.92992993, 1.93393393, 1.93793794,\n",
              "       1.94194194, 1.94594595, 1.94994995, 1.95395395, 1.95795796,\n",
              "       1.96196196, 1.96596597, 1.96996997, 1.97397397, 1.97797798,\n",
              "       1.98198198, 1.98598599, 1.98998999, 1.99399399, 1.997998  ,\n",
              "       2.002002  , 2.00600601, 2.01001001, 2.01401401, 2.01801802,\n",
              "       2.02202202, 2.02602603, 2.03003003, 2.03403403, 2.03803804,\n",
              "       2.04204204, 2.04604605, 2.05005005, 2.05405405, 2.05805806,\n",
              "       2.06206206, 2.06606607, 2.07007007, 2.07407407, 2.07807808,\n",
              "       2.08208208, 2.08608609, 2.09009009, 2.09409409, 2.0980981 ,\n",
              "       2.1021021 , 2.10610611, 2.11011011, 2.11411411, 2.11811812,\n",
              "       2.12212212, 2.12612613, 2.13013013, 2.13413413, 2.13813814,\n",
              "       2.14214214, 2.14614615, 2.15015015, 2.15415415, 2.15815816,\n",
              "       2.16216216, 2.16616617, 2.17017017, 2.17417417, 2.17817818,\n",
              "       2.18218218, 2.18618619, 2.19019019, 2.19419419, 2.1981982 ,\n",
              "       2.2022022 , 2.20620621, 2.21021021, 2.21421421, 2.21821822,\n",
              "       2.22222222, 2.22622623, 2.23023023, 2.23423423, 2.23823824,\n",
              "       2.24224224, 2.24624625, 2.25025025, 2.25425425, 2.25825826,\n",
              "       2.26226226, 2.26626627, 2.27027027, 2.27427427, 2.27827828,\n",
              "       2.28228228, 2.28628629, 2.29029029, 2.29429429, 2.2982983 ,\n",
              "       2.3023023 , 2.30630631, 2.31031031, 2.31431431, 2.31831832,\n",
              "       2.32232232, 2.32632633, 2.33033033, 2.33433433, 2.33833834,\n",
              "       2.34234234, 2.34634635, 2.35035035, 2.35435435, 2.35835836,\n",
              "       2.36236236, 2.36636637, 2.37037037, 2.37437437, 2.37837838,\n",
              "       2.38238238, 2.38638639, 2.39039039, 2.39439439, 2.3983984 ,\n",
              "       2.4024024 , 2.40640641, 2.41041041, 2.41441441, 2.41841842,\n",
              "       2.42242242, 2.42642643, 2.43043043, 2.43443443, 2.43843844,\n",
              "       2.44244244, 2.44644645, 2.45045045, 2.45445445, 2.45845846,\n",
              "       2.46246246, 2.46646647, 2.47047047, 2.47447447, 2.47847848,\n",
              "       2.48248248, 2.48648649, 2.49049049, 2.49449449, 2.4984985 ,\n",
              "       2.5025025 , 2.50650651, 2.51051051, 2.51451451, 2.51851852,\n",
              "       2.52252252, 2.52652653, 2.53053053, 2.53453453, 2.53853854,\n",
              "       2.54254254, 2.54654655, 2.55055055, 2.55455455, 2.55855856,\n",
              "       2.56256256, 2.56656657, 2.57057057, 2.57457457, 2.57857858,\n",
              "       2.58258258, 2.58658659, 2.59059059, 2.59459459, 2.5985986 ,\n",
              "       2.6026026 , 2.60660661, 2.61061061, 2.61461461, 2.61861862,\n",
              "       2.62262262, 2.62662663, 2.63063063, 2.63463463, 2.63863864,\n",
              "       2.64264264, 2.64664665, 2.65065065, 2.65465465, 2.65865866,\n",
              "       2.66266266, 2.66666667, 2.67067067, 2.67467467, 2.67867868,\n",
              "       2.68268268, 2.68668669, 2.69069069, 2.69469469, 2.6986987 ,\n",
              "       2.7027027 , 2.70670671, 2.71071071, 2.71471471, 2.71871872,\n",
              "       2.72272272, 2.72672673, 2.73073073, 2.73473473, 2.73873874,\n",
              "       2.74274274, 2.74674675, 2.75075075, 2.75475475, 2.75875876,\n",
              "       2.76276276, 2.76676677, 2.77077077, 2.77477477, 2.77877878,\n",
              "       2.78278278, 2.78678679, 2.79079079, 2.79479479, 2.7987988 ,\n",
              "       2.8028028 , 2.80680681, 2.81081081, 2.81481481, 2.81881882,\n",
              "       2.82282282, 2.82682683, 2.83083083, 2.83483483, 2.83883884,\n",
              "       2.84284284, 2.84684685, 2.85085085, 2.85485485, 2.85885886,\n",
              "       2.86286286, 2.86686687, 2.87087087, 2.87487487, 2.87887888,\n",
              "       2.88288288, 2.88688689, 2.89089089, 2.89489489, 2.8988989 ,\n",
              "       2.9029029 , 2.90690691, 2.91091091, 2.91491491, 2.91891892,\n",
              "       2.92292292, 2.92692693, 2.93093093, 2.93493493, 2.93893894,\n",
              "       2.94294294, 2.94694695, 2.95095095, 2.95495495, 2.95895896,\n",
              "       2.96296296, 2.96696697, 2.97097097, 2.97497497, 2.97897898,\n",
              "       2.98298298, 2.98698699, 2.99099099, 2.99499499, 2.998999  ,\n",
              "       3.003003  , 3.00700701, 3.01101101, 3.01501502, 3.01901902,\n",
              "       3.02302302, 3.02702703, 3.03103103, 3.03503504, 3.03903904,\n",
              "       3.04304304, 3.04704705, 3.05105105, 3.05505506, 3.05905906,\n",
              "       3.06306306, 3.06706707, 3.07107107, 3.07507508, 3.07907908,\n",
              "       3.08308308, 3.08708709, 3.09109109, 3.0950951 , 3.0990991 ,\n",
              "       3.1031031 , 3.10710711, 3.11111111, 3.11511512, 3.11911912,\n",
              "       3.12312312, 3.12712713, 3.13113113, 3.13513514, 3.13913914,\n",
              "       3.14314314, 3.14714715, 3.15115115, 3.15515516, 3.15915916,\n",
              "       3.16316316, 3.16716717, 3.17117117, 3.17517518, 3.17917918,\n",
              "       3.18318318, 3.18718719, 3.19119119, 3.1951952 , 3.1991992 ,\n",
              "       3.2032032 , 3.20720721, 3.21121121, 3.21521522, 3.21921922,\n",
              "       3.22322322, 3.22722723, 3.23123123, 3.23523524, 3.23923924,\n",
              "       3.24324324, 3.24724725, 3.25125125, 3.25525526, 3.25925926,\n",
              "       3.26326326, 3.26726727, 3.27127127, 3.27527528, 3.27927928,\n",
              "       3.28328328, 3.28728729, 3.29129129, 3.2952953 , 3.2992993 ,\n",
              "       3.3033033 , 3.30730731, 3.31131131, 3.31531532, 3.31931932,\n",
              "       3.32332332, 3.32732733, 3.33133133, 3.33533534, 3.33933934,\n",
              "       3.34334334, 3.34734735, 3.35135135, 3.35535536, 3.35935936,\n",
              "       3.36336336, 3.36736737, 3.37137137, 3.37537538, 3.37937938,\n",
              "       3.38338338, 3.38738739, 3.39139139, 3.3953954 , 3.3993994 ,\n",
              "       3.4034034 , 3.40740741, 3.41141141, 3.41541542, 3.41941942,\n",
              "       3.42342342, 3.42742743, 3.43143143, 3.43543544, 3.43943944,\n",
              "       3.44344344, 3.44744745, 3.45145145, 3.45545546, 3.45945946,\n",
              "       3.46346346, 3.46746747, 3.47147147, 3.47547548, 3.47947948,\n",
              "       3.48348348, 3.48748749, 3.49149149, 3.4954955 , 3.4994995 ,\n",
              "       3.5035035 , 3.50750751, 3.51151151, 3.51551552, 3.51951952,\n",
              "       3.52352352, 3.52752753, 3.53153153, 3.53553554, 3.53953954,\n",
              "       3.54354354, 3.54754755, 3.55155155, 3.55555556, 3.55955956,\n",
              "       3.56356356, 3.56756757, 3.57157157, 3.57557558, 3.57957958,\n",
              "       3.58358358, 3.58758759, 3.59159159, 3.5955956 , 3.5995996 ,\n",
              "       3.6036036 , 3.60760761, 3.61161161, 3.61561562, 3.61961962,\n",
              "       3.62362362, 3.62762763, 3.63163163, 3.63563564, 3.63963964,\n",
              "       3.64364364, 3.64764765, 3.65165165, 3.65565566, 3.65965966,\n",
              "       3.66366366, 3.66766767, 3.67167167, 3.67567568, 3.67967968,\n",
              "       3.68368368, 3.68768769, 3.69169169, 3.6956957 , 3.6996997 ,\n",
              "       3.7037037 , 3.70770771, 3.71171171, 3.71571572, 3.71971972,\n",
              "       3.72372372, 3.72772773, 3.73173173, 3.73573574, 3.73973974,\n",
              "       3.74374374, 3.74774775, 3.75175175, 3.75575576, 3.75975976,\n",
              "       3.76376376, 3.76776777, 3.77177177, 3.77577578, 3.77977978,\n",
              "       3.78378378, 3.78778779, 3.79179179, 3.7957958 , 3.7997998 ,\n",
              "       3.8038038 , 3.80780781, 3.81181181, 3.81581582, 3.81981982,\n",
              "       3.82382382, 3.82782783, 3.83183183, 3.83583584, 3.83983984,\n",
              "       3.84384384, 3.84784785, 3.85185185, 3.85585586, 3.85985986,\n",
              "       3.86386386, 3.86786787, 3.87187187, 3.87587588, 3.87987988,\n",
              "       3.88388388, 3.88788789, 3.89189189, 3.8958959 , 3.8998999 ,\n",
              "       3.9039039 , 3.90790791, 3.91191191, 3.91591592, 3.91991992,\n",
              "       3.92392392, 3.92792793, 3.93193193, 3.93593594, 3.93993994,\n",
              "       3.94394394, 3.94794795, 3.95195195, 3.95595596, 3.95995996,\n",
              "       3.96396396, 3.96796797, 3.97197197, 3.97597598, 3.97997998,\n",
              "       3.98398398, 3.98798799, 3.99199199, 3.995996  , 4.        ])"
            ]
          },
          "execution_count": 65,
          "metadata": {},
          "output_type": "execute_result"
        }
      ],
      "source": [
        "bev_tax"
      ]
    },
    {
      "cell_type": "code",
      "execution_count": null,
      "id": "bc1bd6e9",
      "metadata": {
        "ExecuteTime": {
          "end_time": "2022-04-08T15:07:36.835283Z",
          "start_time": "2022-04-08T15:07:36.828339Z"
        },
        "id": "bc1bd6e9"
      },
      "outputs": [],
      "source": [
        "np.save('optimal_carbon.npy',c)\n",
        "np.save('optimal_w.npy',w)"
      ]
    },
    {
      "cell_type": "code",
      "execution_count": null,
      "id": "2dd9853e",
      "metadata": {
        "ExecuteTime": {
          "end_time": "2022-04-26T10:03:21.585595Z",
          "start_time": "2022-04-26T10:03:21.482911Z"
        },
        "id": "2dd9853e",
        "outputId": "041651a5-3dbe-4a3d-9133-506a488cb7cd"
      },
      "outputs": [
        {
          "data": {
            "text/plain": [
              "[<matplotlib.lines.Line2D at 0x21cfaf643d0>]"
            ]
          },
          "execution_count": 16,
          "metadata": {},
          "output_type": "execute_result"
        },
        {
          "data": {
            "image/png": "[encoded data removed]",
            "text/plain": [
              "<Figure size 432x288 with 1 Axes>"
            ]
          },
          "metadata": {
            "needs_background": "light"
          },
          "output_type": "display_data"
        }
      ],
      "source": [
        "plt.plot(bev_tax,c[0,:,0]-399.624943)\n",
        "plt.plot(bev_tax,c[1,:,0]-399.624943)"
      ]
    },
    {
      "cell_type": "code",
      "execution_count": null,
      "id": "90a68b08",
      "metadata": {
        "ExecuteTime": {
          "end_time": "2022-04-26T10:04:49.065055Z",
          "start_time": "2022-04-26T10:04:48.973732Z"
        },
        "id": "90a68b08",
        "outputId": "6f31466d-5f26-407e-adb8-fbe805ca39f6"
      },
      "outputs": [
        {
          "data": {
            "text/plain": [
              "[<matplotlib.lines.Line2D at 0x21cfb429280>]"
            ]
          },
          "execution_count": 20,
          "metadata": {},
          "output_type": "execute_result"
        },
        {
          "data": {
            "image/png": "[encoded data removed]",
            "text/plain": [
              "<Figure size 432x288 with 1 Axes>"
            ]
          },
          "metadata": {
            "needs_background": "light"
          },
          "output_type": "display_data"
        }
      ],
      "source": [
        "plt.plot(bev_tax,(c[0,:,0]-399.624943)/(w[0,:,0]+216.707552))\n",
        "plt.plot(bev_tax,(c[1,:,0]-399.624943)/(w[1,:,0]+216.707552))"
      ]
    },
    {
      "cell_type": "code",
      "execution_count": null,
      "id": "7f7658dd",
      "metadata": {
        "ExecuteTime": {
          "end_time": "2022-04-08T15:15:47.400214Z",
          "start_time": "2022-04-08T15:15:47.391242Z"
        },
        "id": "7f7658dd",
        "outputId": "3fb493e1-65fa-4338-fefc-4f65c1382b3d"
      },
      "outputs": [
        {
          "data": {
            "text/plain": [
              "299"
            ]
          },
          "execution_count": 89,
          "metadata": {},
          "output_type": "execute_result"
        }
      ],
      "source": [
        "np.argmax((c[1]-666.416089)/(w[1]+229.468573))"
      ]
    },
    {
      "cell_type": "code",
      "execution_count": null,
      "id": "c7d8882c",
      "metadata": {
        "ExecuteTime": {
          "end_time": "2022-04-08T15:15:52.972829Z",
          "start_time": "2022-04-08T15:15:52.942262Z"
        },
        "id": "c7d8882c",
        "outputId": "2f666560-dc14-43db-b01c-93f0d524c158"
      },
      "outputs": [
        {
          "data": {
            "text/plain": [
              "1.197197197197197"
            ]
          },
          "execution_count": 90,
          "metadata": {},
          "output_type": "execute_result"
        }
      ],
      "source": [
        "bev_tax[299]"
      ]
    },
    {
      "cell_type": "code",
      "execution_count": null,
      "id": "30e44505",
      "metadata": {
        "ExecuteTime": {
          "end_time": "2022-04-08T14:38:56.438179Z",
          "start_time": "2022-04-08T14:38:56.430007Z"
        },
        "id": "30e44505",
        "outputId": "3066a8c9-6c06-490d-b9dc-703eb58e8d6e"
      },
      "outputs": [
        {
          "data": {
            "text/plain": [
              "array([  3.76102136,   4.78725855,   5.83604955,   6.9077499 ,\n",
              "         8.00272077,   9.12132898,  10.26394708,  11.43095336,\n",
              "        12.62273192,  13.8396727 ,  15.08217148,  16.35062996,\n",
              "        17.64545578,  18.9670625 ,  20.31586968,  21.69230285,\n",
              "        23.09679356,  24.52977935,  25.9917038 ,  27.48301648,\n",
              "        29.004173  ,  30.55563496,  32.13786994,  33.75135153,\n",
              "        35.39655923,  37.07397849,  38.78410065,  40.52742289,\n",
              "        42.30444823,  44.11568541,  45.96164893,  47.84285891,\n",
              "        49.75984106,  51.7131266 ,  53.70325221,  55.73075993,\n",
              "        57.79619703,  59.90011602,  62.04307443,  64.22563481,\n",
              "        66.44836455,  68.71183577,  71.01662526,  73.36331426,\n",
              "        75.7524884 ,  78.18473751,  80.6606555 ,  83.18084021,\n",
              "        85.74589323,  88.35641978,  91.01302848,  93.71633123,\n",
              "        96.466943  ,  99.26548167, 102.11256781, 105.00882451,\n",
              "       107.95487719, 110.95135336, 113.99888244, 117.09809555,\n",
              "       120.24962527, 123.45410547, 126.71217101, 130.0244576 ,\n",
              "       133.3916015 , 136.81423934, 140.29300786, 143.82854368,\n",
              "       147.42148304, 151.07246161, 154.78211421, 158.55107457,\n",
              "       162.37997511, 166.26944668, 170.22011832, 174.23261701,\n",
              "       178.30756745, 182.4455918 , 186.64730945, 190.91333677,\n",
              "       195.2442869 , 199.64076949, 204.10339047, 208.63275185,\n",
              "       213.22945145, 217.89408273, 222.62723453, 227.42949089,\n",
              "       232.30143082, 237.24362809, 242.25665105, 247.34106244,\n",
              "       252.49741917, 257.72627219, 263.02816625, 268.40363977,\n",
              "       273.85322469, 279.37744627, 284.97682296, 290.65186626])"
            ]
          },
          "execution_count": 53,
          "metadata": {},
          "output_type": "execute_result"
        }
      ],
      "source": [
        "gm[1]+220.468573"
      ]
    },
    {
      "cell_type": "code",
      "execution_count": null,
      "id": "0cde83ca",
      "metadata": {
        "id": "0cde83ca"
      },
      "outputs": [],
      "source": []
    },
    {
      "cell_type": "code",
      "execution_count": null,
      "id": "bd2f5f84",
      "metadata": {
        "ExecuteTime": {
          "end_time": "2022-04-08T12:13:28.419024Z",
          "start_time": "2022-04-08T12:13:28.410419Z"
        },
        "id": "bd2f5f84",
        "outputId": "9835e5e0-9f87-4fa2-9eab-d9baffe56695"
      },
      "outputs": [
        {
          "data": {
            "text/plain": [
              "array([-0.22987957,  4.56996771,  4.540503  ,  4.51128457,  4.4823088 ,\n",
              "        4.45357179,  4.42506971,  4.39679876,  4.36875526,  4.34093559,\n",
              "        4.31333621,  4.28595368,  4.25878463,  4.23182577,  4.2050739 ,\n",
              "        4.17852589,  4.15217868,  4.12602931,  4.10007488,  4.07431256,\n",
              "        4.0487396 ,  4.02335332,  3.99815112,  3.97313046,  3.94828886,\n",
              "        3.92362392,  3.89913331,  3.87481476,  3.85066606,  3.82668507,\n",
              "        3.8028697 ,  3.77921793,  3.7557278 ,  3.73239741,  3.7092249 ,\n",
              "        3.6862085 ,  3.66334645,  3.64063708,  3.61807876,  3.59566991,\n",
              "        3.573409  ,  3.55129454,  3.52932512,  3.50749933,  3.48581584,\n",
              "        3.46427336,  3.44287063,  3.42160645,  3.40047963,  3.37948905,\n",
              "        3.35863362,  3.33791229,  3.31732403,  3.29686787,  3.27654285,\n",
              "        3.25634806,  3.23628261,  3.21634566,  3.19653637,  3.17685396,\n",
              "        3.15729766,  3.13786671,  3.11856042,  3.09937809,  3.08031905,\n",
              "        3.06138265,  3.04256828,  3.02387532,  3.0053032 ,  2.98685134,\n",
              "        2.9685192 ,  2.95030626,  2.93221198,  2.91423587,  2.89637745,\n",
              "        2.87863623,  2.86101176,  2.84350358,  2.82611126,  2.80883436,\n",
              "        2.79167246,  2.77462515,  2.75769202,  2.74087267,  2.72416671,\n",
              "        2.70757375,  2.69109341,  2.6747253 ,  2.65846906,  2.6423243 ,\n",
              "        2.62629067,  2.61036778,  2.59455527,  2.57885278,  2.56325994,\n",
              "        2.54777637,  2.53240172,  2.51713562,  2.50197768,  2.48692755])"
            ]
          },
          "execution_count": 10,
          "metadata": {},
          "output_type": "execute_result"
        }
      ],
      "source": [
        "gm[1]"
      ]
    },
    {
      "cell_type": "code",
      "execution_count": null,
      "id": "27c3d4da",
      "metadata": {
        "ExecuteTime": {
          "end_time": "2022-04-08T05:42:57.247232Z",
          "start_time": "2022-04-08T05:42:57.152708Z"
        },
        "id": "27c3d4da",
        "outputId": "0d96b5e5-98be-40f5-d34d-363fd7eb00e3"
      },
      "outputs": [
        {
          "data": {
            "text/plain": [
              "[<matplotlib.lines.Line2D at 0x1d631926cd0>]"
            ]
          },
          "execution_count": 51,
          "metadata": {},
          "output_type": "execute_result"
        },
        {
          "data": {
            "image/png": "[encoded data removed]",
            "text/plain": [
              "<Figure size 432x288 with 1 Axes>"
            ]
          },
          "metadata": {
            "needs_background": "light"
          },
          "output_type": "display_data"
        }
      ],
      "source": [
        "plt.plot(bev_tax,c)"
      ]
    },
    {
      "cell_type": "code",
      "execution_count": null,
      "id": "7a8ffee9",
      "metadata": {
        "ExecuteTime": {
          "end_time": "2022-04-08T05:43:06.651336Z",
          "start_time": "2022-04-08T05:43:06.544010Z"
        },
        "id": "7a8ffee9",
        "outputId": "a90fd91d-f4af-4101-b5ac-e226acdf0c29"
      },
      "outputs": [
        {
          "data": {
            "text/plain": [
              "[<matplotlib.lines.Line2D at 0x1d63193f850>]"
            ]
          },
          "execution_count": 52,
          "metadata": {},
          "output_type": "execute_result"
        },
        {
          "data": {
            "image/png": "[encoded data removed]",
            "text/plain": [
              "<Figure size 432x288 with 1 Axes>"
            ]
          },
          "metadata": {
            "needs_background": "light"
          },
          "output_type": "display_data"
        }
      ],
      "source": [
        "plt.plot(bev_tax,gm)"
      ]
    }
  ],
  "metadata": {
    "kernelspec": {
      "display_name": "Python 3",
      "language": "python",
      "name": "python3"
    },
    "language_info": {
      "codemirror_mode": {
        "name": "ipython",
        "version": 3
      },
      "file_extension": ".py",
      "mimetype": "text/x-python",
      "name": "python",
      "nbconvert_exporter": "python",
      "pygments_lexer": "ipython3",
      "version": "3.8.8"
    },
    "toc": {
      "base_numbering": 1,
      "nav_menu": {},
      "number_sections": true,
      "sideBar": true,
      "skip_h1_title": false,
      "title_cell": "Table of Contents",
      "title_sidebar": "Contents",
      "toc_cell": false,
      "toc_position": {},
      "toc_section_display": true,
      "toc_window_display": false
    },
    "colab": {
      "provenance": [],
      "include_colab_link": true
    }
  },
  "nbformat": 4,
  "nbformat_minor": 5
}