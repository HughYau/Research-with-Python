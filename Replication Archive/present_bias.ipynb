{
  "cells": [
    {
      "cell_type": "markdown",
      "metadata": {
        "id": "view-in-github",
        "colab_type": "text"
      },
      "source": [
        "<a href=\"https://colab.research.google.com/github/HughYau/Research-with-Python/blob/main/Replication%20Archive/present_bias.ipynb\" target=\"_parent\"><img src=\"https://colab.research.google.com/assets/colab-badge.svg\" alt=\"Open In Colab\"/></a>"
      ]
    },
    {
      "cell_type": "code",
      "execution_count": null,
      "metadata": {
        "id": "ROwh4NiZj9Gu"
      },
      "outputs": [],
      "source": [
        "import numpy as np\n",
        "class Presentbias(object):\n",
        "    def __init__(self,v = [3,5,8,13],c = [0,0,0,0],beta = 0.5,T = 4,kind = 1):#kind=0代表即时成本，代表即时回报\n",
        "        self.c,self.v,self.beta,self.T,self.kind = c,v,beta,T,kind\n",
        "        self.s = np.ones(T)\n",
        "\n",
        "        \n",
        "    def TC(self):\n",
        "        s = np.ones(self.T)\n",
        "        i =  self.T-2\n",
        "        while i!= -1:\n",
        "            now = self.v[i]- self.c[i]\n",
        "            print('now[%d] = %.1f' %(i+1,now))\n",
        "            for j in range(i+1, self.T):\n",
        "                fut =  self.v[j]- self.c[j]\n",
        "                print('fut[%d]= %.1f' %(j+1,fut))\n",
        "                if fut > now:\n",
        "                    s[i] = 0\n",
        "                    break\n",
        "            i = i-1\n",
        "        print(f\"s_tc = {s}\\n\")\n",
        "        \n",
        "    def Naifs(self):\n",
        "        s = np.ones(self.T)\n",
        "        i =  self.T-2\n",
        "        while i!= -1:\n",
        "            if self.kind == 0:\n",
        "                now = self.beta*self.v[i]- self.c[i]\n",
        "                print('now[%d] = %.1f' %(i+1,now))\n",
        "            else:\n",
        "                now = self.v[i]- self.beta*self.c[i]\n",
        "                print('now[%d] = %.1f' %(i+1,now))\n",
        "            for j in range(i+1, self.T):\n",
        "                fut =  self.beta*(self.v[j]- self.c[j])\n",
        "                print('fut[%d]= %.1f' %(j+1,fut))\n",
        "                if fut > now:\n",
        "                    s[i] = 0\n",
        "                    break\n",
        "            i = i-1\n",
        "        print(f\"s_n = {s}\\n\")\n",
        "        \n",
        "    def Sophisticates(self):\n",
        "        s = np.ones(self.T)\n",
        "        i =  self.T-2\n",
        "        while i!= -1:\n",
        "            if self.kind == 0:\n",
        "                now = self.beta*self.v[i]- self.c[i]\n",
        "                print('now[%d] = %.1f' %(i+1,now))\n",
        "            else:\n",
        "                now = self.v[i]- self.beta*self.c[i]\n",
        "                print('now[%d] = %.1f' %(i+1,now))\n",
        "            for j in range(i+1, self.T):\n",
        "                if s[j] == 1:\n",
        "                    fut =  self.beta*(self.v[j]- self.c[j])\n",
        "                    print('fut[%d]= %.1f' %(j+1,fut))\n",
        "                    if fut > now:\n",
        "                        s[i] = 0\n",
        "                    break\n",
        "\n",
        "            i = i-1\n",
        "        print(f\"s_s = {s}\\n\")\n",
        "                    \n",
        "    "
      ]
    },
    {
      "cell_type": "code",
      "execution_count": null,
      "metadata": {
        "id": "rZalldjhj9Gx",
        "outputId": "06cd707f-37b5-4f78-9b64-03c40220813d"
      },
      "outputs": [
        {
          "name": "stdout",
          "output_type": "stream",
          "text": [
            "now[3] = 8.0\n",
            "fut[4]= 13.0\n",
            "now[2] = 5.0\n",
            "fut[3]= 8.0\n",
            "now[1] = 3.0\n",
            "fut[2]= 5.0\n",
            "s_tc = [0. 0. 0. 1.]\n",
            "\n",
            "now[3] = 8.0\n",
            "fut[4]= 6.5\n",
            "now[2] = 5.0\n",
            "fut[3]= 4.0\n",
            "fut[4]= 6.5\n",
            "now[1] = 3.0\n",
            "fut[2]= 2.5\n",
            "fut[3]= 4.0\n",
            "s_n = [0. 0. 1. 1.]\n",
            "\n",
            "now[3] = 8.0\n",
            "fut[4]= 6.5\n",
            "now[2] = 5.0\n",
            "fut[3]= 4.0\n",
            "now[1] = 3.0\n",
            "fut[2]= 2.5\n",
            "s_s = [1. 1. 1. 1.]\n",
            "\n"
          ]
        }
      ],
      "source": [
        "pp = Presentbias()\n",
        "pp.TC()\n",
        "pp.Naifs()\n",
        "pp.Sophisticates()"
      ]
    }
  ],
  "metadata": {
    "kernelspec": {
      "display_name": "Python 3",
      "language": "python",
      "name": "python3"
    },
    "language_info": {
      "codemirror_mode": {
        "name": "ipython",
        "version": 3
      },
      "file_extension": ".py",
      "mimetype": "text/x-python",
      "name": "python",
      "nbconvert_exporter": "python",
      "pygments_lexer": "ipython3",
      "version": "3.8.5"
    },
    "varInspector": {
      "cols": {
        "lenName": 16,
        "lenType": 16,
        "lenVar": 40
      },
      "kernels_config": {
        "python": {
          "delete_cmd_postfix": "",
          "delete_cmd_prefix": "del ",
          "library": "var_list.py",
          "varRefreshCmd": "print(var_dic_list())"
        },
        "r": {
          "delete_cmd_postfix": ") ",
          "delete_cmd_prefix": "rm(",
          "library": "var_list.r",
          "varRefreshCmd": "cat(var_dic_list()) "
        }
      },
      "types_to_exclude": [
        "module",
        "function",
        "builtin_function_or_method",
        "instance",
        "_Feature"
      ],
      "window_display": false
    },
    "colab": {
      "provenance": [],
      "include_colab_link": true
    }
  },
  "nbformat": 4,
  "nbformat_minor": 0
}