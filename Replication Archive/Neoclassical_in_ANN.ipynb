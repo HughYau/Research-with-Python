{
  "cells": [
    {
      "cell_type": "markdown",
      "metadata": {
        "id": "view-in-github",
        "colab_type": "text"
      },
      "source": [
        "<a href=\"https://colab.research.google.com/github/HughYau/Research-with-Python/blob/main/Replication%20Archive/Neoclassical_in_ANN.ipynb\" target=\"_parent\"><img src=\"https://colab.research.google.com/assets/colab-badge.svg\" alt=\"Open In Colab\"/></a>"
      ]
    },
    {
      "cell_type": "code",
      "execution_count": null,
      "id": "eb7e3a7b",
      "metadata": {
        "ExecuteTime": {
          "end_time": "2022-02-06T12:13:34.112291Z",
          "start_time": "2022-02-06T12:13:32.491025Z"
        },
        "id": "eb7e3a7b"
      },
      "outputs": [],
      "source": [
        "import matplotlib\n",
        "import matplotlib.pyplot as plt\n",
        "import tensorflow as tf \n",
        "from tensorflow import keras\n",
        "import numpy as np \n",
        "import os\n",
        "from tqdm import trange\n",
        "\n",
        "# Switch of unnecessary TF warning messages\n",
        "os.environ['TF_CPP_MIN_LOG_LEVEL'] = '2'"
      ]
    },
    {
      "cell_type": "code",
      "execution_count": null,
      "id": "65b70523",
      "metadata": {
        "ExecuteTime": {
          "end_time": "2022-02-06T12:13:35.861689Z",
          "start_time": "2022-02-06T12:13:35.846409Z"
        },
        "id": "65b70523"
      },
      "outputs": [],
      "source": [
        "###############################################################################\n",
        "################################## Parameters #################################\n",
        "###############################################################################\n",
        "\n",
        "gamma = tf.constant(2.0)           # Curvature of the utility function\n",
        "rho   = tf.constant(0.04)          # Discount rate\n",
        "A      = tf.constant(0.5)          # TFP\n",
        "alpha = tf.constant(0.36)          # Returns to scale\n",
        "delta = tf.constant(0.05)          # Depreciation Rate of Capital\n",
        "\n",
        "batchSize = 1000                   # Batch Size\n",
        "number_epochs = 200000            # Number of epochs\n",
        "lowest_iteration = 0\n",
        "min_loss = 100000\n",
        "\n",
        "kMin = 0.1                         # lower bound of sample interval\n",
        "kMax = 10.0                        # upper bound of sample interval\n",
        "\n",
        "gridSize = 10000                  # Plotting grid\n",
        "\n",
        "# Set global seed\n",
        "tf.random.set_seed(42)\n",
        "np.random.seed(42)\n",
        "\n",
        "# Value function initial guess\n",
        "VFInitGuess = -60\n",
        "\n",
        "# Neural network optimizer\n",
        "optimizer = keras.optimizers.Adam()\n",
        "\n",
        "# ergodic distribution estimation\n",
        "nBurnedIter = 0                    # number of periods iterated to move away from starting point (called B1 in the paper)"
      ]
    },
    {
      "cell_type": "code",
      "execution_count": null,
      "id": "6a871d72",
      "metadata": {
        "ExecuteTime": {
          "end_time": "2022-02-06T12:13:37.952852Z",
          "start_time": "2022-02-06T12:13:37.946399Z"
        },
        "id": "6a871d72"
      },
      "outputs": [],
      "source": [
        "###############################################################################\n",
        "######################## Value Function Neural Network ########################\n",
        "###############################################################################\n",
        "\n",
        "def NeuralNet(nHidden = 3, nNeurons = 8, initGuess = 0):\n",
        "    model = keras.models.Sequential()\n",
        "\n",
        "    # Input layer\n",
        "    model.add(keras.layers.Dense(nNeurons, activation = \"tanh\", input_dim = 1))\n",
        "\n",
        "    # Hiden layers\n",
        "    for layer in range(nHidden - 1):\n",
        "        model.add(keras.layers.Dense(nNeurons, activation = \"tanh\"))\n",
        "\n",
        "    # Output layer\n",
        "    model.add(keras.layers.Dense(1,bias_initializer = keras.initializers.Constant(value = initGuess)))\n",
        "    return model"
      ]
    },
    {
      "cell_type": "code",
      "execution_count": null,
      "id": "300a8722",
      "metadata": {
        "ExecuteTime": {
          "end_time": "2022-02-06T12:13:39.918436Z",
          "start_time": "2022-02-06T12:13:39.904714Z"
        },
        "id": "300a8722"
      },
      "outputs": [],
      "source": [
        "# dt = 0.1\n",
        "def HJB(k_capital, V, C):\n",
        "    VPrime = tf.gradients(V(k_capital), k_capital)[0]\n",
        "    # VPrimemax = tf.maximum(VPrime, 1E-7)\t\t# dV/dk\n",
        "\n",
        "    Y = A * tf.pow(k_capital, alpha)\t\t\t\t# Output\n",
        "\n",
        "    I = Y - tf.exp(C(k_capital))\t\t\t\t\t# Investment\n",
        "\n",
        "    muK = I - delta * k_capital  \t\t\t\t\t# Capital drift\n",
        "\n",
        "    U = tf.pow(tf.exp(C(k_capital)), 1-gamma) / (1-gamma) \t# Utility\n",
        "    # HJB = U - rho * V(k_capital) + tf.multiply(tf.stop_gradient(VPrimemax), muK)\n",
        "    HJB = U - rho * V(k_capital) + tf.multiply(tf.stop_gradient(VPrime), muK)\n",
        "    return HJB \n",
        "\n",
        "def ergodic_distribution(k_capital, V, C): \n",
        "    # iterate the points to estimate the ergodic distribution\n",
        "    for i in range(nBurnedIter):  \n",
        "        VPrime = tf.gradients(V(k_capital), k_capital)[0]\n",
        "        VPrimemax = tf.maximum(VPrime, 1E-7)\t\t    # dV/dk\n",
        "        Y = A * tf.pow(k_capital, alpha)\t\t\t\t# Output\n",
        "        I = Y - tf.exp(C(k_capital)) \t\t\t\t    # Investment\n",
        "        dK_dt = I - delta * k_capital  \t\t\t\t\t# Capital drift\n",
        "        k_capital = k_capital + tf.math.multiply(dt , dK_dt)    # k(t+1) = k(t) + dt*dK_dt\n",
        "    return k_capital\n",
        "\n",
        "\n",
        "def boundary_condition_ergodic_1_step (k_capital, V, C):\n",
        "    VPrime = tf.gradients(V(k_capital), k_capital)[0]\n",
        "    VPrimemax = tf.maximum(VPrime, 1E-7)\t\t# dV/dk\n",
        "    Y = A * tf.pow(k_capital, alpha)\t\t\t# Output\n",
        "    C = tf.exp(C(k_capital))        \t\t\t# Consumption\n",
        "    I = Y - C \t\t\t\t\t\t\t\t\t# Investment\n",
        "    dK_dt = I - delta * k_capital  \t\t\t\t# Capital drift\n",
        "     \n",
        "    dt = 0.1\n",
        "    k_capital_t_plus_one = k_capital + tf.math.multiply(dt , dK_dt)\n",
        "    # we require kmin < k (t + 1) < kMax \n",
        "    error_lowerbound = tf.math.maximum(tf.constant([kMin]) - k_capital_t_plus_one, 0)\n",
        "    error_upperbound = tf.math.maximum(k_capital_t_plus_one - tf.constant([kMax]), 0)\n",
        "    error = error_lowerbound + error_upperbound\n",
        "    return error\n",
        "\n",
        "def boundary_condition(k_capital, V, C):\n",
        "    Y = A * tf.pow(k_capital, alpha)    # Output\n",
        "    I = Y - tf.exp(C(k_capital)) \t\t\t\t# Investment\n",
        "    dK_dt = I - delta * k_capital  \t\t\t\t# Capital drift\n",
        "\n",
        "    epsilon = 1                                 # values close enought to 0 can't have decreasing capital\n",
        "\n",
        "    error = tf.where((k_capital < epsilon) & (dK_dt < 0) , dK_dt, 0)\n",
        "    return error\n",
        "\n",
        "def C_error(k_capital, V, C):\n",
        "    VPrime = tf.gradients(V(k_capital), k_capital)[0]\n",
        "    VPrimemax = tf.maximum(VPrime, 1E-7)\n",
        "    C_err = tf.pow(VPrimemax, (-1/gamma)) - tf.exp(C(k_capital))\n",
        "    return C_err\n",
        "\n",
        "def Loss_function(batchSize):\n",
        "    k_capital = tf.random.uniform(shape = (batchSize,1), minval = kMin, maxval = kMax)\n",
        "    ergodic_k_capital = ergodic_distribution(k_capital, VF, CF)\n",
        "    errorV = HJB(ergodic_k_capital, VF, CF)\n",
        "    errorC = C_error(ergodic_k_capital, VF, CF)\n",
        "    # errorB = boundary_condition_ergodic_1_step(ergodic_k_capital, VF, CF)\n",
        "    errorB = boundary_condition(ergodic_k_capital, VF, CF)\n",
        "\n",
        "    lossV = tf.reduce_mean(tf.square(errorV))\n",
        "    lossC = tf.reduce_mean(tf.square(errorC))\n",
        "    lossB = tf.reduce_mean(tf.square(errorB))\n",
        "    total_loss = lossV + lossC + lossB\n",
        "    return lossV, lossC, lossB, total_loss "
      ]
    },
    {
      "cell_type": "code",
      "execution_count": null,
      "id": "168e53bb",
      "metadata": {
        "ExecuteTime": {
          "end_time": "2022-02-06T12:15:56.436471Z",
          "start_time": "2022-02-06T12:13:42.962243Z"
        },
        "id": "168e53bb",
        "outputId": "949fe455-5bc1-4003-905a-aebcdf484f20"
      },
      "outputs": [
        {
          "name": "stderr",
          "output_type": "stream",
          "text": [
            "\r",
            "  0%|                                                                                       | 0/200000 [00:00<?, ?it/s]"
          ]
        },
        {
          "name": "stdout",
          "output_type": "stream",
          "text": [
            "WARNING:tensorflow:AutoGraph could not transform <function ergodic_distribution at 0x0000027100AAB700> and will run it as-is.\n",
            "Please report this to the TensorFlow team. When filing the bug, set the verbosity to 10 (on Linux, `export AUTOGRAPH_VERBOSITY=10`) and attach the full output.\n",
            "Cause: module 'gast' has no attribute 'Index'\n",
            "To silence this warning, decorate the function with @tf.autograph.experimental.do_not_convert\n",
            "WARNING: AutoGraph could not transform <function ergodic_distribution at 0x0000027100AAB700> and will run it as-is.\n",
            "Please report this to the TensorFlow team. When filing the bug, set the verbosity to 10 (on Linux, `export AUTOGRAPH_VERBOSITY=10`) and attach the full output.\n",
            "Cause: module 'gast' has no attribute 'Index'\n",
            "To silence this warning, decorate the function with @tf.autograph.experimental.do_not_convert\n",
            "WARNING:tensorflow:AutoGraph could not transform <function HJB at 0x0000027100AAB670> and will run it as-is.\n",
            "Please report this to the TensorFlow team. When filing the bug, set the verbosity to 10 (on Linux, `export AUTOGRAPH_VERBOSITY=10`) and attach the full output.\n",
            "Cause: module 'gast' has no attribute 'Index'\n",
            "To silence this warning, decorate the function with @tf.autograph.experimental.do_not_convert\n",
            "WARNING: AutoGraph could not transform <function HJB at 0x0000027100AAB670> and will run it as-is.\n",
            "Please report this to the TensorFlow team. When filing the bug, set the verbosity to 10 (on Linux, `export AUTOGRAPH_VERBOSITY=10`) and attach the full output.\n",
            "Cause: module 'gast' has no attribute 'Index'\n",
            "To silence this warning, decorate the function with @tf.autograph.experimental.do_not_convert\n",
            "WARNING:tensorflow:AutoGraph could not transform <function C_error at 0x0000027100AAB8B0> and will run it as-is.\n",
            "Please report this to the TensorFlow team. When filing the bug, set the verbosity to 10 (on Linux, `export AUTOGRAPH_VERBOSITY=10`) and attach the full output.\n",
            "Cause: module 'gast' has no attribute 'Index'\n",
            "To silence this warning, decorate the function with @tf.autograph.experimental.do_not_convert\n",
            "WARNING: AutoGraph could not transform <function C_error at 0x0000027100AAB8B0> and will run it as-is.\n",
            "Please report this to the TensorFlow team. When filing the bug, set the verbosity to 10 (on Linux, `export AUTOGRAPH_VERBOSITY=10`) and attach the full output.\n",
            "Cause: module 'gast' has no attribute 'Index'\n",
            "To silence this warning, decorate the function with @tf.autograph.experimental.do_not_convert\n"
          ]
        },
        {
          "name": "stderr",
          "output_type": "stream",
          "text": [
            "  0%|                                                                            | 35/200000 [00:00<1:09:17, 48.10it/s]"
          ]
        },
        {
          "name": "stdout",
          "output_type": "stream",
          "text": [
            "\n",
            " best loss: \t 241.51213\r\n",
            " best loss: \t 161.10217\r\n",
            " best loss: \t 126.38845\r\n",
            " best loss: \t 104.25682\r\n",
            " best loss: \t 92.10076\r\n",
            " best loss: \t 73.563644\r\n",
            " best loss: \t 71.58051\r\n",
            " best loss: \t 59.71651\r\n",
            " best loss: \t 56.347683\r\n",
            " best loss: \t 53.90508\r\n",
            " best loss: \t 46.579685\r\n",
            " best loss: \t 43.467323\r\n",
            " best loss: \t 39.788246\r\n",
            " best loss: \t 36.41416\r\n",
            " best loss: \t 30.905115\r\n",
            " best loss: \t 28.330847\r\n",
            " best loss: \t 27.344166\r\n",
            " best loss: \t 24.822132\r\n",
            " best loss: \t 23.166964\r\n",
            " best loss: \t 21.906836\r\n",
            " best loss: \t 19.583055\r\n",
            " best loss: \t 19.117971\r\n",
            " best loss: \t 17.034903\r\n",
            " best loss: \t 16.376894\r\n",
            " best loss: \t 15.477005\r\n",
            " best loss: \t 14.338328\r\n",
            " best loss: \t 13.331633\r\n",
            " best loss: \t 12.293451\r\n",
            " best loss: \t 11.775282\r\n",
            " best loss: \t 10.944416\r\n",
            " best loss: \t 10.675291\r\n",
            " best loss: \t 9.603096\r\n",
            " best loss: \t 9.186529\r\n",
            " best loss: \t 8.584996\r\n",
            " best loss: \t 8.364331\r\n",
            " best loss: \t 7.960615\r\n",
            " best loss: \t 7.6666703\r\n",
            " best loss: \t 7.4625664\r\n",
            " best loss: \t 6.9389024\r\n",
            " best loss: \t 6.802558\r\n",
            " best loss: \t 6.7850785\r\n",
            " best loss: \t 6.6649423\r\n",
            " best loss: \t 6.6311116\r\n",
            " best loss: \t 6.541295\r\n",
            " best loss: \t 6.5392556\r\n",
            " best loss: \t 6.378426\r\n",
            " best loss: \t 6.3039036\r\n",
            " best loss: \t 6.268731\r\n",
            " best loss: \t 6.2664547\r\n",
            " best loss: \t 6.151689\r\n",
            " best loss: \t 6.127695\r\n",
            " best loss: \t 6.0044026\r\n",
            " best loss: \t "
          ]
        },
        {
          "name": "stderr",
          "output_type": "stream",
          "text": [
            "  0%|                                                                            | 124/200000 [00:01<18:35, 179.19it/s]"
          ]
        },
        {
          "name": "stdout",
          "output_type": "stream",
          "text": [
            "5.9178834\r\n",
            " best loss: \t 5.908124\r\n",
            " best loss: \t 5.82701\r\n",
            " best loss: \t 5.8091245\r\n",
            " best loss: \t 5.7874155\r\n",
            " best loss: \t 5.761122\r\n",
            " best loss: \t 5.725831\r\n",
            " best loss: \t 5.663472\r\n",
            " best loss: \t 5.59326\r\n",
            " best loss: \t 5.526107\r\n",
            " best loss: \t 5.5161457\r\n",
            " best loss: \t 5.4585195\r\n",
            " best loss: \t 5.3740735\r\n",
            " best loss: \t 5.3654447\r\n",
            " best loss: \t 5.3544474\r\n",
            " best loss: \t 5.3237104\r\n",
            " best loss: \t 5.312404\r\n",
            " best loss: \t 5.2765965\r\n",
            " best loss: \t 5.2015414\r\n",
            " best loss: \t 5.191465\r\n",
            " best loss: \t 5.179279\r\n",
            " best loss: \t 5.172535\r\n",
            " best loss: \t 5.1573887\r\n",
            " best loss: \t 5.141456\r\n",
            " best loss: \t 5.131438\r\n",
            " best loss: \t 5.1165767\r\n",
            " best loss: \t 5.0916824\r\n",
            " best loss: \t 5.0562425\r\n",
            " best loss: \t 5.0460978\r\n",
            " best loss: \t 5.031248\r\n",
            " best loss: \t 5.016696\r\n",
            " best loss: \t 4.9870777\r\n",
            " best loss: \t 4.9847527\r\n",
            " best loss: \t 4.972194\r"
          ]
        },
        {
          "name": "stderr",
          "output_type": "stream",
          "text": [
            "  0%|                                                                            | 208/200000 [00:01<12:17, 270.82it/s]"
          ]
        },
        {
          "name": "stdout",
          "output_type": "stream",
          "text": [
            "\n",
            " best loss: \t 4.9672384\r\n",
            " best loss: \t 4.9177585\r\n",
            " best loss: \t 4.8981504\r\n",
            " best loss: \t 4.8836794\r\n",
            " best loss: \t 4.875393\r\n",
            " best loss: \t 4.8551335\r\n",
            " best loss: \t 4.8185945\r\n",
            " best loss: \t 4.7897186\r\n",
            " best loss: \t 4.781637\r\n",
            " best loss: \t 4.7795815\r\n",
            " best loss: \t 4.7337055\r\n",
            " best loss: \t 4.7132998\r\n",
            " best loss: \t 4.7007513\r\n",
            " best loss: \t 4.6750236\r\n",
            " best loss: \t 4.653993\r\n",
            " best loss: \t 4.6535354\r\n",
            " best loss: \t 4.638139\r\n",
            " best loss: \t 4.6377816\r\n",
            " best loss: \t 4.612849\r\n",
            " best loss: \t 4.6091\r\n",
            " best loss: \t 4.5897665\r\n",
            " best loss: \t 4.5871253\r\n",
            " best loss: \t 4.580198\r\n",
            " best loss: \t 4.568827\r\n",
            " best loss: \t 4.5544677\r\n",
            " best loss: \t 4.542612\r\n",
            " best loss: \t 4.531645\r\n",
            " best loss: \t 4.530337\r\n",
            " best loss: \t 4.506176\r\n",
            " best loss: \t 4.5012894\r\n",
            " best loss: \t 4.4887443\r\n",
            " best loss: \t 4.481911\r"
          ]
        },
        {
          "name": "stderr",
          "output_type": "stream",
          "text": [
            "  0%|▏                                                                           | 360/200000 [00:01<06:38, 501.23it/s]"
          ]
        },
        {
          "name": "stdout",
          "output_type": "stream",
          "text": [
            "\n",
            " best loss: \t 4.460388\r\n",
            " best loss: \t 4.449457\r\n",
            " best loss: \t 4.3986244\r\n",
            " best loss: \t 4.3828626\r\n",
            " best loss: \t 4.3781652\r\n",
            " best loss: \t 4.3625493\r\n",
            " best loss: \t 4.3374505\r\n",
            " best loss: \t 4.3286304\r\n",
            " best loss: \t 4.3279233\r\n",
            " best loss: \t 4.3006215\r\n",
            " best loss: \t 4.2868958\r\n",
            " best loss: \t 4.2683825\r\n",
            " best loss: \t 4.265079\r\n",
            " best loss: \t 4.263489\r\n",
            " best loss: \t 4.2539263\r\n",
            " best loss: \t 4.2346716\r\n",
            " best loss: \t 4.2301574\r\n",
            " best loss: \t 4.213482\r\n",
            " best loss: \t 4.1946135\r\n",
            " best loss: \t 4.1893167\r\n",
            " best loss: \t 4.183346\r\n",
            " best loss: \t 4.1820197\r\n",
            " best loss: \t 4.1730947\r\n",
            " best loss: \t 4.1687946\r\n",
            " best loss: \t 4.16605\r\n",
            " best loss: \t 4.161494\r\n",
            " best loss: \t 4.1551967\r\n",
            " best loss: \t 4.140369\r\n",
            " best loss: \t 4.136206\r\n",
            " best loss: \t 4.1340337\r"
          ]
        },
        {
          "name": "stderr",
          "output_type": "stream",
          "text": [
            "  0%|▏                                                                           | 627/200000 [00:01<03:49, 870.46it/s]"
          ]
        },
        {
          "name": "stdout",
          "output_type": "stream",
          "text": [
            "\n",
            " best loss: \t 4.1123796\r\n",
            " best loss: \t 4.1086235\r\n",
            " best loss: \t 4.093183\r\n",
            " best loss: \t 4.0894017\r\n",
            " best loss: \t 4.0893826\r\n",
            " best loss: \t 4.0723176\r\n",
            " best loss: \t 4.0629883\r\n",
            " best loss: \t 4.05706\r\n",
            " best loss: \t 4.052826\r\n",
            " best loss: \t 4.0252733\r\n",
            " best loss: \t 4.0238423\r\n",
            " best loss: \t 3.9948444\r\n",
            " best loss: \t 3.9888628\r\n",
            " best loss: \t 3.984265\r\n",
            " best loss: \t 3.984161\r\n",
            " best loss: \t 3.9617963\r\n",
            " best loss: \t 3.9469097\r\n",
            " best loss: \t 3.9387665\r\n",
            " best loss: \t 3.927431\r\n",
            " best loss: \t 3.925409\r\n",
            " best loss: \t 3.9165084\r\n",
            " best loss: \t 3.9152079\r\n",
            " best loss: \t 3.8880336\r\n",
            " best loss: \t "
          ]
        },
        {
          "name": "stderr",
          "output_type": "stream",
          "text": [
            "\r",
            "  0%|▎                                                                           | 768/200000 [00:01<03:23, 978.55it/s]"
          ]
        },
        {
          "name": "stdout",
          "output_type": "stream",
          "text": [
            "3.8815656\r\n",
            " best loss: \t 3.8770804\r\n",
            " best loss: \t 3.868912\r\n",
            " best loss: \t 3.8476834\r\n",
            " best loss: \t 3.846467\r\n",
            " best loss: \t 3.84263\r\n",
            " best loss: \t 3.8390589\r\n",
            " best loss: \t 3.8375032\r\n",
            " best loss: \t 3.816918\r\n",
            " best loss: \t 3.8054445\r\n",
            " best loss: \t 3.802577\r\n",
            " best loss: \t 3.7993567\r\n",
            " best loss: \t 3.7959428\r\n",
            " best loss: \t 3.7788994\r\n",
            " best loss: \t 3.763368\r\n",
            " best loss: \t 3.7632763\r\n",
            " best loss: \t 3.7135518\r\n",
            " best loss: \t 3.7066875\r\n",
            " best loss: \t 3.7022703\r\n",
            " best loss: \t 3.6587691\r"
          ]
        },
        {
          "name": "stderr",
          "output_type": "stream",
          "text": [
            "  1%|▍                                                                         | 1276/200000 [00:02<02:24, 1378.05it/s]"
          ]
        },
        {
          "name": "stdout",
          "output_type": "stream",
          "text": [
            "\n",
            " best loss: \t 3.6333814\r\n",
            " best loss: \t 3.6297753\r\n",
            " best loss: \t 3.5851936\r\n",
            " best loss: \t 3.565194\r\n",
            " best loss: \t 3.5319686\r\n",
            " best loss: \t 3.5257437\r"
          ]
        },
        {
          "name": "stderr",
          "output_type": "stream",
          "text": [
            "  1%|▌                                                                         | 1601/200000 [00:02<02:16, 1457.98it/s]"
          ]
        },
        {
          "name": "stdout",
          "output_type": "stream",
          "text": [
            "\n",
            " best loss: \t 3.52293\r\n",
            " best loss: \t 3.4980204\r\n",
            " best loss: \t 3.4845998\r\n",
            " best loss: \t 3.4754486\r\n",
            " best loss: \t 3.4573267\r\n",
            " best loss: \t 3.4402702\r\n",
            " best loss: \t 3.4324484\r\n",
            " best loss: \t 3.425137\r\n",
            " best loss: \t 3.4108317\r\n",
            " best loss: \t 3.4016235\r"
          ]
        },
        {
          "name": "stderr",
          "output_type": "stream",
          "text": [
            "  1%|▋                                                                         | 1946/200000 [00:02<02:09, 1531.66it/s]"
          ]
        },
        {
          "name": "stdout",
          "output_type": "stream",
          "text": [
            "\n",
            " best loss: \t 3.3950853\r\n",
            " best loss: \t 3.3566604\r\n",
            " best loss: \t 3.3474834\r\n",
            " best loss: \t 3.3402102\r\n",
            " best loss: \t 3.3220956\r\n",
            " best loss: \t 3.3070354\r\n",
            " best loss: \t 3.2403688\r"
          ]
        },
        {
          "name": "stderr",
          "output_type": "stream",
          "text": [
            "  1%|▉                                                                         | 2627/200000 [00:03<02:02, 1612.24it/s]"
          ]
        },
        {
          "name": "stdout",
          "output_type": "stream",
          "text": [
            "\n",
            " best loss: \t 3.2164233\r\n",
            " best loss: \t 3.1840549\r\n",
            " best loss: \t 3.1558115\r\n",
            " best loss: \t 3.1462405\r"
          ]
        },
        {
          "name": "stderr",
          "output_type": "stream",
          "text": [
            "  1%|█                                                                         | 2959/200000 [00:03<02:12, 1491.24it/s]"
          ]
        },
        {
          "name": "stdout",
          "output_type": "stream",
          "text": [
            "\n",
            " best loss: \t 3.1397026\r\n",
            " best loss: \t 3.1328273\r\n",
            " best loss: \t 3.1143425\r\n",
            " best loss: \t 3.0556319\r"
          ]
        },
        {
          "name": "stderr",
          "output_type": "stream",
          "text": [
            "  2%|█▎                                                                        | 3427/200000 [00:03<02:14, 1457.28it/s]"
          ]
        },
        {
          "name": "stdout",
          "output_type": "stream",
          "text": [
            "\n",
            " best loss: \t 3.0503588\r\n",
            " best loss: \t 3.023535\r\n",
            " best loss: \t 3.017074\r\n",
            " best loss: \t 3.0157576\r\n",
            " best loss: \t 3.0057895\r\n",
            " best loss: \t 2.9934077\r"
          ]
        },
        {
          "name": "stderr",
          "output_type": "stream",
          "text": [
            "  2%|█▍                                                                        | 3742/200000 [00:03<02:15, 1451.58it/s]"
          ]
        },
        {
          "name": "stdout",
          "output_type": "stream",
          "text": [
            "\n",
            " best loss: \t 2.9722855\r\n",
            " best loss: \t 2.946378\r\n",
            " best loss: \t 2.9346707\r\n",
            " best loss: \t 2.8993385\r\n",
            " best loss: \t 2.8811831\r"
          ]
        },
        {
          "name": "stderr",
          "output_type": "stream",
          "text": [
            "  2%|█▌                                                                        | 4246/200000 [00:04<02:05, 1565.38it/s]"
          ]
        },
        {
          "name": "stdout",
          "output_type": "stream",
          "text": [
            "\n",
            " best loss: \t 2.8393512\r\n",
            " best loss: \t 2.8373802\r\n",
            " best loss: \t 2.8249006\r\n",
            " best loss: \t 2.8214242\r\n",
            " best loss: \t 2.779443\r"
          ]
        },
        {
          "name": "stderr",
          "output_type": "stream",
          "text": [
            "  2%|█▊                                                                        | 4734/200000 [00:04<02:03, 1585.54it/s]"
          ]
        },
        {
          "name": "stdout",
          "output_type": "stream",
          "text": [
            "\n",
            " best loss: \t 2.7750654\r\n",
            " best loss: \t 2.766865\r\n",
            " best loss: \t 2.7665377\r\n",
            " best loss: \t 2.7462008\r\n",
            " best loss: \t 2.7426772\r\n",
            " best loss: \t 2.7279983\r\n",
            " best loss: \t 2.7205944\r"
          ]
        },
        {
          "name": "stderr",
          "output_type": "stream",
          "text": [
            "  3%|█▊                                                                        | 5057/200000 [00:04<02:01, 1601.75it/s]"
          ]
        },
        {
          "name": "stdout",
          "output_type": "stream",
          "text": [
            "\n",
            " best loss: \t 2.6852825\r\n",
            " best loss: \t 2.6533072\r\n",
            " best loss: \t 2.6457078\r\n",
            " best loss: \t 2.6431775\r\n",
            " best loss: \t 2.6327062\r\n",
            " best loss: \t "
          ]
        },
        {
          "name": "stderr",
          "output_type": "stream",
          "text": [
            "  3%|█▉                                                                        | 5388/200000 [00:04<02:04, 1563.44it/s]"
          ]
        },
        {
          "name": "stdout",
          "output_type": "stream",
          "text": [
            "2.6245766\r\n",
            " best loss: \t 2.608749\r\n",
            " best loss: \t 2.576455\r\n",
            " best loss: \t 2.5419545\r\n",
            " best loss: \t 2.4854667\r"
          ]
        },
        {
          "name": "stderr",
          "output_type": "stream",
          "text": [
            "  3%|██                                                                        | 5732/200000 [00:05<02:03, 1577.37it/s]"
          ]
        },
        {
          "name": "stdout",
          "output_type": "stream",
          "text": [
            "\n",
            " best loss: \t 2.4808109\r\n",
            " best loss: \t 2.470775\r\n",
            " best loss: \t 2.456771\r\n",
            " best loss: \t 2.445897\r\n",
            " best loss: \t 2.4258246\r\n",
            " best loss: \t 2.4063807\r\n",
            " best loss: \t 2.3716571\r\n",
            " best loss: \t 2.3625367\r\n",
            " best loss: \t 2.3550606\r"
          ]
        },
        {
          "name": "stderr",
          "output_type": "stream",
          "text": [
            "  3%|██▏                                                                       | 6059/200000 [00:05<02:05, 1547.23it/s]"
          ]
        },
        {
          "name": "stdout",
          "output_type": "stream",
          "text": [
            "\n",
            " best loss: \t 2.3355987\r\n",
            " best loss: \t 2.277894\r\n",
            " best loss: \t 2.2736566\r\n",
            " best loss: \t 2.2713091\r\n",
            " best loss: \t 2.2611895\r\n",
            " best loss: \t 2.2054002\r\n",
            " best loss: \t 2.2045052\r\n",
            " best loss: \t 2.1884718\r\n",
            " best loss: \t 2.1688352\r\n",
            " best loss: \t 2.161965\r"
          ]
        },
        {
          "name": "stderr",
          "output_type": "stream",
          "text": [
            "  3%|██▎                                                                       | 6382/200000 [00:05<02:06, 1529.69it/s]"
          ]
        },
        {
          "name": "stdout",
          "output_type": "stream",
          "text": [
            "\n",
            " best loss: \t 2.1561966\r\n",
            " best loss: \t 2.1492426\r\n",
            " best loss: \t 2.1045215\r\n",
            " best loss: \t 2.1031644\r\n",
            " best loss: \t 2.073462\r\n",
            " best loss: \t 2.011429\r\n",
            " best loss: \t 1.9949605\r\n",
            " best loss: \t 1.938813\r\n",
            " best loss: \t 1.934693\r\n",
            " best loss: \t 1.9326373\r\n",
            " best loss: \t 1.9323813\r"
          ]
        },
        {
          "name": "stderr",
          "output_type": "stream",
          "text": [
            "  3%|██▍                                                                       | 6689/200000 [00:05<02:09, 1488.50it/s]"
          ]
        },
        {
          "name": "stdout",
          "output_type": "stream",
          "text": [
            "\n",
            " best loss: \t 1.9102659\r\n",
            " best loss: \t 1.9024436\r\n",
            " best loss: \t 1.8859295\r\n",
            " best loss: \t 1.8796265\r\n",
            " best loss: \t 1.865537\r\n",
            " best loss: \t 1.8540101\r\n",
            " best loss: \t 1.8381476\r\n",
            " best loss: \t 1.7957491\r\n",
            " best loss: \t 1.7927096\r\n",
            " best loss: \t 1.787387\r\n",
            " best loss: \t 1.7727088\r\n",
            " best loss: \t 1.7179317\r\n",
            " best loss: \t 1.7156461\r\n",
            " best loss: \t 1.7007129\r\n",
            " best loss: \t 1.672776\r\n",
            " best loss: \t 1.6626287\r\n",
            " best loss: \t 1.6518781\r\n",
            " best loss: \t 1.6279103\r\n",
            " best loss: \t 1.6235245\r\n",
            " best loss: \t 1.6059167\r"
          ]
        },
        {
          "name": "stderr",
          "output_type": "stream",
          "text": [
            "  3%|██▌                                                                       | 6995/200000 [00:06<02:16, 1416.90it/s]"
          ]
        },
        {
          "name": "stdout",
          "output_type": "stream",
          "text": [
            "\n",
            " best loss: \t 1.5796899\r\n",
            " best loss: \t 1.5662102\r\n",
            " best loss: \t 1.5511919\r\n",
            " best loss: \t 1.5250987\r\n",
            " best loss: \t 1.5244751\r\n",
            " best loss: \t 1.4990503\r\n",
            " best loss: \t 1.4738052\r\n",
            " best loss: \t 1.4577618\r\n",
            " best loss: \t 1.4567521\r\n",
            " best loss: \t 1.4474518\r\n",
            " best loss: \t 1.4217895\r\n",
            " best loss: \t 1.3966978\r\n",
            " best loss: \t 1.3867677\r\n",
            " best loss: \t 1.3704234\r\n",
            " best loss: \t 1.3491759\r\n",
            " best loss: \t 1.3433534\r"
          ]
        },
        {
          "name": "stderr",
          "output_type": "stream",
          "text": [
            "  4%|██▋                                                                       | 7329/200000 [00:06<02:09, 1483.07it/s]"
          ]
        },
        {
          "name": "stdout",
          "output_type": "stream",
          "text": [
            "\n",
            " best loss: \t 1.3073745\r\n",
            " best loss: \t 1.2964798\r\n",
            " best loss: \t 1.2828666\r\n",
            " best loss: \t 1.2753961\r\n",
            " best loss: \t 1.2421899\r\n",
            " best loss: \t 1.2292484\r\n",
            " best loss: \t 1.2207354\r"
          ]
        },
        {
          "name": "stderr",
          "output_type": "stream",
          "text": [
            "  4%|██▊                                                                       | 7633/200000 [00:06<02:07, 1503.61it/s]"
          ]
        },
        {
          "name": "stdout",
          "output_type": "stream",
          "text": [
            "\n",
            " best loss: \t 1.207862\r\n",
            " best loss: \t 1.2025347\r\n",
            " best loss: \t 1.1800778\r\n",
            " best loss: \t 1.172431\r\n",
            " best loss: \t 1.1608772\r\n",
            " best loss: \t 1.1382748\r\n",
            " best loss: \t 1.1344923\r\n",
            " best loss: \t 1.1041868\r\n",
            " best loss: \t 1.0699822\r"
          ]
        },
        {
          "name": "stderr",
          "output_type": "stream",
          "text": [
            "  4%|██▉                                                                       | 7971/200000 [00:06<02:04, 1540.18it/s]"
          ]
        },
        {
          "name": "stdout",
          "output_type": "stream",
          "text": [
            "\n",
            " best loss: \t 1.0604697\r\n",
            " best loss: \t 1.0598698\r\n",
            " best loss: \t 1.0516816\r\n",
            " best loss: \t 1.0225911\r\n",
            " best loss: \t 1.0136098\r\n",
            " best loss: \t 0.9791351\r\n",
            " best loss: \t 0.9576122\r\n",
            " best loss: \t 0.95161426\r"
          ]
        },
        {
          "name": "stderr",
          "output_type": "stream",
          "text": [
            "  4%|███                                                                       | 8292/200000 [00:06<02:06, 1521.29it/s]"
          ]
        },
        {
          "name": "stdout",
          "output_type": "stream",
          "text": [
            "\n",
            " best loss: \t 0.951058\r\n",
            " best loss: \t 0.9475965\r\n",
            " best loss: \t 0.9246286\r\n",
            " best loss: \t 0.9159775\r\n",
            " best loss: \t 0.9095315\r\n",
            " best loss: \t 0.908327\r\n",
            " best loss: \t 0.9014608\r\n",
            " best loss: \t 0.8476659\r\n",
            " best loss: \t 0.8416351\r\n",
            " best loss: \t 0.8346287\r"
          ]
        },
        {
          "name": "stderr",
          "output_type": "stream",
          "text": [
            "\r",
            "  4%|███▏                                                                      | 8454/200000 [00:06<02:09, 1483.56it/s]"
          ]
        },
        {
          "name": "stdout",
          "output_type": "stream",
          "text": [
            "\n",
            " best loss: \t 0.8325667\r\n",
            " best loss: \t 0.8266816\r\n",
            " best loss: \t 0.823156\r\n",
            " best loss: \t 0.8138513\r\n",
            " best loss: \t 0.8072952\r\n",
            " best loss: \t 0.7962027\r\n",
            " best loss: \t 0.78539693\r\n",
            " best loss: \t 0.7734616\r\n",
            " best loss: \t 0.7533116\r\n",
            " best loss: \t 0.7434887\r\n",
            " best loss: \t 0.742737\r\n",
            " best loss: \t 0.73468584\r\n",
            " best loss: \t 0.73399335\r"
          ]
        },
        {
          "name": "stderr",
          "output_type": "stream",
          "text": [
            "  4%|███▏                                                                      | 8765/200000 [00:07<02:10, 1468.11it/s]"
          ]
        },
        {
          "name": "stdout",
          "output_type": "stream",
          "text": [
            "\n",
            " best loss: \t 0.70919806\r\n",
            " best loss: \t 0.6887371\r\n",
            " best loss: \t 0.6834764\r\n",
            " best loss: \t 0.67903316\r\n",
            " best loss: \t 0.67643744\r\n",
            " best loss: \t 0.673804\r\n",
            " best loss: \t 0.66451603\r\n",
            " best loss: \t 0.6616599\r\n",
            " best loss: \t 0.6580718\r\n",
            " best loss: \t 0.65064794\r\n",
            " best loss: \t 0.64612037\r\n",
            " best loss: \t 0.6299069\r\n",
            " best loss: \t 0.61534035\r"
          ]
        },
        {
          "name": "stderr",
          "output_type": "stream",
          "text": [
            "  5%|███▎                                                                      | 9080/200000 [00:07<02:06, 1507.15it/s]"
          ]
        },
        {
          "name": "stdout",
          "output_type": "stream",
          "text": [
            "\n",
            " best loss: \t 0.603137\r\n",
            " best loss: \t 0.60179377\r\n",
            " best loss: \t 0.60036284\r\n",
            " best loss: \t 0.5943796\r\n",
            " best loss: \t 0.5906518\r"
          ]
        },
        {
          "name": "stderr",
          "output_type": "stream",
          "text": [
            "  5%|███▍                                                                      | 9403/200000 [00:07<02:02, 1555.71it/s]"
          ]
        },
        {
          "name": "stdout",
          "output_type": "stream",
          "text": [
            "\n",
            " best loss: \t 0.5848062\r\n",
            " best loss: \t 0.5833814\r"
          ]
        },
        {
          "name": "stderr",
          "output_type": "stream",
          "text": [
            "  7%|████▊                                                                    | 13266/200000 [00:09<01:54, 1631.54it/s]"
          ]
        },
        {
          "name": "stdout",
          "output_type": "stream",
          "text": [
            "\n",
            " best loss: \t 0.56762373\r\n",
            " best loss: \t 0.56032896\r\n",
            " best loss: \t 0.5602599\r\n",
            " best loss: \t 0.5586762\r\n",
            " best loss: \t 0.5559807\r\n",
            " best loss: \t 0.5444882\r\n",
            " best loss: \t 0.5394157\r\n",
            " best loss: \t 0.5355596\r\n",
            " best loss: \t 0.53035486\r\n",
            " best loss: \t 0.5287743\r"
          ]
        },
        {
          "name": "stderr",
          "output_type": "stream",
          "text": [
            "  7%|████▉                                                                    | 13588/200000 [00:10<02:00, 1550.91it/s]"
          ]
        },
        {
          "name": "stdout",
          "output_type": "stream",
          "text": [
            "\n",
            " best loss: \t 0.52107227\r\n",
            " best loss: \t 0.520416\r\n",
            " best loss: \t 0.5178845\r\n",
            " best loss: \t 0.51788443\r\n",
            " best loss: \t 0.514157\r\n",
            " best loss: \t 0.50807315\r\n",
            " best loss: \t 0.49639675\r\n",
            " best loss: \t 0.49507007\r\n",
            " best loss: \t 0.494553\r\n",
            " best loss: \t 0.4921055\r\n",
            " best loss: \t 0.48803887\r\n",
            " best loss: \t 0.47768095\r"
          ]
        },
        {
          "name": "stderr",
          "output_type": "stream",
          "text": [
            "\r",
            "  7%|█████                                                                    | 13744/200000 [00:10<02:07, 1466.46it/s]"
          ]
        },
        {
          "name": "stdout",
          "output_type": "stream",
          "text": [
            "\n",
            " best loss: \t 0.47083935\r\n",
            " best loss: \t 0.46310836\r\n",
            " best loss: \t 0.4615033\r\n",
            " best loss: \t 0.44776112\r\n",
            " best loss: \t 0.44435498\r\n",
            " best loss: \t 0.43759483\r\n",
            " best loss: \t 0.43185252\r\n",
            " best loss: \t 0.4276487\r"
          ]
        },
        {
          "name": "stderr",
          "output_type": "stream",
          "text": [
            "  7%|█████▏                                                                   | 14056/200000 [00:10<02:05, 1485.91it/s]"
          ]
        },
        {
          "name": "stdout",
          "output_type": "stream",
          "text": [
            "\n",
            " best loss: \t 0.42568207\r\n",
            " best loss: \t 0.4248164\r\n",
            " best loss: \t 0.4152038\r\n",
            " best loss: \t 0.41504848\r\n",
            " best loss: \t 0.40349355\r\n",
            " best loss: \t 0.39581856\r\n",
            " best loss: \t 0.39297703\r\n",
            " best loss: \t 0.39277887\r\n",
            " best loss: \t 0.38861644\r\n",
            " best loss: \t 0.3824628\r\n",
            " best loss: \t 0.38193431\r\n",
            " best loss: \t 0.3804946\r\n",
            " best loss: \t 0.3680828\r"
          ]
        },
        {
          "name": "stderr",
          "output_type": "stream",
          "text": [
            "  7%|█████▏                                                                   | 14371/200000 [00:10<02:03, 1506.75it/s]"
          ]
        },
        {
          "name": "stdout",
          "output_type": "stream",
          "text": [
            "\n",
            " best loss: \t 0.35928458\r\n",
            " best loss: \t 0.3408972\r\n",
            " best loss: \t 0.33387002\r\n",
            " best loss: \t 0.33182955\r\n",
            " best loss: \t 0.32973677\r\n",
            " best loss: \t 0.3273543\r\n",
            " best loss: \t 0.32627186\r\n",
            " best loss: \t 0.32581258\r"
          ]
        },
        {
          "name": "stderr",
          "output_type": "stream",
          "text": [
            "  7%|█████▎                                                                   | 14684/200000 [00:10<02:03, 1501.34it/s]"
          ]
        },
        {
          "name": "stdout",
          "output_type": "stream",
          "text": [
            "\n",
            " best loss: \t 0.32010344\r\n",
            " best loss: \t 0.31892335\r\n",
            " best loss: \t 0.31047487\r\n",
            " best loss: \t 0.30782092\r\n",
            " best loss: \t 0.3076086\r\n",
            " best loss: \t 0.30355245\r\n",
            " best loss: \t 0.3033299\r\n",
            " best loss: \t 0.2997276\r\n",
            " best loss: \t 0.2967999\r\n",
            " best loss: \t 0.2896061\r\n",
            " best loss: \t 0.28827006\r\n",
            " best loss: \t 0.2852599\r\n",
            " best loss: \t 0.28478667\r\n",
            " best loss: \t 0.28424296\r\n",
            " best loss: \t 0.282937\r\n",
            " best loss: \t 0.28258067\r"
          ]
        },
        {
          "name": "stderr",
          "output_type": "stream",
          "text": [
            "  7%|█████▍                                                                   | 14988/200000 [00:11<02:08, 1445.33it/s]"
          ]
        },
        {
          "name": "stdout",
          "output_type": "stream",
          "text": [
            "\n",
            " best loss: \t 0.2820903\r\n",
            " best loss: \t 0.2787367\r\n",
            " best loss: \t 0.27399042\r\n",
            " best loss: \t 0.27369085\r\n",
            " best loss: \t 0.2631491\r\n",
            " best loss: \t 0.25827393\r\n",
            " best loss: \t 0.2565292\r\n",
            " best loss: \t 0.24623191\r\n",
            " best loss: \t 0.24586597\r\n",
            " best loss: \t 0.23508063\r\n",
            " best loss: \t "
          ]
        },
        {
          "name": "stderr",
          "output_type": "stream",
          "text": [
            "  8%|█████▋                                                                   | 15455/200000 [00:11<02:03, 1495.49it/s]"
          ]
        },
        {
          "name": "stdout",
          "output_type": "stream",
          "text": [
            "0.23381035\r\n",
            " best loss: \t 0.23328777\r\n",
            " best loss: \t 0.22736537\r\n",
            " best loss: \t 0.22709584\r\n",
            " best loss: \t 0.2235067\r\n",
            " best loss: \t 0.22079475\r\n",
            " best loss: \t 0.21404542\r\n",
            " best loss: \t 0.21236563\r\n",
            " best loss: \t 0.21048088\r\n",
            " best loss: \t 0.20367214\r"
          ]
        },
        {
          "name": "stderr",
          "output_type": "stream",
          "text": [
            "  8%|█████▊                                                                   | 15759/200000 [00:11<02:02, 1505.85it/s]"
          ]
        },
        {
          "name": "stdout",
          "output_type": "stream",
          "text": [
            "\n",
            " best loss: \t 0.20296243\r\n",
            " best loss: \t 0.19902992\r\n",
            " best loss: \t 0.19825178\r\n",
            " best loss: \t 0.19506343\r\n",
            " best loss: \t 0.19338733\r\n",
            " best loss: \t 0.19302243\r\n",
            " best loss: \t 0.19128902\r\n",
            " best loss: \t 0.1869537\r\n",
            " best loss: \t 0.18385069\r"
          ]
        },
        {
          "name": "stderr",
          "output_type": "stream",
          "text": [
            "  8%|█████▉                                                                   | 16099/200000 [00:11<01:59, 1541.87it/s]"
          ]
        },
        {
          "name": "stdout",
          "output_type": "stream",
          "text": [
            "\n",
            " best loss: \t 0.18021113\r\n",
            " best loss: \t 0.17984879\r\n",
            " best loss: \t 0.17720708\r\n",
            " best loss: \t 0.17570885\r\n",
            " best loss: \t 0.17489052\r\n",
            " best loss: \t 0.1729976\r\n",
            " best loss: \t 0.1651163\r"
          ]
        },
        {
          "name": "stderr",
          "output_type": "stream",
          "text": [
            "  8%|██████                                                                   | 16593/200000 [00:12<01:58, 1551.70it/s]"
          ]
        },
        {
          "name": "stdout",
          "output_type": "stream",
          "text": [
            "\n",
            " best loss: \t 0.16375948\r\n",
            " best loss: \t 0.16292909\r\n",
            " best loss: \t 0.16284315\r\n",
            " best loss: \t 0.15893698\r\n",
            " best loss: \t 0.15843278\r\n",
            " best loss: \t 0.1516038\r\n",
            " best loss: \t 0.14999157\r\n",
            " best loss: \t 0.14610285\r\n",
            " best loss: \t 0.14264503\r\n",
            " best loss: \t 0.14154543\r\n",
            " best loss: \t 0.13895889\r\n",
            " best loss: \t 0.13122895\r\n",
            " best loss: \t 0.13004558\r\n",
            " best loss: \t 0.12866443\r"
          ]
        },
        {
          "name": "stderr",
          "output_type": "stream",
          "text": [
            "\r",
            "  8%|██████                                                                   | 16749/200000 [00:12<01:58, 1548.18it/s]"
          ]
        },
        {
          "name": "stdout",
          "output_type": "stream",
          "text": [
            "\n",
            " best loss: \t 0.12452211\r\n",
            " best loss: \t 0.119120955\r\n",
            " best loss: \t 0.11716542\r\n",
            " best loss: \t 0.1148597\r\n",
            " best loss: \t 0.11394279\r\n",
            " best loss: \t 0.11263002\r\n",
            " best loss: \t 0.11189165\r\n",
            " best loss: \t 0.111826986\r\n",
            " best loss: \t 0.10964974\r\n",
            " best loss: \t 0.10787374\r\n",
            " best loss: \t 0.10716888\r\n",
            " best loss: \t 0.0975551\r\n",
            " best loss: \t 0.0953546\r\n",
            " best loss: \t 0.09439873\r\n",
            " best loss: \t 0.091823414\r\n",
            " best loss: \t 0.08415124\r\n",
            " best loss: \t 0.079184815\r\n",
            " best loss: \t 0.07855728\r\n",
            " best loss: \t 0.075105906\r\n",
            " best loss: \t 0.074978426\r\n",
            " best loss: \t 0.06546666\r\n",
            " best loss: \t 0.0598735\r\n",
            " best loss: \t 0.051707946\r\n",
            " best loss: \t 0.050317127\r\n",
            " best loss: \t 0.046434883\r\n",
            " best loss: \t 0.043610413\r\n",
            " best loss: \t 0.041702792\r\n",
            " best loss: \t 0.04042446\r\n",
            " best loss: \t 0.04020572\r\n",
            " best loss: \t 0.04011485\r"
          ]
        },
        {
          "name": "stderr",
          "output_type": "stream",
          "text": [
            "  9%|██████▏                                                                  | 17072/200000 [00:12<02:11, 1392.39it/s]"
          ]
        },
        {
          "name": "stdout",
          "output_type": "stream",
          "text": [
            "\n",
            " best loss: \t 0.038584556\r\n",
            " best loss: \t 0.0353976\r\n",
            " best loss: \t 0.033924054\r\n",
            " best loss: \t 0.03348873\r\n",
            " best loss: \t 0.032862343\r\n",
            " best loss: \t 0.032530848\r\n",
            " best loss: \t 0.032372627\r\n",
            " best loss: \t 0.031912275\r\n",
            " best loss: \t 0.030556573\r\n",
            " best loss: \t 0.030498607\r"
          ]
        },
        {
          "name": "stderr",
          "output_type": "stream",
          "text": [
            "  9%|██████▎                                                                  | 17359/200000 [00:12<02:11, 1391.53it/s]"
          ]
        },
        {
          "name": "stdout",
          "output_type": "stream",
          "text": [
            "\n",
            " best loss: \t 0.030047182\r\n",
            " best loss: \t 0.029988436\r\n",
            " best loss: \t 0.029908737\r\n",
            " best loss: \t 0.029747384\r\n",
            " best loss: \t 0.029242963\r\n",
            " best loss: \t 0.029000126\r\n",
            " best loss: \t 0.028859619\r\n",
            " best loss: \t 0.028772013\r\n",
            " best loss: \t 0.028551342\r\n",
            " best loss: \t 0.028275542\r\n",
            " best loss: \t 0.027775578\r\n",
            " best loss: \t 0.02773115\r\n",
            " best loss: \t 0.02759379\r\n",
            " best loss: \t 0.027487474\r\n",
            " best loss: \t 0.02691959\r\n",
            " best loss: \t 0.026507005\r\n",
            " best loss: \t 0.026506132\r\n",
            " best loss: \t 0.026478466\r\n",
            " best loss: \t 0.026400732\r\n",
            " best loss: \t 0.026320819\r\n",
            " best loss: \t 0.026104065\r\n",
            " best loss: \t 0.025977451\r\n",
            " best loss: \t 0.025740307\r\n",
            " best loss: \t 0.025606621\r\n",
            " best loss: \t 0.025547393\r\n",
            " best loss: \t 0.025524195\r\n",
            " best loss: \t "
          ]
        },
        {
          "name": "stderr",
          "output_type": "stream",
          "text": [
            "  9%|██████▍                                                                  | 17634/200000 [00:12<02:21, 1286.36it/s]"
          ]
        },
        {
          "name": "stdout",
          "output_type": "stream",
          "text": [
            "0.025503328\r\n",
            " best loss: \t 0.025352264\r\n",
            " best loss: \t 0.025319835\r\n",
            " best loss: \t 0.025318729\r\n",
            " best loss: \t 0.025068723\r\n",
            " best loss: \t 0.024938373\r\n",
            " best loss: \t 0.024578836\r\n",
            " best loss: \t 0.024439259\r\n",
            " best loss: \t 0.024361586\r\n",
            " best loss: \t 0.02431075\r\n",
            " best loss: \t 0.02425921\r\n",
            " best loss: \t 0.024231238\r\n",
            " best loss: \t 0.024165217\r\n",
            " best loss: \t 0.023605958\r\n",
            " best loss: \t 0.02348767\r\n",
            " best loss: \t 0.02344169\r\n",
            " best loss: \t 0.023149721\r\n",
            " best loss: \t 0.023120105\r\n",
            " best loss: \t 0.022797864\r\n",
            " best loss: \t 0.022749275\r\n",
            " best loss: \t 0.022704445\r\n",
            " best loss: \t 0.02261133\r\n",
            " best loss: \t 0.022576278\r\n",
            " best loss: \t 0.02190962\r\n",
            " best loss: \t 0.021861836\r\n",
            " best loss: \t 0.021820912\r"
          ]
        },
        {
          "name": "stderr",
          "output_type": "stream",
          "text": [
            "  9%|██████▌                                                                  | 17931/200000 [00:13<02:16, 1338.13it/s]"
          ]
        },
        {
          "name": "stdout",
          "output_type": "stream",
          "text": [
            "\n",
            " best loss: \t 0.021804243\r\n",
            " best loss: \t 0.021507557\r\n",
            " best loss: \t 0.02084563\r\n",
            " best loss: \t 0.02082227\r\n",
            " best loss: \t 0.020779952\r\n",
            " best loss: \t 0.020415029\r\n",
            " best loss: \t 0.019824106\r\n",
            " best loss: \t 0.019730527\r\n",
            " best loss: \t 0.019459862\r\n",
            " best loss: \t 0.019303387\r\n",
            " best loss: \t 0.018803935\r\n",
            " best loss: \t 0.018475832\r\n",
            " best loss: \t 0.018024093\r"
          ]
        },
        {
          "name": "stderr",
          "output_type": "stream",
          "text": [
            "\r",
            "  9%|██████▌                                                                  | 18089/200000 [00:13<02:10, 1392.46it/s]"
          ]
        },
        {
          "name": "stdout",
          "output_type": "stream",
          "text": [
            "\n",
            " best loss: \t 0.01790753\r\n",
            " best loss: \t 0.01681032\r\n",
            " best loss: \t 0.016808696\r\n",
            " best loss: \t 0.016765693\r\n",
            " best loss: \t 0.01673423\r\n",
            " best loss: \t 0.01651721\r\n",
            " best loss: \t 0.015846897\r"
          ]
        },
        {
          "name": "stderr",
          "output_type": "stream",
          "text": [
            " 10%|███████▍                                                                 | 20404/200000 [00:14<01:45, 1697.02it/s]"
          ]
        },
        {
          "name": "stdout",
          "output_type": "stream",
          "text": [
            "\n",
            " best loss: \t 0.01522579\r\n",
            " best loss: \t 0.014638791\r\n",
            " best loss: \t 0.012832698\r"
          ]
        },
        {
          "name": "stderr",
          "output_type": "stream",
          "text": [
            " 11%|███████▊                                                                 | 21284/200000 [00:15<01:46, 1674.75it/s]"
          ]
        },
        {
          "name": "stdout",
          "output_type": "stream",
          "text": [
            "\n",
            " best loss: \t 0.012150691\r"
          ]
        },
        {
          "name": "stderr",
          "output_type": "stream",
          "text": [
            " 11%|███████▉                                                                 | 21806/200000 [00:15<01:47, 1654.01it/s]"
          ]
        },
        {
          "name": "stdout",
          "output_type": "stream",
          "text": [
            "\n",
            " best loss: \t 0.01079908\r"
          ]
        },
        {
          "name": "stderr",
          "output_type": "stream",
          "text": [
            " 11%|████████                                                                 | 22164/200000 [00:15<01:47, 1651.59it/s]"
          ]
        },
        {
          "name": "stdout",
          "output_type": "stream",
          "text": [
            "\n",
            " best loss: \t 0.009669747\r"
          ]
        },
        {
          "name": "stderr",
          "output_type": "stream",
          "text": [
            " 11%|████████▎                                                                | 22889/200000 [00:16<01:46, 1668.69it/s]"
          ]
        },
        {
          "name": "stdout",
          "output_type": "stream",
          "text": [
            "\n",
            " best loss: \t 0.008920651\r\n",
            " best loss: \t 0.008367905\r"
          ]
        },
        {
          "name": "stderr",
          "output_type": "stream",
          "text": [
            " 12%|████████▌                                                                | 23442/200000 [00:16<01:45, 1677.23it/s]"
          ]
        },
        {
          "name": "stdout",
          "output_type": "stream",
          "text": [
            "\n",
            " best loss: \t 0.0074560344\r"
          ]
        },
        {
          "name": "stderr",
          "output_type": "stream",
          "text": [
            " 12%|████████▊                                                                | 24181/200000 [00:16<01:43, 1695.24it/s]"
          ]
        },
        {
          "name": "stdout",
          "output_type": "stream",
          "text": [
            "\n",
            " best loss: \t 0.0070067802\r"
          ]
        },
        {
          "name": "stderr",
          "output_type": "stream",
          "text": [
            " 12%|█████████                                                                | 24708/200000 [00:17<01:45, 1669.18it/s]"
          ]
        },
        {
          "name": "stdout",
          "output_type": "stream",
          "text": [
            "\n",
            " best loss: \t 0.0055947863\r"
          ]
        },
        {
          "name": "stderr",
          "output_type": "stream",
          "text": [
            " 13%|█████████▍                                                               | 25989/200000 [00:17<01:44, 1667.30it/s]"
          ]
        },
        {
          "name": "stdout",
          "output_type": "stream",
          "text": [
            "\n",
            " best loss: \t 0.0051092403\r\n",
            " best loss: \t 0.005045166\r\n",
            " best loss: \t 0.0039296504\r"
          ]
        },
        {
          "name": "stderr",
          "output_type": "stream",
          "text": [
            " 16%|███████████▋                                                             | 32117/200000 [00:21<01:38, 1696.96it/s]"
          ]
        },
        {
          "name": "stdout",
          "output_type": "stream",
          "text": [
            "\n",
            " best loss: \t 0.0033776355\r"
          ]
        },
        {
          "name": "stderr",
          "output_type": "stream",
          "text": [
            " 16%|███████████▉                                                             | 32829/200000 [00:22<01:40, 1660.61it/s]"
          ]
        },
        {
          "name": "stdout",
          "output_type": "stream",
          "text": [
            "\n",
            " best loss: \t 0.0028256192\r"
          ]
        },
        {
          "name": "stderr",
          "output_type": "stream",
          "text": [
            " 17%|████████████▎                                                            | 33886/200000 [00:22<01:41, 1638.99it/s]"
          ]
        },
        {
          "name": "stdout",
          "output_type": "stream",
          "text": [
            "\n",
            " best loss: \t 0.0025870507\r\n",
            " best loss: \t 0.0023959924\r"
          ]
        },
        {
          "name": "stderr",
          "output_type": "stream",
          "text": [
            " 17%|████████████▍                                                            | 34230/200000 [00:22<01:41, 1630.66it/s]"
          ]
        },
        {
          "name": "stdout",
          "output_type": "stream",
          "text": [
            "\n",
            " best loss: \t 0.0022370268\r\n",
            " best loss: \t 0.002171608\r"
          ]
        },
        {
          "name": "stderr",
          "output_type": "stream",
          "text": [
            " 17%|████████████▌                                                            | 34579/200000 [00:23<01:41, 1624.26it/s]"
          ]
        },
        {
          "name": "stdout",
          "output_type": "stream",
          "text": [
            "\n",
            " best loss: \t 0.0021590171\r"
          ]
        },
        {
          "name": "stderr",
          "output_type": "stream",
          "text": [
            " 18%|████████████▊                                                            | 35100/200000 [00:23<01:40, 1643.24it/s]"
          ]
        },
        {
          "name": "stdout",
          "output_type": "stream",
          "text": [
            "\n",
            " best loss: \t 0.0021294206\r\n",
            " best loss: \t "
          ]
        },
        {
          "name": "stderr",
          "output_type": "stream",
          "text": [
            " 18%|████████████▉                                                            | 35454/200000 [00:23<01:39, 1647.21it/s]"
          ]
        },
        {
          "name": "stdout",
          "output_type": "stream",
          "text": [
            "0.0020203514\r"
          ]
        },
        {
          "name": "stderr",
          "output_type": "stream",
          "text": [
            " 18%|█████████████▏                                                           | 36147/200000 [00:24<01:38, 1661.89it/s]"
          ]
        },
        {
          "name": "stdout",
          "output_type": "stream",
          "text": [
            "\n",
            " best loss: \t 0.0017879984\r\n",
            " best loss: \t 0.0015505701\r"
          ]
        },
        {
          "name": "stderr",
          "output_type": "stream",
          "text": [
            " 18%|█████████████▍                                                           | 36676/200000 [00:24<01:38, 1666.46it/s]"
          ]
        },
        {
          "name": "stdout",
          "output_type": "stream",
          "text": [
            "\n",
            " best loss: \t 0.0014323901\r"
          ]
        },
        {
          "name": "stderr",
          "output_type": "stream",
          "text": [
            " 19%|█████████████▌                                                           | 37026/200000 [00:24<01:39, 1644.79it/s]"
          ]
        },
        {
          "name": "stdout",
          "output_type": "stream",
          "text": [
            "\n",
            " best loss: \t 0.001397761\r\n",
            " best loss: \t 0.001311651\r\n",
            " best loss: \t 0.0012963363\r"
          ]
        },
        {
          "name": "stderr",
          "output_type": "stream",
          "text": [
            " 19%|█████████████▋                                                           | 37544/200000 [00:24<01:40, 1624.37it/s]"
          ]
        },
        {
          "name": "stdout",
          "output_type": "stream",
          "text": [
            "\n",
            " best loss: \t 0.0010094955\r\n",
            " best loss: \t 0.0010090187\r\n",
            " best loss: \t 0.0009869955\r"
          ]
        },
        {
          "name": "stderr",
          "output_type": "stream",
          "text": [
            " 19%|█████████████▊                                                           | 37892/200000 [00:25<01:40, 1617.40it/s]"
          ]
        },
        {
          "name": "stdout",
          "output_type": "stream",
          "text": [
            "\n",
            " best loss: \t 0.0009707105\r\n",
            " best loss: \t 0.00089670037\r\n",
            " best loss: \t 0.00074953976\r"
          ]
        },
        {
          "name": "stderr",
          "output_type": "stream",
          "text": [
            " 19%|██████████████                                                           | 38427/200000 [00:25<01:39, 1617.47it/s]"
          ]
        },
        {
          "name": "stdout",
          "output_type": "stream",
          "text": [
            "\n",
            " best loss: \t 0.000720924\r\n",
            " best loss: \t 0.0007195203\r\n",
            " best loss: \t 0.0006999528\r\n",
            " best loss: \t 0.0006588344\r"
          ]
        },
        {
          "name": "stderr",
          "output_type": "stream",
          "text": [
            " 19%|██████████████▏                                                          | 38770/200000 [00:25<01:40, 1602.36it/s]"
          ]
        },
        {
          "name": "stdout",
          "output_type": "stream",
          "text": [
            "\n",
            " best loss: \t 0.00065299525\r\n",
            " best loss: \t 0.0006333713\r\n",
            " best loss: \t 0.0005798442\r\n",
            " best loss: \t 0.0005765994\r"
          ]
        },
        {
          "name": "stderr",
          "output_type": "stream",
          "text": [
            " 20%|██████████████▎                                                          | 39098/200000 [00:25<01:41, 1583.69it/s]"
          ]
        },
        {
          "name": "stdout",
          "output_type": "stream",
          "text": [
            "\n",
            " best loss: \t 0.0005247312\r\n",
            " best loss: \t 0.0005200248\r\n",
            " best loss: \t 0.0004995578\r\n",
            " best loss: \t 0.00041641257\r"
          ]
        },
        {
          "name": "stderr",
          "output_type": "stream",
          "text": [
            " 20%|██████████████▍                                                          | 39631/200000 [00:26<01:39, 1615.40it/s]"
          ]
        },
        {
          "name": "stdout",
          "output_type": "stream",
          "text": [
            "\n",
            " best loss: \t 0.0003711864\r\n",
            " best loss: \t 0.00035565306\r\n",
            " best loss: \t 0.00034054136\r\n",
            " best loss: \t 0.00033782824\r\n",
            " best loss: \t 0.0003193853\r"
          ]
        },
        {
          "name": "stderr",
          "output_type": "stream",
          "text": [
            " 20%|██████████████▌                                                          | 40001/200000 [00:26<01:39, 1605.34it/s]"
          ]
        },
        {
          "name": "stdout",
          "output_type": "stream",
          "text": [
            "\n",
            " best loss: \t 0.00031729246\r\n",
            " best loss: \t 0.00030484123\r\n",
            " best loss: \t 0.00027866298\r\n",
            " best loss: \t 0.00024938333\r"
          ]
        },
        {
          "name": "stderr",
          "output_type": "stream",
          "text": [
            " 20%|██████████████▊                                                          | 40485/200000 [00:26<01:39, 1607.98it/s]"
          ]
        },
        {
          "name": "stdout",
          "output_type": "stream",
          "text": [
            "\n",
            " best loss: \t 0.0002101877\r\n",
            " best loss: \t 0.0001994302\r"
          ]
        },
        {
          "name": "stderr",
          "output_type": "stream",
          "text": [
            " 21%|███████████████                                                          | 41166/200000 [00:27<01:37, 1636.30it/s]"
          ]
        },
        {
          "name": "stdout",
          "output_type": "stream",
          "text": [
            "\n",
            " best loss: \t 0.00018967898\r\n",
            " best loss: \t 0.00018199993\r\n",
            " best loss: \t 0.00015687969\r"
          ]
        },
        {
          "name": "stderr",
          "output_type": "stream",
          "text": [
            " 21%|███████████████▎                                                         | 41841/200000 [00:27<01:35, 1651.18it/s]"
          ]
        },
        {
          "name": "stdout",
          "output_type": "stream",
          "text": [
            "\n",
            " best loss: \t 0.00015423562\r"
          ]
        },
        {
          "name": "stderr",
          "output_type": "stream",
          "text": [
            " 43%|███████████████████████████████▏                                         | 85480/200000 [00:53<01:10, 1622.57it/s]"
          ]
        },
        {
          "name": "stdout",
          "output_type": "stream",
          "text": [
            "\n",
            " best loss: \t 0.00015324957\r\n",
            " best loss: \t 0.00015083149\r\n",
            " best loss: \t 0.00014973205\r\n",
            " best loss: \t 0.00014951282\r\n",
            " best loss: \t 0.00014787656\r\n",
            " best loss: \t 0.00014768739\r\n",
            " best loss: \t 0.00014747611\r\n",
            " best loss: \t 0.0001440683\r\n",
            " best loss: \t 0.0001433323\r\n",
            " best loss: \t 0.0001406594\r\n",
            " best loss: \t 0.00013868092\r\n",
            " best loss: \t 0.00013791429\r\n",
            " best loss: \t 0.00013624472\r\n",
            " best loss: \t 0.00013622938\r\n",
            " best loss: \t 0.00013588805\r\n",
            " best loss: \t 0.00013539426\r\n",
            " best loss: \t 0.00013518926\r\n",
            " best loss: \t 0.00013415025\r"
          ]
        },
        {
          "name": "stderr",
          "output_type": "stream",
          "text": [
            " 43%|███████████████████████████████▎                                         | 85799/200000 [00:53<01:16, 1495.33it/s]"
          ]
        },
        {
          "name": "stdout",
          "output_type": "stream",
          "text": [
            "\n",
            " best loss: \t 0.00013217589\r\n",
            " best loss: \t 0.00013204722\r\n",
            " best loss: \t 0.00013044183\r\n",
            " best loss: \t 0.00013039427\r\n",
            " best loss: \t 0.0001289417\r\n",
            " best loss: \t 0.00012691382\r\n",
            " best loss: \t 0.00012485943\r\n",
            " best loss: \t 0.00012279481\r\n",
            " best loss: \t 0.0001226518\r\n",
            " best loss: \t 0.00012210524\r\n",
            " best loss: \t 0.000120424986\r\n",
            " best loss: \t 0.000119345095\r\n",
            " best loss: \t 0.00011750755\r\n",
            " best loss: \t 0.000117415664\r\n",
            " best loss: \t 0.00011657202\r\n",
            " best loss: \t 0.00011564132\r\n",
            " best loss: \t 0.00011401555\r\n",
            " best loss: \t 0.00011038197\r\n",
            " best loss: \t 0.00010762179\r\n",
            " best loss: \t 0.00010732151\r"
          ]
        },
        {
          "name": "stderr",
          "output_type": "stream",
          "text": [
            " 43%|███████████████████████████████▍                                         | 86103/200000 [00:53<01:19, 1436.90it/s]"
          ]
        },
        {
          "name": "stdout",
          "output_type": "stream",
          "text": [
            "\n",
            " best loss: \t 0.00010590982\r\n",
            " best loss: \t 0.00010459904\r\n",
            " best loss: \t 0.00010358256\r\n",
            " best loss: \t 0.00010259846\r\n",
            " best loss: \t 9.8991666e-05\r\n",
            " best loss: \t 9.65825e-05\r\n",
            " best loss: \t 9.536364e-05\r\n",
            " best loss: \t 9.509925e-05\r\n",
            " best loss: \t 9.350524e-05\r\n",
            " best loss: \t 9.0564194e-05\r\n",
            " best loss: \t 8.8934874e-05\r\n",
            " best loss: \t 8.8320565e-05\r"
          ]
        },
        {
          "name": "stderr",
          "output_type": "stream",
          "text": [
            " 43%|███████████████████████████████▌                                         | 86414/200000 [00:54<01:15, 1494.97it/s]"
          ]
        },
        {
          "name": "stdout",
          "output_type": "stream",
          "text": [
            "\n",
            " best loss: \t 8.450682e-05\r\n",
            " best loss: \t 7.712342e-05\r\n",
            " best loss: \t 7.596333e-05\r\n",
            " best loss: \t 7.4479205e-05\r\n",
            " best loss: \t 7.306661e-05\r\n",
            " best loss: \t 7.247159e-05\r\n",
            " best loss: \t 6.9544476e-05\r\n",
            " best loss: \t 6.641759e-05\r\n",
            " best loss: \t 6.465541e-05\r"
          ]
        },
        {
          "name": "stderr",
          "output_type": "stream",
          "text": [
            " 43%|███████████████████████████████▋                                         | 86911/200000 [00:54<01:12, 1559.95it/s]"
          ]
        },
        {
          "name": "stdout",
          "output_type": "stream",
          "text": [
            "\n",
            " best loss: \t 5.8814036e-05\r\n",
            " best loss: \t 5.3057865e-05\r\n",
            " best loss: \t 5.218086e-05\r"
          ]
        },
        {
          "name": "stderr",
          "output_type": "stream",
          "text": [
            " 44%|███████████████████████████████▊                                         | 87280/200000 [00:54<01:11, 1578.30it/s]"
          ]
        },
        {
          "name": "stdout",
          "output_type": "stream",
          "text": [
            "\n",
            " best loss: \t 5.1474217e-05\r\n",
            " best loss: \t 4.847584e-05\r\n",
            " best loss: \t 4.7501082e-05\r\n",
            " best loss: \t 4.7058762e-05\r\n",
            " best loss: \t 4.4339107e-05\r"
          ]
        },
        {
          "name": "stderr",
          "output_type": "stream",
          "text": [
            " 44%|███████████████████████████████▉                                         | 87615/200000 [00:54<01:11, 1565.20it/s]"
          ]
        },
        {
          "name": "stdout",
          "output_type": "stream",
          "text": [
            "\n",
            " best loss: \t 4.3933265e-05\r\n",
            " best loss: \t 4.3902495e-05\r\n",
            " best loss: \t 3.960956e-05\r\n",
            " best loss: \t 3.891794e-05\r\n",
            " best loss: \t 3.8705213e-05\r"
          ]
        },
        {
          "name": "stderr",
          "output_type": "stream",
          "text": [
            " 52%|█████████████████████████████████████                                   | 103110/200000 [01:04<01:02, 1557.61it/s]"
          ]
        },
        {
          "name": "stdout",
          "output_type": "stream",
          "text": [
            "\n",
            " best loss: \t 3.8289338e-05\r\n",
            " best loss: \t 3.739493e-05\r\n",
            " best loss: \t 3.6099707e-05\r\n",
            " best loss: \t 3.5703488e-05\r\n",
            " best loss: \t 3.5172437e-05\r\n",
            " best loss: \t 3.508886e-05\r\n",
            " best loss: \t 3.497095e-05\r\n",
            " best loss: \t 3.492266e-05\r\n",
            " best loss: \t 3.4347617e-05\r\n",
            " best loss: \t 3.4233217e-05\r\n",
            " best loss: \t 3.3331413e-05\r\n",
            " best loss: \t 3.1371637e-05\r\n",
            " best loss: \t 3.072704e-05\r"
          ]
        },
        {
          "name": "stderr",
          "output_type": "stream",
          "text": [
            " 52%|█████████████████████████████████████▏                                  | 103445/200000 [01:04<01:02, 1533.60it/s]"
          ]
        },
        {
          "name": "stdout",
          "output_type": "stream",
          "text": [
            "\n",
            " best loss: \t 2.8742272e-05\r\n",
            " best loss: \t 2.8682545e-05\r\n",
            " best loss: \t 2.8538016e-05\r\n",
            " best loss: \t 2.8408234e-05\r\n",
            " best loss: \t 2.7667727e-05\r\n",
            " best loss: \t 2.733022e-05\r\n",
            " best loss: \t 2.6803475e-05\r\n",
            " best loss: \t 2.639042e-05\r\n",
            " best loss: \t 2.6334741e-05\r\n",
            " best loss: \t 2.5742158e-05\r\n",
            " best loss: \t 2.5179928e-05\r\n",
            " best loss: \t 2.3968169e-05\r\n",
            " best loss: \t 2.3448334e-05\r\n",
            " best loss: \t 2.3374496e-05\r\n",
            " best loss: \t 2.2920685e-05\r"
          ]
        },
        {
          "name": "stderr",
          "output_type": "stream",
          "text": [
            " 52%|█████████████████████████████████████▎                                  | 103755/200000 [01:04<01:03, 1526.41it/s]"
          ]
        },
        {
          "name": "stdout",
          "output_type": "stream",
          "text": [
            "\n",
            " best loss: \t 2.2357293e-05\r\n",
            " best loss: \t 2.2085153e-05\r\n",
            " best loss: \t 2.1362626e-05\r\n",
            " best loss: \t 2.1189648e-05\r\n",
            " best loss: \t 2.052285e-05\r\n",
            " best loss: \t 2.0134234e-05\r\n",
            " best loss: \t 1.8858835e-05\r\n",
            " best loss: \t 1.8425528e-05\r"
          ]
        },
        {
          "name": "stderr",
          "output_type": "stream",
          "text": [
            " 52%|█████████████████████████████████████▍                                  | 104082/200000 [01:05<01:01, 1553.79it/s]"
          ]
        },
        {
          "name": "stdout",
          "output_type": "stream",
          "text": [
            "\n",
            " best loss: \t 1.7304248e-05\r\n",
            " best loss: \t 1.5346559e-05\r\n",
            " best loss: \t 1.5182235e-05\r\n",
            " best loss: \t 1.51532695e-05\r"
          ]
        },
        {
          "name": "stderr",
          "output_type": "stream",
          "text": [
            " 52%|█████████████████████████████████████▌                                  | 104388/200000 [01:05<01:05, 1470.87it/s]"
          ]
        },
        {
          "name": "stdout",
          "output_type": "stream",
          "text": [
            "\n",
            " best loss: \t 1.4081621e-05\r\n",
            " best loss: \t 1.3501059e-05\r\n",
            " best loss: \t 1.33898375e-05\r\n",
            " best loss: \t 1.31722645e-05\r\n",
            " best loss: \t 1.2872931e-05\r\n",
            " best loss: \t 1.27021585e-05\r\n",
            " best loss: \t 1.2640188e-05\r\n",
            " best loss: \t "
          ]
        },
        {
          "name": "stderr",
          "output_type": "stream",
          "text": [
            " 52%|█████████████████████████████████████▋                                  | 104696/200000 [01:05<01:03, 1489.97it/s]"
          ]
        },
        {
          "name": "stdout",
          "output_type": "stream",
          "text": [
            "1.1835991e-05\r\n",
            " best loss: \t 1.1716982e-05\r\n",
            " best loss: \t 1.1599333e-05\r\n",
            " best loss: \t 1.1182217e-05\r\n",
            " best loss: \t 1.0947815e-05\r\n",
            " best loss: \t 1.0700665e-05\r"
          ]
        },
        {
          "name": "stderr",
          "output_type": "stream",
          "text": [
            " 53%|█████████████████████████████████████▊                                  | 105048/200000 [01:05<01:01, 1536.92it/s]"
          ]
        },
        {
          "name": "stdout",
          "output_type": "stream",
          "text": [
            "\n",
            " best loss: \t 1.0583446e-05\r\n",
            " best loss: \t 1.0500457e-05\r\n",
            " best loss: \t 1.0312274e-05\r\n",
            " best loss: \t 9.286021e-06\r\n",
            " best loss: \t 9.066007e-06\r\n",
            " best loss: \t 7.852781e-06\r"
          ]
        },
        {
          "name": "stderr",
          "output_type": "stream",
          "text": [
            " 53%|██████████████████████████████████████                                  | 105760/200000 [01:06<01:00, 1564.23it/s]"
          ]
        },
        {
          "name": "stdout",
          "output_type": "stream",
          "text": [
            "\n",
            " best loss: \t 7.635475e-06\r"
          ]
        },
        {
          "name": "stderr",
          "output_type": "stream",
          "text": [
            "100%|████████████████████████████████████████████████████████████████████████| 200000/200000 [02:13<00:00, 1500.17it/s]"
          ]
        },
        {
          "name": "stdout",
          "output_type": "stream",
          "text": [
            "\n",
            "\n",
            "Value error:  0.0025232686\n",
            "Consumption error :  0.0048121423\n",
            "Boundary error :  0.0\n",
            "Sum of errors:  0.007335411\n"
          ]
        },
        {
          "name": "stderr",
          "output_type": "stream",
          "text": [
            "\n"
          ]
        }
      ],
      "source": [
        "###############################################################################\n",
        "################################ Training Step ################################\n",
        "###############################################################################\n",
        "\n",
        "# Need decorator to run in graph mode instead of eager exectution\n",
        "@tf.function\n",
        "def training_step():\n",
        "    with tf.GradientTape(persistent = True) as tape:\n",
        "        lossV, lossC, lossB, total_loss  = Loss_function(batchSize)\n",
        "    gradsV = tape.gradient(total_loss, thetaVF)\n",
        "    gradsC = tape.gradient(total_loss, thetaCF)\n",
        "    optimizer.apply_gradients(zip(gradsV, thetaVF))\n",
        "    optimizer.apply_gradients(zip(gradsC, thetaCF))\n",
        "    return lossV, lossC, lossB, total_loss\n",
        "\n",
        "###############################################################################\n",
        "################################ Training Loop ################################\n",
        "###############################################################################\n",
        "\n",
        "def train_model(epochs, min_loss):\n",
        "    lossesV = []\n",
        "    lossesC = []\n",
        "    lossesB = []\n",
        "    total_losses = []\n",
        "\n",
        "    # auxiliar NN that keeps track of the best approximation so far\n",
        "    best_VF = tf.keras.models.clone_model(VF)\n",
        "    best_CF = tf.keras.models.clone_model(CF)       \n",
        "       \n",
        "        \n",
        "    # set the first loss equal to infinity\n",
        "    min_loss = float(\"inf\")         \n",
        "    for epoch in trange(epochs):\n",
        "#         if epoch > 50000:\n",
        "#             nBurnedIter = 2   \n",
        "        lossV, lossC, lossB, total_loss = training_step()\n",
        "        if (total_loss < min_loss):\n",
        "            lowest_iteration = epoch\n",
        "            min_loss = total_loss\n",
        "            best_VF.set_weights(VF.get_weights())\n",
        "            best_CF.set_weights(CF.get_weights())\n",
        "            print(\"\\n best loss: \\t\", min_loss.numpy(), end=\"\\r\")\n",
        "        lossesV.append(lossV.numpy())\n",
        "        lossesC.append(lossC.numpy())\n",
        "        lossesB.append(lossB.numpy())\n",
        "        total_losses.append(total_loss.numpy())\n",
        "\n",
        "    return lossesV, lossesC, lossesB, total_losses, lowest_iteration, min_loss, best_VF, best_CF\n",
        "\n",
        "###############################################################################\n",
        "################################### Running ###################################\n",
        "###############################################################################\n",
        "\n",
        "# Set up neural network\n",
        "VF = NeuralNet(initGuess = VFInitGuess)\n",
        "CF = NeuralNet()\n",
        "\n",
        "# Define trainable network parameters\n",
        "thetaVF = VF.trainable_variables\n",
        "thetaCF = CF.trainable_variables\n",
        "\n",
        "# Run Model (and output loss evolution) \n",
        "lossesV, lossesC, lossesB, total_losses, min_loss_iteration, minimum_loss, best_VF, best_CF = train_model(number_epochs, min_loss)\n",
        "\n",
        "VF.set_weights(best_VF.get_weights())\n",
        "CF.set_weights(best_CF.get_weights())\n",
        "\n",
        "# print(results[2])\n",
        "# print(results[3])\n",
        "print('\\n')\n",
        "print(\"Value error: \", lossesV[-1])\n",
        "print(\"Consumption error : \", lossesC[-1])\n",
        "print(\"Boundary error : \", lossesB[-1])\n",
        "print(\"Sum of errors: \", total_losses[-1])\n"
      ]
    },
    {
      "cell_type": "code",
      "execution_count": null,
      "id": "9a47b407",
      "metadata": {
        "ExecuteTime": {
          "end_time": "2022-02-06T12:16:39.297318Z",
          "start_time": "2022-02-06T12:16:36.512869Z"
        },
        "id": "9a47b407",
        "outputId": "f3273f7c-d7c2-44b6-81aa-0634624826c8"
      },
      "outputs": [
        {
          "data": {
            "image/png": "[encoded data removed]",
            "text/plain": [
              "<Figure size 432x288 with 1 Axes>"
            ]
          },
          "metadata": {
            "needs_background": "light"
          },
          "output_type": "display_data"
        },
        {
          "data": {
            "image/png": "[encoded data removed]",
            "text/plain": [
              "<Figure size 432x288 with 1 Axes>"
            ]
          },
          "metadata": {
            "needs_background": "light"
          },
          "output_type": "display_data"
        },
        {
          "data": {
            "image/png": "[encoded data removed]",
            "text/plain": [
              "<Figure size 432x288 with 1 Axes>"
            ]
          },
          "metadata": {
            "needs_background": "light"
          },
          "output_type": "display_data"
        },
        {
          "data": {
            "image/png": "[encoded data removed]",
            "text/plain": [
              "<Figure size 432x288 with 1 Axes>"
            ]
          },
          "metadata": {
            "needs_background": "light"
          },
          "output_type": "display_data"
        },
        {
          "data": {
            "image/png": "[encoded data removed]",
            "text/plain": [
              "<Figure size 432x288 with 1 Axes>"
            ]
          },
          "metadata": {
            "needs_background": "light"
          },
          "output_type": "display_data"
        },
        {
          "data": {
            "image/png": "[encoded data removed]",
            "text/plain": [
              "<Figure size 432x288 with 1 Axes>"
            ]
          },
          "metadata": {
            "needs_background": "light"
          },
          "output_type": "display_data"
        }
      ],
      "source": [
        "###############################################################################\n",
        "################################### Plotting ##################################\n",
        "###############################################################################\n",
        "\n",
        "# Define plotting grid\n",
        "K = tf.cast(np.linspace(kMin, kMax, gridSize).reshape(gridSize, 1), tf.float32)\n",
        "\n",
        "#Import reference results\n",
        "reference_V = np.genfromtxt('BEN_V.csv')\n",
        "reference_C = np.genfromtxt('BEN_C.csv')\n",
        "\n",
        "#os.mkdir('results_policy_function_with_reference')\n",
        "#os.chdir('results_policy_function_with_reference')\n",
        "\n",
        "matplotlib.rcParams.update({'legend.fontsize': 15, 'axes.labelsize': 14, 'axes.titlesize': 14})\n",
        "# Plot value loss function (as sqrt)\n",
        "fig = plt.figure()\n",
        "plt.plot(lossesV)\n",
        "plt.rc('text', usetex=False)\n",
        "plt.rc('font', family='sans-serif', serif = 'Computer Modern Sans serif')\n",
        "plt.xscale('log')\n",
        "plt.yscale('log')\n",
        "plt.xlabel('Number of iterations')\n",
        "plt.ylabel('Value Loss')\n",
        "# plt.title('Value Loss Evolution')\n",
        "plt.grid(alpha=0.2)\n",
        "#fig.savefig('Value_Loss.png')\n",
        "\n",
        "# Plot consumption FOC loss function (as sqrt)\n",
        "fig = plt.figure()\n",
        "plt.plot(lossesC)\n",
        "plt.rc('text', usetex=False)\n",
        "plt.rc('font', family='sans-serif', serif = 'Computer Modern Sans serif')\n",
        "plt.xscale('log')\n",
        "plt.yscale('log')\n",
        "plt.xlabel('Number of iterations')\n",
        "plt.ylabel('Consumption FOC Loss')\n",
        "# plt.title('Consumption Loss Evolution')\n",
        "plt.grid(alpha=0.2)\n",
        "#fig.savefig('C_Loss.png')\n",
        "\n",
        "# Plot boundary loss function\n",
        "fig = plt.figure()\n",
        "plt.plot(lossesB)\n",
        "plt.rc('text', usetex=False)\n",
        "plt.rc('font', family='sans-serif', serif = 'Computer Modern Sans serif')\n",
        "plt.xscale('log')\n",
        "plt.yscale('log')\n",
        "plt.xlabel('Number of iterations')\n",
        "plt.ylabel('Boundary Loss')\n",
        "# plt.title('Consumption Loss Evolution')\n",
        "plt.grid(alpha=0.2)\n",
        "#fig.savefig('C_Loss.png')\n",
        "\n",
        "# Plot Total loss (lossesV + lossesC + lossesB)\n",
        "fig = plt.figure()\n",
        "plt.plot(total_losses)\n",
        "plt.rc('text', usetex=False)\n",
        "plt.rc('font', family='sans-serif', serif = 'Computer Modern Sans serif')\n",
        "plt.xscale('log')\n",
        "plt.yscale('log')\n",
        "plt.xlabel('Number of iterations')\n",
        "plt.ylabel('Total Loss')\n",
        "# plt.title('Consumption Loss Evolution')\n",
        "plt.grid(alpha=0.2)\n",
        "#fig.savefig('C_Loss.png')\n",
        "\n",
        "# Plot value function\n",
        "fig = plt.figure()\n",
        "plt.plot(K, VF(K), color = \"tab:blue\", label = \"Neural Network Approximation\", linewidth = 3, linestyle=':')\n",
        "plt.plot(K, reference_V, color= \"tab:orange\", label = \"Finite Difference Scheme\", linewidth = 3, linestyle=(0, (5, 2, 1, 2)), dash_capstyle='round')\n",
        "plt.rc('text', usetex=False)\n",
        "plt.rc('font', family='sans-serif', serif = 'Computer Modern Sans serif')\n",
        "plt.xlabel('Capital')\n",
        "plt.ylabel('Value')\n",
        "# plt.title('Value Function')\n",
        "plt.legend(loc = \"lower right\")\n",
        "plt.grid(alpha=0.2)\n",
        "#fig.savefig('Value_Function.png')\n",
        "\n",
        "# Plot consumption policy function\n",
        "fig = plt.figure()\n",
        "plt.plot(K, tf.exp(CF(K)), color = \"tab:blue\", label = \"Neural Network Approximation\", linewidth = 3, linestyle=':')\n",
        "plt.plot(K, reference_C, color= \"tab:orange\", label = \"Finite Difference Scheme\", linewidth = 3, linestyle=(0, (5, 2, 1, 2)), dash_capstyle='round')\n",
        "plt.rc('text', usetex=False)\n",
        "plt.rc('font', family='sans-serif', serif = 'Computer Modern Sans serif')\n",
        "plt.xlabel('Capital')\n",
        "plt.ylabel('Consumption')\n",
        "# plt.title('Consumption Policy Function')\n",
        "plt.legend(loc = \"lower right\")\n",
        "plt.grid(alpha=0.2)\n",
        "#fig.savefig('C_function.png')"
      ]
    },
    {
      "cell_type": "code",
      "execution_count": null,
      "id": "43d326b1",
      "metadata": {
        "ExecuteTime": {
          "end_time": "2022-02-06T12:09:48.497110Z",
          "start_time": "2022-02-06T12:09:45.938337Z"
        },
        "id": "43d326b1",
        "outputId": "67720784-d44e-4bd6-ddc0-419773ac8eb5"
      },
      "outputs": [
        {
          "data": {
            "image/png": "[encoded data removed]",
            "text/plain": [
              "<Figure size 432x288 with 1 Axes>"
            ]
          },
          "metadata": {
            "needs_background": "light"
          },
          "output_type": "display_data"
        },
        {
          "data": {
            "image/png": "[encoded data removed]",
            "text/plain": [
              "<Figure size 432x288 with 1 Axes>"
            ]
          },
          "metadata": {
            "needs_background": "light"
          },
          "output_type": "display_data"
        },
        {
          "data": {
            "image/png": "[encoded data removed]",
            "text/plain": [
              "<Figure size 432x288 with 1 Axes>"
            ]
          },
          "metadata": {
            "needs_background": "light"
          },
          "output_type": "display_data"
        },
        {
          "data": {
            "image/png": "[encoded data removed]",
            "text/plain": [
              "<Figure size 432x288 with 1 Axes>"
            ]
          },
          "metadata": {
            "needs_background": "light"
          },
          "output_type": "display_data"
        },
        {
          "data": {
            "image/png": "[encoded data removed]",
            "text/plain": [
              "<Figure size 432x288 with 1 Axes>"
            ]
          },
          "metadata": {
            "needs_background": "light"
          },
          "output_type": "display_data"
        },
        {
          "data": {
            "image/png": "[encoded data removed]",
            "text/plain": [
              "<Figure size 432x288 with 1 Axes>"
            ]
          },
          "metadata": {
            "needs_background": "light"
          },
          "output_type": "display_data"
        }
      ],
      "source": [
        "###############################################################################\n",
        "################################### Plotting ##################################\n",
        "###############################################################################\n",
        "\n",
        "# Define plotting grid\n",
        "K = tf.cast(np.linspace(kMin, kMax, gridSize).reshape(gridSize, 1), tf.float32)\n",
        "\n",
        "#Import reference results\n",
        "reference_V = np.genfromtxt('BEN_V.csv')\n",
        "reference_C = np.genfromtxt('BEN_C.csv')\n",
        "\n",
        "#os.mkdir('results_policy_function_with_reference')\n",
        "#os.chdir('results_policy_function_with_reference')\n",
        "\n",
        "matplotlib.rcParams.update({'legend.fontsize': 15, 'axes.labelsize': 14, 'axes.titlesize': 14})\n",
        "# Plot value loss function (as sqrt)\n",
        "fig = plt.figure()\n",
        "plt.plot(lossesV)\n",
        "plt.rc('text', usetex=False)\n",
        "plt.rc('font', family='sans-serif', serif = 'Computer Modern Sans serif')\n",
        "plt.xscale('log')\n",
        "plt.yscale('log')\n",
        "plt.xlabel('Number of iterations')\n",
        "plt.ylabel('Value Loss')\n",
        "# plt.title('Value Loss Evolution')\n",
        "plt.grid(alpha=0.2)\n",
        "#fig.savefig('Value_Loss.png')\n",
        "\n",
        "# Plot consumption FOC loss function (as sqrt)\n",
        "fig = plt.figure()\n",
        "plt.plot(lossesC)\n",
        "plt.rc('text', usetex=False)\n",
        "plt.rc('font', family='sans-serif', serif = 'Computer Modern Sans serif')\n",
        "plt.xscale('log')\n",
        "plt.yscale('log')\n",
        "plt.xlabel('Number of iterations')\n",
        "plt.ylabel('Consumption FOC Loss')\n",
        "# plt.title('Consumption Loss Evolution')\n",
        "plt.grid(alpha=0.2)\n",
        "#fig.savefig('C_Loss.png')\n",
        "\n",
        "# Plot boundary loss function\n",
        "fig = plt.figure()\n",
        "plt.plot(lossesB)\n",
        "plt.rc('text', usetex=False)\n",
        "plt.rc('font', family='sans-serif', serif = 'Computer Modern Sans serif')\n",
        "plt.xscale('log')\n",
        "plt.yscale('log')\n",
        "plt.xlabel('Number of iterations')\n",
        "plt.ylabel('Boundary Loss')\n",
        "# plt.title('Consumption Loss Evolution')\n",
        "plt.grid(alpha=0.2)\n",
        "#fig.savefig('C_Loss.png')\n",
        "\n",
        "# Plot Total loss (lossesV + lossesC + lossesB)\n",
        "fig = plt.figure()\n",
        "plt.plot(total_losses)\n",
        "plt.rc('text', usetex=False)\n",
        "plt.rc('font', family='sans-serif', serif = 'Computer Modern Sans serif')\n",
        "plt.xscale('log')\n",
        "plt.yscale('log')\n",
        "plt.xlabel('Number of iterations')\n",
        "plt.ylabel('Total Loss')\n",
        "# plt.title('Consumption Loss Evolution')\n",
        "plt.grid(alpha=0.2)\n",
        "#fig.savefig('C_Loss.png')\n",
        "\n",
        "# Plot value function\n",
        "fig = plt.figure()\n",
        "plt.plot(K, VF(K), color = \"tab:blue\", label = \"Neural Network Approximation\", linewidth = 3, linestyle=':')\n",
        "plt.plot(K, reference_V, color= \"tab:orange\", label = \"Finite Difference Scheme\", linewidth = 3, linestyle=(0, (5, 2, 1, 2)), dash_capstyle='round')\n",
        "plt.rc('text', usetex=False)\n",
        "plt.rc('font', family='sans-serif', serif = 'Computer Modern Sans serif')\n",
        "plt.xlabel('Capital')\n",
        "plt.ylabel('Value')\n",
        "# plt.title('Value Function')\n",
        "plt.legend(loc = \"lower right\")\n",
        "plt.grid(alpha=0.2)\n",
        "#fig.savefig('Value_Function.png')\n",
        "\n",
        "# Plot consumption policy function\n",
        "fig = plt.figure()\n",
        "plt.plot(K, tf.exp(CF(K)), color = \"tab:blue\", label = \"Neural Network Approximation\", linewidth = 3, linestyle=':')\n",
        "plt.plot(K, reference_C, color= \"tab:orange\", label = \"Finite Difference Scheme\", linewidth = 3, linestyle=(0, (5, 2, 1, 2)), dash_capstyle='round')\n",
        "plt.rc('text', usetex=False)\n",
        "plt.rc('font', family='sans-serif', serif = 'Computer Modern Sans serif')\n",
        "plt.xlabel('Capital')\n",
        "plt.ylabel('Consumption')\n",
        "# plt.title('Consumption Policy Function')\n",
        "plt.legend(loc = \"lower right\")\n",
        "plt.grid(alpha=0.2)\n",
        "#fig.savefig('C_function.png')"
      ]
    }
  ],
  "metadata": {
    "kernelspec": {
      "display_name": "Python 3",
      "language": "python",
      "name": "python3"
    },
    "language_info": {
      "codemirror_mode": {
        "name": "ipython",
        "version": 3
      },
      "file_extension": ".py",
      "mimetype": "text/x-python",
      "name": "python",
      "nbconvert_exporter": "python",
      "pygments_lexer": "ipython3",
      "version": "3.8.8"
    },
    "toc": {
      "base_numbering": 1,
      "nav_menu": {},
      "number_sections": true,
      "sideBar": true,
      "skip_h1_title": false,
      "title_cell": "Table of Contents",
      "title_sidebar": "Contents",
      "toc_cell": false,
      "toc_position": {},
      "toc_section_display": true,
      "toc_window_display": false
    },
    "colab": {
      "provenance": [],
      "include_colab_link": true
    }
  },
  "nbformat": 4,
  "nbformat_minor": 5
}