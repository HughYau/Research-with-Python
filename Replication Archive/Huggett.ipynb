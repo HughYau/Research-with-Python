{
 "cells": [
  {
   "cell_type": "code",
   "execution_count": 1,
   "id": "8d2293fe",
   "metadata": {
    "ExecuteTime": {
     "end_time": "2022-04-02T07:34:44.027727Z",
     "start_time": "2022-04-02T07:34:42.935482Z"
    }
   },
   "outputs": [],
   "source": [
    "import numpy as np\n",
    "from numba import njit, jit, njit, prange, float64, int32, typeof\n",
    "from numba.experimental import jitclass\n",
    "from quantecon.optimize.scalar_maximization import brent_max\n",
    "from scipy.signal import savgol_filter\n",
    "from scipy.interpolate import interp1d\n",
    "from interpolation import interp\n",
    "\n",
    "import matplotlib.pyplot as plt\n",
    "plt.rcParams['font.sans-serif']=['SimHei'] #用来正常显示中文标签\n",
    "plt.rcParams['axes.unicode_minus']=False #用来正常显示负号"
   ]
  },
  {
   "cell_type": "markdown",
   "id": "843e9060",
   "metadata": {},
   "source": [
    "Conceptually: an equilibrium, as defined above, such that $r_t$ and the distribution $Γ_t(a,ε)$ do not depend\n",
    "on $t$. That is, the distribution of people over asset holdings and endowments looks the same every period,\n",
    "but individuals move around within it. E.g., the number of people with $ε = ε_h$ and with $a < 2$ is the same\n",
    "every period, even though each consumer only belongs to this group now and then.\n",
    "\n",
    "Formally: we use recursive methods. The consumer problem is:\n",
    "\n",
    "$$ V_s(a)= max_{a' ∈[\\phi,ε_s +a(1+r)]} [u(ε_s+(1+r)a−a′)+β (π_s V_h(a′)+(1−π_s)V_l(a′))] $$ for all $s$ and $a$.\n",
    "\n",
    "Decision rule: the problem delivers optimal asset holdings $a′ = g_s (a)$ satisfying, for all $s$ and $a$,\n",
    "\n",
    "$$g_s (a) = argmax_{a′} [u(ε_s +(1+r)a−a′)+β(π_s V_h(a′) + (1 − π_s )V_l (a′)) ]$$\n",
    "\n",
    "s.t. $a′ ∈ [\\phi, (ε_s + a)(1+r)]$.\n",
    "\n",
    "Asset-market clears, more precisely:\n",
    "\n",
    "$$ \\int_s \\int_a g_s(a) \\Gamma(a,s) = 0 $$"
   ]
  },
  {
   "cell_type": "code",
   "execution_count": 2,
   "id": "7a1ec0b7",
   "metadata": {
    "ExecuteTime": {
     "end_time": "2022-04-02T07:34:44.569346Z",
     "start_time": "2022-04-02T07:34:44.552292Z"
    }
   },
   "outputs": [],
   "source": [
    "para_Household = [\n",
    "                 ('beta',float64),\n",
    "                 ('r',float64),\n",
    "                 ('phi',float64),\n",
    "                 ('shocks',float64[:]),\n",
    "                 ('w',float64),\n",
    "                 ('PI',float64[:,::1]),\n",
    "                 ('gamma',float64),\n",
    "                 ('grid',float64[:])]\n",
    "\n",
    "\n",
    "@jitclass(para_Household)\n",
    "class Household(object):\n",
    "    def __init__(self,\n",
    "                 a_min = -3,\n",
    "                 a_max = 18,\n",
    "                 N = 100,\n",
    "                 beta = 1.03**(-1/12),\n",
    "                 r = 0.00246,\n",
    "                 phi = -1,\n",
    "                 shocks = np.array([0.5,1]),\n",
    "                 w = 5,\n",
    "                 PI = np.array([[0.4,0.6],[0.6,0.4]]),\n",
    "                 gamma=2):\n",
    "        self.beta,self.r,self.phi,self.shocks,self.w,self.PI,self.gamma = beta,r,phi,shocks,w,PI,gamma\n",
    "        self.grid = np.linspace(a_min,a_max,N)\n",
    "    \n",
    "    def u(self,c):\n",
    "        if c > 0:\n",
    "            if self.gamma != 1:\n",
    "                return c**(1-self.gamma)/(1-self.gamma)\n",
    "            else:\n",
    "                return np.log(c)\n",
    "        else:\n",
    "            return -np.infty"
   ]
  },
  {
   "cell_type": "code",
   "execution_count": 3,
   "id": "c332a64c",
   "metadata": {
    "ExecuteTime": {
     "end_time": "2022-04-02T07:34:46.046479Z",
     "start_time": "2022-04-02T07:34:46.035515Z"
    }
   },
   "outputs": [],
   "source": [
    "@jit\n",
    "def state_action_value(aprime,a,s_index,v_array,hh):\n",
    "    v = lambda x: [interp(hh.grid,v_array[k],x) for k in range(len(hh.shocks))]\n",
    "    shock = hh.shocks[s_index]\n",
    "    c = hh.w*shock+(1+hh.r)*a-aprime\n",
    "    V_next = np.asarray(v(aprime))\n",
    "    \n",
    "    V = hh.u(c)+hh.beta*np.dot(hh.PI[s_index],V_next)\n",
    "    return V\n",
    "\n",
    "@njit\n",
    "def T(v,hh):\n",
    "    v_new =  np.empty_like(v)\n",
    "    v_greedy = np.empty_like(v)\n",
    "    phi =hh.phi\n",
    "    \n",
    "    for j in range(len(hh.shocks)):\n",
    "        for i in range(len(hh.grid)):\n",
    "            a = hh.grid[i]\n",
    "            a_max = hh.w*hh.shocks[j]+(1+hh.r)*a\n",
    "            result = brent_max(state_action_value,phi,a_max-1e-6,args=(a,j,v,hh))\n",
    "            v_greedy[j][i], v_new[j][i] = result[0], result[1]\n",
    "            \n",
    "    return v_greedy, v_new"
   ]
  },
  {
   "cell_type": "code",
   "execution_count": 4,
   "id": "b4882c28",
   "metadata": {
    "ExecuteTime": {
     "end_time": "2022-04-02T07:34:46.944827Z",
     "start_time": "2022-04-02T07:34:46.927181Z"
    }
   },
   "outputs": [],
   "source": [
    "def solve_model(v,hh,\n",
    "                tol=1e-3,\n",
    "                max_iter=10000,\n",
    "                verbose=True,\n",
    "                print_skip=100):\n",
    "\n",
    "    i = 0\n",
    "    error = tol + 1\n",
    "\n",
    "    while i < max_iter and error > tol:\n",
    "        v_greedy, v_new = T(v, hh)\n",
    "        error = np.max(np.abs(v - v_new))\n",
    "        i += 1\n",
    "        if verbose and i % print_skip == 0:\n",
    "            print(f\"Error at iteration {i} is {error}.\")\n",
    "        v = v_new\n",
    "\n",
    "    if i == max_iter:\n",
    "        print(\"Failed to converge!\")\n",
    "\n",
    "    if verbose and i < max_iter:\n",
    "        print(f\"\\nConverged in {i} iterations.\")\n",
    "\n",
    "    return v_greedy, v_new"
   ]
  },
  {
   "cell_type": "code",
   "execution_count": 6,
   "id": "0099e4c8",
   "metadata": {
    "ExecuteTime": {
     "end_time": "2022-04-02T07:34:57.323045Z",
     "start_time": "2022-04-02T07:34:54.454497Z"
    }
   },
   "outputs": [
    {
     "name": "stdout",
     "output_type": "stream",
     "text": [
      "Error at iteration 100 is 0.20937331882974775.\n",
      "Error at iteration 200 is 0.16353912312673913.\n",
      "Error at iteration 300 is 0.1278284014580322.\n",
      "Error at iteration 400 is 0.09991935827790144.\n",
      "Error at iteration 500 is 0.07810390039816184.\n",
      "Error at iteration 600 is 0.0610514310296395.\n",
      "Error at iteration 700 is 0.0477220379008827.\n",
      "Error at iteration 800 is 0.03730285782880571.\n",
      "Error at iteration 900 is 0.029158504157933862.\n",
      "Error at iteration 1000 is 0.02279231143424454.\n",
      "Error at iteration 1100 is 0.01781605432702804.\n",
      "Error at iteration 1200 is 0.01392626368814831.\n",
      "Error at iteration 1300 is 0.010885735041696876.\n",
      "Error at iteration 1400 is 0.008509046612402926.\n",
      "Error at iteration 1500 is 0.0066512611414708545.\n",
      "Error at iteration 1600 is 0.005199088142830988.\n",
      "Error at iteration 1700 is 0.004063967931529078.\n",
      "Error at iteration 1800 is 0.003176679568625218.\n",
      "Error at iteration 1900 is 0.002483113739657483.\n",
      "Error at iteration 2000 is 0.001940974108009641.\n",
      "Error at iteration 2100 is 0.0015172002408831986.\n",
      "Error at iteration 2200 is 0.0011859488339638347.\n",
      "\n",
      "Converged in 2270 iterations.\n"
     ]
    }
   ],
   "source": [
    "hh = Household()\n",
    "v = np.zeros((2,len(hh.grid)))\n",
    "v_greedy, v_new = solve_model(v,hh)"
   ]
  },
  {
   "cell_type": "code",
   "execution_count": 106,
   "id": "69a78293",
   "metadata": {
    "ExecuteTime": {
     "end_time": "2022-04-01T03:49:38.845271Z",
     "start_time": "2022-04-01T03:49:38.833802Z"
    }
   },
   "outputs": [
    {
     "data": {
      "text/plain": [
       "array([[-0.99999366, -0.99999427, -0.99999567, -0.99999398, -0.99999595,\n",
       "        -0.9999945 , -0.99999347, -0.99999569, -0.99999451, -0.99999367,\n",
       "        -0.9999961 , -0.99999587, -0.89396465, -0.8224615 , -0.66666601,\n",
       "        -0.51349607, -0.3671399 , -0.19617685, -0.03030131,  0.17257705,\n",
       "         0.35483723,  0.53909937,  0.72948568,  0.91262828,  1.10700881,\n",
       "         1.30255913,  1.49994088,  1.6970529 ,  1.89516257,  2.09584166,\n",
       "         2.30303163,  2.5098286 ,  2.71182724,  2.91404361,  3.11684953,\n",
       "         3.3206947 ,  3.52480314,  3.72943143,  3.93429385,  4.13950403,\n",
       "         4.34517567,  4.55107497,  4.75722909,  4.96357104,  5.17010736,\n",
       "         5.37686922,  5.58379349,  5.79084942,  5.99804778,  6.20536127,\n",
       "         6.41279174,  6.62032324,  6.82792041,  7.03555416,  7.24329696,\n",
       "         7.45110539,  7.65896176,  7.86685312,  8.07476099,  8.28268869,\n",
       "         8.4906436 ,  8.69860101,  8.90655663,  9.11449477,  9.32241815,\n",
       "         9.53031989,  9.73818225,  9.94598799, 10.15373536, 10.36363512,\n",
       "        10.57405547, 10.78168397, 10.98923911, 11.19666624, 11.40395832,\n",
       "        11.61113636, 11.81819084, 12.02515347, 12.23191011, 12.43838055,\n",
       "        12.64461682, 12.85070793, 13.05665935, 13.26232508, 13.46737267,\n",
       "        13.67189281, 13.87619625, 14.08033989, 14.28423707, 14.48659879,\n",
       "        14.6876925 , 14.88864276, 15.08945714, 15.28991728, 15.48620046,\n",
       "        15.6807597 , 15.87878804, 16.08766663, 16.28196911, 16.47529061],\n",
       "       [-0.87878592, -0.74041263, -0.66666513, -0.46120142, -0.33230498,\n",
       "        -0.17063786, -0.03030271,  0.18159338,  0.35821934,  0.53745807,\n",
       "         0.72367374,  0.89903226,  1.09027713,  1.28313146,  1.47842087,\n",
       "         1.67281848,  1.87878758,  2.08104505,  2.28017692,  2.48010432,\n",
       "         2.68085884,  2.88171813,  3.08325075,  3.28619457,  3.48940797,\n",
       "         3.69329091,  3.89741388,  4.10193521,  4.30705689,  4.51243899,\n",
       "         4.71813551,  4.92404529,  5.13017967,  5.33659349,  5.54321132,\n",
       "         5.74999089,  5.9569313 ,  6.16400665,  6.37122548,  6.57857202,\n",
       "         6.78600866,  6.99351186,  7.20112875,  7.40882463,  7.61658762,\n",
       "         7.8243991 ,  8.03224409,  8.24242624,  8.45276292,  8.66068684,\n",
       "         8.86862838,  9.07658597,  9.28454119,  9.49249256,  9.70043427,\n",
       "         9.90836188, 10.11624859, 10.3240985 , 10.53189517, 10.73965414,\n",
       "        10.94735693, 11.15496334, 11.36246016, 11.56986178, 11.77713718,\n",
       "        11.98435505, 12.19141942, 12.39825458, 12.60489255, 12.8113989 ,\n",
       "        13.01777419, 13.22393154, 13.42962139, 13.63487737, 13.83991527,\n",
       "        14.04479762, 14.24947507, 14.45306679, 14.65566742, 14.8580042 ,\n",
       "        15.06015224, 15.26201093, 15.46108445, 15.66666805, 15.87141244,\n",
       "        16.06849115, 16.26536121, 16.46156291, 16.64677598, 16.83034864,\n",
       "        17.01606178, 17.20057079, 17.36363957, 17.56410041, 17.69864103,\n",
       "        17.83768644, 17.99999714, 17.99999706, 17.9999951 , 18.00000053]])"
      ]
     },
     "execution_count": 106,
     "metadata": {},
     "output_type": "execute_result"
    }
   ],
   "source": [
    "v_greedy"
   ]
  },
  {
   "cell_type": "code",
   "execution_count": 7,
   "id": "111a45b0",
   "metadata": {
    "ExecuteTime": {
     "end_time": "2022-04-02T07:35:02.824044Z",
     "start_time": "2022-04-02T07:35:02.461801Z"
    }
   },
   "outputs": [
    {
     "data": {
      "image/png": "[encoded data removed]",
      "text/plain": [
       "<Figure size 1152x432 with 2 Axes>"
      ]
     },
     "metadata": {
      "needs_background": "light"
     },
     "output_type": "display_data"
    }
   ],
   "source": [
    "fig, ax = plt.subplots(1,2,figsize = (16,6))\n",
    "agrid = hh.grid\n",
    "# Plot 1: Value Functions\n",
    "ax[0].set_title(\"Value Function\")\n",
    "ax[0].plot(agrid, v_new[0], label =r'$V_b$')\n",
    "ax[0].plot(agrid, v_new[1], label =r'$V_g$')\n",
    "ax[0].set_xlabel(r'$a$')\n",
    "ax[0].legend()\n",
    "\n",
    "# Plot 2: Policy Functions\n",
    "ax[1].set_title(\"Policy Function\")\n",
    "ax[1].plot(agrid, v_greedy[0], label =r'$g_b$')\n",
    "ax[1].plot(agrid, v_greedy[1], label =r'$g_g$')\n",
    "ax[1].plot(agrid, agrid, color = 'black', linestyle = '--')\n",
    "ax[1].plot(agrid, np.ones(len(agrid))*hh.phi, label = r'$\\phi$', color = 'black', alpha = 0.5)\n",
    "ax[1].set_xlabel(r'$a$')\n",
    "ax[1].legend()\n",
    "fig.tight_layout()\n",
    "plt.show()"
   ]
  },
  {
   "cell_type": "markdown",
   "id": "e5ac5cf1",
   "metadata": {},
   "source": [
    "Now that we have solved the household problem and got $g(a,z)$, we can compute the stationary distribution of assets:\n",
    "\n",
    "Recall the stationary distribution is:\n",
    "$$ \\Gamma(\\hat{a},\\hat{y}) = P(a\\leq\\hat{a},y=\\hat{y}) $$.\n",
    "\n",
    "\n",
    "Continuum of households makes the wealth distribution a continuous function and therefore an infinite-dimension object\n",
    "in the state space. Need approximation!\n",
    "\n",
    "If $g$ is monotonic, then the invariante distribution can be characterized as:\n",
    "\n",
    "$$\\Gamma(a',{y'}) = \\sum \\limits_{y\\in \\mathcal{Y}} \\pi(y'|y) \\Gamma(g^{-1}(a',y),{y})$$\n",
    "\n",
    "There are several methods that approximate the stationary distribution:\n",
    "\n",
    "1. Splines interpolation + inversion of $g$ + interation\n",
    "    **Approach**: approximate $\\Gamma$ with splines and iterate on the the law of motion above until convergence.\n",
    "\n",
    "    1. We need a grid $A$ of interpolation nodes in the interval. This needs to be much more finer than for policy.\n",
    "\n",
    "    2. Have an initial guess $\\Gamma_0$. Uniform distribution is fine.\n",
    "\n",
    "    3. Spline approximation of $g^{-1}$ and $\\Gamma_0$\n",
    "\n",
    "    4. Iterate\n",
    "\n",
    "    In the Huggett model with a domain where binding borrowing constraints case, we cannot use this approach since $g$ is not strictly montotonic.\n",
    "\n",
    "2. Discretization of invariant density function $\\phi(a,y)$ + iteration\n",
    "\n",
    "3. Turn $g$ into a transition matrix and compute the eigenvector associated with the unitary eigenvalue.\n",
    "    $\\phi(a,y) = M \\phi(a,y)$, so $(M-I)\\phi(a,y)=0$\n",
    "\n",
    "4. Monte Carlo simulation until markov chain has converged to stationary distribution"
   ]
  },
  {
   "cell_type": "code",
   "execution_count": 8,
   "id": "f1f2859f",
   "metadata": {
    "ExecuteTime": {
     "end_time": "2022-04-02T07:33:20.714080Z",
     "start_time": "2022-04-02T07:33:20.691272Z"
    }
   },
   "outputs": [
    {
     "name": "stdout",
     "output_type": "stream",
     "text": [
      "-0.8787878787878789 [0.39393939] (array([16], dtype=int64),)\n"
     ]
    }
   ],
   "source": [
    "gb = savgol_filter(v_greedy[0], 51, 3)\n",
    "gg = savgol_filter(v_greedy[1], 51, 3)\n",
    "\n",
    "gb = interp1d(agrid, gb, kind='linear', fill_value='extrapolate')\n",
    "gg = interp1d(agrid, gg, kind='linear', fill_value='extrapolate')\n",
    "N = 100\n",
    "a_vals = np.linspace(-3, 18, N)\n",
    "a1b_star = gb(a_vals)\n",
    "a1g_star = gg(a_vals)\n",
    "\n",
    "F = interp1d(a_vals,a_vals, kind = 'next', fill_value = 18.0, bounds_error=False)\n",
    "a1gd_star = F(gg(a_vals))\n",
    "a1bd_star = F(gb(a_vals))\n",
    "\n",
    "Tg = np.zeros([N,N])\n",
    "Tb = np.zeros([N,N])\n",
    "ixg = np.where(a_vals==a1bd_star[20])\n",
    "print(a_vals[10],a_vals[ixg], ixg)"
   ]
  },
  {
   "cell_type": "code",
   "execution_count": 24,
   "id": "617504ef",
   "metadata": {
    "ExecuteTime": {
     "end_time": "2022-04-02T07:24:18.502950Z",
     "start_time": "2022-04-02T07:24:18.491978Z"
    }
   },
   "outputs": [
    {
     "data": {
      "text/plain": [
       "array([-0.87878788, -0.66666667, -0.45454545, -0.45454545, -0.24242424,\n",
       "       -0.03030303,  0.18181818,  0.39393939,  0.39393939,  0.60606061,\n",
       "        0.81818182,  1.03030303,  1.24242424,  1.45454545,  1.66666667,\n",
       "        1.87878788,  1.87878788,  2.09090909,  2.3030303 ,  2.51515152,\n",
       "        2.72727273,  2.93939394,  3.15151515,  3.36363636,  3.57575758,\n",
       "        3.78787879,  4.        ,  4.21212121,  4.42424242,  4.63636364,\n",
       "        4.84848485,  5.06060606,  5.27272727,  5.48484848,  5.6969697 ,\n",
       "        5.90909091,  6.12121212,  6.33333333,  6.54545455,  6.75757576,\n",
       "        6.96969697,  7.18181818,  7.39393939,  7.60606061,  7.81818182,\n",
       "        8.03030303,  8.24242424,  8.24242424,  8.45454545,  8.66666667,\n",
       "        8.87878788,  9.09090909,  9.3030303 ,  9.51515152,  9.72727273,\n",
       "        9.93939394, 10.15151515, 10.36363636, 10.57575758, 10.78787879,\n",
       "       11.        , 11.21212121, 11.42424242, 11.63636364, 11.84848485,\n",
       "       12.06060606, 12.27272727, 12.48484848, 12.6969697 , 12.90909091,\n",
       "       13.12121212, 13.33333333, 13.54545455, 13.75757576, 13.96969697,\n",
       "       14.18181818, 14.39393939, 14.60606061, 14.81818182, 15.03030303,\n",
       "       15.24242424, 15.45454545, 15.66666667, 15.87878788, 16.09090909,\n",
       "       16.09090909, 16.3030303 , 16.51515152, 16.72727273, 16.93939394,\n",
       "       17.15151515, 17.15151515, 17.36363636, 17.57575758, 17.78787879,\n",
       "       17.78787879, 18.        , 18.        , 18.        , 18.        ])"
      ]
     },
     "execution_count": 24,
     "metadata": {},
     "output_type": "execute_result"
    }
   ],
   "source": [
    "a1gd_star"
   ]
  },
  {
   "cell_type": "code",
   "execution_count": 31,
   "id": "69435420",
   "metadata": {
    "ExecuteTime": {
     "end_time": "2022-04-02T07:26:01.218714Z",
     "start_time": "2022-04-02T07:26:01.108077Z"
    }
   },
   "outputs": [
    {
     "data": {
      "text/plain": [
       "[<matplotlib.lines.Line2D at 0x1aa414cec10>]"
      ]
     },
     "execution_count": 31,
     "metadata": {},
     "output_type": "execute_result"
    },
    {
     "data": {
      "image/png": "[encoded data removed]",
      "text/plain": [
       "<Figure size 432x288 with 1 Axes>"
      ]
     },
     "metadata": {
      "needs_background": "light"
     },
     "output_type": "display_data"
    }
   ],
   "source": [
    "# plt.plot(hh.grid,a1g_star)\n",
    "plt.plot(hh.grid,F(a1g_star))\n",
    "plt.plot(hh.grid,a1gd_star)"
   ]
  },
  {
   "cell_type": "code",
   "execution_count": 25,
   "id": "58616666",
   "metadata": {
    "ExecuteTime": {
     "end_time": "2022-04-02T07:24:20.660510Z",
     "start_time": "2022-04-02T07:24:20.645557Z"
    }
   },
   "outputs": [
    {
     "data": {
      "text/plain": [
       "array([-0.95190172, -0.79592206, -0.63677919, -0.47456931, -0.30938864,\n",
       "       -0.14133338,  0.02950025,  0.20301604,  0.37911779,  0.55770928,\n",
       "        0.7386943 ,  0.92197664,  1.1074601 ,  1.29504846,  1.48464551,\n",
       "        1.67615505,  1.86948086,  2.06452672,  2.26119645,  2.45939381,\n",
       "        2.6590226 ,  2.85998661,  3.06218964,  3.26553546,  3.46992788,\n",
       "        3.67527068,  3.88266542,  4.09057571,  4.29663659,  4.50444359,\n",
       "        4.71160143,  4.91879929,  5.12515117,  5.33264375,  5.54021452,\n",
       "        5.74781838,  5.95556107,  6.16300553,  6.37051052,  6.57806042,\n",
       "        6.78566986,  6.99325921,  7.2011459 ,  7.40921649,  7.6173512 ,\n",
       "        7.82553684,  8.03376595,  8.2420166 ,  8.45028119,  8.65857083,\n",
       "        8.86686439,  9.07515529,  9.28344899,  9.49174882,  9.70004227,\n",
       "        9.9083064 , 10.11652383, 10.32474143, 10.5327455 , 10.74055892,\n",
       "       10.9483811 , 11.15617051, 11.36389983, 11.57181528, 11.7798566 ,\n",
       "       11.98785905, 12.19576374, 12.40404882, 12.61151344, 12.81992583,\n",
       "       13.02881418, 13.23724836, 13.44938587, 13.66424526, 13.88083518,\n",
       "       14.09042314, 14.2986031 , 14.50518612, 14.70998325, 14.91280553,\n",
       "       15.11346401, 15.31176973, 15.50753375, 15.70056711, 15.89068086,\n",
       "       16.07768604, 16.2613937 , 16.44161489, 16.61816066, 16.79084205,\n",
       "       16.95947012, 17.1238559 , 17.28381044, 17.4391448 , 17.58967002,\n",
       "       17.73519714, 17.87553722, 18.0105013 , 18.13990042, 18.26354565])"
      ]
     },
     "execution_count": 25,
     "metadata": {},
     "output_type": "execute_result"
    }
   ],
   "source": [
    "a1g_star"
   ]
  },
  {
   "cell_type": "code",
   "execution_count": 9,
   "id": "425d95a2",
   "metadata": {
    "ExecuteTime": {
     "end_time": "2022-04-02T07:33:24.521911Z",
     "start_time": "2022-04-02T07:33:24.516928Z"
    }
   },
   "outputs": [],
   "source": [
    "@njit\n",
    "def populate_M(a_vals, N, a1gd_star, a1bd_star, a1g_star, a1b_star, Tb, Tg, PI):\n",
    "    for i in range(N):\n",
    "        ixg = np.where(a_vals==a1gd_star[i])[0][0]\n",
    "        Tg[i,ixg] = 1-(a_vals[ixg]-a1g_star[i])/(a_vals[ixg]-a_vals[ixg-1])\n",
    "        Tg[i,ixg-1] = 1-Tg[i,ixg]\n",
    "\n",
    "        ixb = np.where(a_vals==a1bd_star[i])[0][0]\n",
    "        if ixb == 0:\n",
    "            Tb[i,ixb] = 1\n",
    "        else:\n",
    "            Tb[i,ixb] = 1-(a_vals[ixb]-a1b_star[i])/(a_vals[ixb]-a_vals[ixb-1])\n",
    "            Tb[i,ixb-1] = 1-Tb[i,ixb]\n",
    "    P = PI\n",
    "    M = np.concatenate((np.concatenate((P[0,0]*Tb, P[0,1]*Tb), axis=1),np.concatenate((P[1,0]*Tg,P[1,1]*Tg), axis=1)), axis=0)\n",
    "    return M\n",
    "\n"
   ]
  },
  {
   "cell_type": "code",
   "execution_count": null,
   "id": "b39e921a",
   "metadata": {
    "ExecuteTime": {
     "start_time": "2022-04-02T07:33:25.913Z"
    }
   },
   "outputs": [],
   "source": [
    "# M = populate_M(a_vals, N, a1gd_star, a1bd_star, a1g_star, a1b_star, Tb, Tg, hh.PI)\n",
    "M = populate_M(hh.grid, N,v_greedy[1] , v_greedy[0], v_greedy[1], v_greedy[0], Tb, Tg, hh.PI)\n",
    "#print(M[100,:])\n",
    "from scipy.sparse import csr_matrix\n",
    "M = csr_matrix(M)\n",
    "\n",
    "M2 = csr_matrix.transpose(M)\n",
    "import scipy.sparse.linalg as sla\n",
    "\n",
    "D, V = sla.eigs(M2, k=1, sigma = 1.0)\n",
    "print(D)\n",
    "V = np.real(V[:,0])/sum(np.real(V[:,0]))\n",
    "V[V<0]=0\n",
    "V = np.real(V)/sum(np.real(V))\n",
    "#print(V[199])\n",
    "dist = V[0:N]+V[N:]\n",
    "\n",
    "plt.plot(a_vals, np.cumsum(dist))"
   ]
  },
  {
   "cell_type": "code",
   "execution_count": 120,
   "id": "37a80dfb",
   "metadata": {
    "ExecuteTime": {
     "end_time": "2022-04-01T04:10:22.154424Z",
     "start_time": "2022-04-01T04:10:22.059865Z"
    }
   },
   "outputs": [
    {
     "name": "stdout",
     "output_type": "stream",
     "text": [
      "Total net assets is: 9.071582450846835\n"
     ]
    },
    {
     "data": {
      "image/png": "[encoded data removed]",
      "text/plain": [
       "<Figure size 432x288 with 1 Axes>"
      ]
     },
     "metadata": {
      "needs_background": "light"
     },
     "output_type": "display_data"
    }
   ],
   "source": [
    "dist_c = savgol_filter(dist, 51, 3)\n",
    "mean_a = np.dot(a_vals.T,dist)\n",
    "print('Total net assets is:', mean_a)\n",
    "plt.plot(a_vals[:], dist_c)\n",
    "ylim = plt.gca().get_ylim()\n",
    "plt.plot(np.zeros(30), np.linspace(ylim[0],ylim[1], 30),'k--')\n",
    "plt.plot(np.ones(30)*mean_a, np.linspace(ylim[0],ylim[1], 30),'b--')\n",
    "plt.show()"
   ]
  }
 ],
 "metadata": {
  "kernelspec": {
   "display_name": "Python 3",
   "language": "python",
   "name": "python3"
  },
  "language_info": {
   "codemirror_mode": {
    "name": "ipython",
    "version": 3
   },
   "file_extension": ".py",
   "mimetype": "text/x-python",
   "name": "python",
   "nbconvert_exporter": "python",
   "pygments_lexer": "ipython3",
   "version": "3.8.8"
  },
  "toc": {
   "base_numbering": 1,
   "nav_menu": {},
   "number_sections": true,
   "sideBar": true,
   "skip_h1_title": false,
   "title_cell": "Table of Contents",
   "title_sidebar": "Contents",
   "toc_cell": false,
   "toc_position": {},
   "toc_section_display": true,
   "toc_window_display": false
  }
 },
 "nbformat": 4,
 "nbformat_minor": 5
}
