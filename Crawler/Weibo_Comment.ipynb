{
  "cells": [
    {
      "cell_type": "markdown",
      "metadata": {
        "id": "view-in-github",
        "colab_type": "text"
      },
      "source": [
        "<a href=\"https://colab.research.google.com/github/HughYau/Research-with-Python/blob/main/Crawler/Weibo_Comment.ipynb\" target=\"_parent\"><img src=\"https://colab.research.google.com/assets/colab-badge.svg\" alt=\"Open In Colab\"/></a>"
      ]
    },
    {
      "cell_type": "code",
      "execution_count": null,
      "id": "b02003c4",
      "metadata": {
        "ExecuteTime": {
          "end_time": "2022-03-14T04:28:05.358380Z",
          "start_time": "2022-03-14T04:28:05.352380Z"
        },
        "id": "b02003c4"
      },
      "outputs": [],
      "source": [
        "import requests\n",
        "import emoji\n",
        "import time\n",
        "import re\n",
        "import xlwt\n",
        "import xlrd\n",
        "import pandas as pd\n",
        "import numpy as np"
      ]
    },
    {
      "cell_type": "code",
      "execution_count": null,
      "id": "b64371fd",
      "metadata": {
        "ExecuteTime": {
          "end_time": "2022-03-14T02:55:01.521250Z",
          "start_time": "2022-03-14T02:55:01.516250Z"
        },
        "id": "b64371fd"
      },
      "outputs": [],
      "source": [
        "headers = {\n",
        "    'user-agent': 'Mozilla/5.0 (Linux; Android 6.0; Nexus 5 Build/MRA58N) AppleWebKit/537.36 (KHTML, like Gecko) Chrome/99.0.4844.51 Mobile Safari/537.36 Edg/99.0.1150.39',\n",
        "    'referer':'https://m.weibo.cn/status/LgUYJApRa?',\n",
        "    'accept': 'application/json, text/plain, */*',\n",
        "#    'cookie':'WEIBOCN_FROM=1110006030; loginScene=102003; SUB=_2A25PKc3ZDeRhGeFN61IY9inPyTiIHXVs1dORrDV6PUJbkdAKLVfHkW1NQJqiEQBfDqdtIn5Xx_7X2FM0fOAVuVHZ; _T_WM=64481388519; XSRF-TOKEN=6fc47a; MLOGIN=1; M_WEIBOCN_PARAMS=oid=4740322778679204&luicode=20000061&lfid=4740322778679204&uicode=20000061&fid=4740322778679204'\n",
        "#     'cookie':'WEIBOCN_FROM=1110005030; loginScene=102003; SUB=_2A25PKtHIDeRhGeFN61IY9inPyTiIHXVs1P-ArDV6PUJbkdAKLWv5kW1NQJqiERUl2bOF3iqm6ygyibjCrOu2OXnG; _T_WM=34126505065; XSRF-TOKEN=47c223; MLOGIN=1; M_WEIBOCN_PARAMS=oid=4740322778679204&luicode=20000061&lfid=4740322778679204&uicode=20000061&fid=4740322778679204'\n",
        "     'cookie':'XSRF-TOKEN=0cf293; WEIBOCN_FROM=1110005030; MLOGIN=0; loginScene=102003; M_WEIBOCN_PARAMS=oid=4740322778679204&luicode=20000061&lfid=4740322778679204; SUB=_2A25PKtHIDeRhGeFN61IY9inPyTiIHXVs1P-ArDV6PUJbkdAKLWv5kW1NQJqiERUl2bOF3iqm6ygyibjCrOu2OXnG'\n",
        "}"
      ]
    },
    {
      "cell_type": "code",
      "execution_count": null,
      "id": "cb7933ee",
      "metadata": {
        "ExecuteTime": {
          "end_time": "2022-03-14T01:48:32.361632Z",
          "start_time": "2022-03-14T01:48:32.344557Z"
        },
        "id": "cb7933ee"
      },
      "outputs": [],
      "source": [
        "ALPHABET = \"0123456789abcdefghijklmnopqrstuvwxyzABCDEFGHIJKLMNOPQRSTUVWXYZ\"\n",
        "def base62_decode(string, alphabet=ALPHABET):\n",
        "    \"\"\"Decode a Base X encoded string into the number\n",
        " \n",
        "    Arguments:\n",
        "    - `string`: The encoded string\n",
        "    - `alphabet`: The alphabet to use for encoding\n",
        "    \"\"\"\n",
        "    base = len(alphabet)\n",
        "    strlen = len(string)\n",
        "    num = 0\n",
        " \n",
        "    idx = 0\n",
        "    for char in string:\n",
        "        power = (strlen - (idx + 1))\n",
        "        num += alphabet.index(char) * (base ** power)\n",
        "        idx += 1\n",
        " \n",
        "    return num\n",
        "def url_to_mid(url):\n",
        "    '''\n",
        "    >>> url_to_mid('z0JH2lOMb')\n",
        "    3501756485200075L\n",
        "    >>> url_to_mid('z0Ijpwgk7')\n",
        "    3501703397689247L\n",
        "    >>> url_to_mid('z0IgABdSn')\n",
        "    3501701648871479L\n",
        "    >>> url_to_mid('z08AUBmUe')\n",
        "    3500330408906190L\n",
        "    >>> url_to_mid('z06qL6b28')\n",
        "    3500247231472384L\n",
        "    >>> url_to_mid('yCtxn8IXR')\n",
        "    3491700092079471L\n",
        "    >>> url_to_mid('yAt1n2xRa')\n",
        "    3486913690606804L\n",
        "    '''\n",
        "    url = str(url)[::-1]\n",
        "    size = len(url) // 4 if len(url) % 4 == 0 else len(url) // 4 + 1\n",
        "    result = []\n",
        "    for i in range(size):\n",
        "        s = url[i * 4: (i + 1) * 4][::-1]\n",
        "        s = str(base62_decode(str(s)))\n",
        "        s_len = len(s)\n",
        "        if i < size - 1 and s_len < 7:\n",
        "            s = (7 - s_len) * '0' + s\n",
        "        result.append(s)\n",
        "    result.reverse()\n",
        "    return int(''.join(result))"
      ]
    },
    {
      "cell_type": "code",
      "execution_count": null,
      "id": "4a82f939",
      "metadata": {
        "ExecuteTime": {
          "end_time": "2022-03-14T01:50:03.194610Z",
          "start_time": "2022-03-14T01:50:03.177899Z"
        },
        "id": "4a82f939"
      },
      "outputs": [],
      "source": [
        "# 获取评论首页\n",
        "def get_comment_index(mid,datas):\n",
        "    url = f'https://m.weibo.cn/comments/hotflow?id={mid}&mid={mid}&max_id_type=0'\n",
        "    response=requests.get(url,headers=headers).json()\n",
        "    total_number = response.get('data').get('total_number')\n",
        "    Xpath=response.get('data').get('data')\n",
        "    for i in Xpath:\n",
        "#         total_number=i.get('total_number')\n",
        "#         id=i.get('id')\n",
        "        data = {\n",
        "            'user_name': i.get('user').get('screen_name'),\n",
        "            'commtent': emoji.demojize(re.sub('<[^<]+?>', '', i.get('text'))),\n",
        "            'data_time': i.get('created_at'),\n",
        "            'mid': mid,\n",
        "            'total_number' : total_number,\n",
        "        }\n",
        "        #保存数据\n",
        "        datas.append(data)\n",
        "    max_id = response.get('data').get('max_id')\n",
        "    if max_id!=0:\n",
        "        #获取多页评论\n",
        "        time.sleep(5)\n",
        "        get_comment(mid, max_id,datas)\n",
        "# 获取多页评论\n",
        "\n",
        "def get_comment(mid, max_id,datas):\n",
        "    url = f'https://m.weibo.cn/comments/hotflow?id={mid}&mid={mid}&max_id={max_id}&max_id_type=0'\n",
        "    response = requests.get(url, headers=headers).json()\n",
        "    if response.get('data') is None:\n",
        "        return 0\n",
        "    else:\n",
        "        total_number = response.get('data').get('total_number')\n",
        "        Xpath=response.get('data').get('data')\n",
        "    for i in Xpath:\n",
        "#         total_number=i.get('total_number')\n",
        "#         id=i.get('id')\n",
        "        data = {\n",
        "            'user_name': i.get('user').get('screen_name'),\n",
        "            'commtent': emoji.demojize(re.sub('<[^<]+?>', '', i.get('text'))),\n",
        "            'data_time': i.get('created_at'),\n",
        "            'mid': mid,\n",
        "            'total_number' : total_number,  \n",
        "        }\n",
        "        #保存数据\n",
        "        datas.append(data)\n",
        "    max_id = response.get('data').get('max_id')\n",
        "    #获取多页评论\n",
        "    if max_id!=0:\n",
        "        time.sleep(5)\n",
        "        get_comment(mid, max_id,datas)"
      ]
    },
    {
      "cell_type": "code",
      "execution_count": null,
      "id": "29eea7b9",
      "metadata": {
        "ExecuteTime": {
          "end_time": "2022-03-14T01:50:05.816451Z",
          "start_time": "2022-03-14T01:50:05.807451Z"
        },
        "id": "29eea7b9",
        "outputId": "33ecb99e-e6f6-4b58-884f-76bc00aeba6b"
      },
      "outputs": [
        {
          "data": {
            "text/plain": [
              "'2022-02-24'"
            ]
          },
          "execution_count": 5,
          "metadata": {},
          "output_type": "execute_result"
        }
      ],
      "source": [
        "def turn_time(delta_days):\n",
        "    \"\"\"\n",
        "    delta_days:就是那个五位数\n",
        "    \"\"\"\n",
        "    real_time=pd.to_datetime('1899-12-30')+ pd.Timedelta(str(delta_days)+'D')#eg:'44701D'\n",
        "    #上一步得到的就是一个pandas的时间戳形式，然后我们转换成合适的时间格式就好了\n",
        "    #Timestamp('1899-12-30 00:00:00')\n",
        "    return real_time.strftime(\"%Y-%m-%d\")\n",
        "turn_time(44616.0)"
      ]
    },
    {
      "cell_type": "code",
      "execution_count": null,
      "id": "63933e2c",
      "metadata": {
        "ExecuteTime": {
          "end_time": "2022-03-14T04:29:22.648120Z",
          "start_time": "2022-03-14T04:29:22.640119Z"
        },
        "id": "63933e2c",
        "outputId": "ba9aadca-3d15-449b-945d-7235d12a8604"
      },
      "outputs": [
        {
          "name": "stdout",
          "output_type": "stream",
          "text": [
            "[2.10798122 4.44225352 1.         1.57558685 1.47605634]\n"
          ]
        }
      ],
      "source": [
        "print(np.array([len(datas_russia),len(datas_ukraine) ,len(datas_randu) ,len(datas_mainland) ,len(datas_west)])/len(datas_randu))"
      ]
    },
    {
      "cell_type": "code",
      "execution_count": null,
      "id": "a5a7d3ad",
      "metadata": {
        "ExecuteTime": {
          "end_time": "2022-03-14T04:27:06.504332Z",
          "start_time": "2022-03-14T04:27:06.497331Z"
        },
        "id": "a5a7d3ad",
        "outputId": "9b27265c-1b26-47ad-ed2d-851e82888f60"
      },
      "outputs": [
        {
          "data": {
            "text/plain": [
              "11291"
            ]
          },
          "execution_count": 23,
          "metadata": {},
          "output_type": "execute_result"
        }
      ],
      "source": [
        "2245+4731+1065+1678+1572"
      ]
    },
    {
      "cell_type": "code",
      "execution_count": null,
      "id": "92f8f325",
      "metadata": {
        "ExecuteTime": {
          "end_time": "2022-03-14T02:53:24.929559Z",
          "start_time": "2022-03-14T02:53:24.920055Z"
        },
        "id": "92f8f325"
      },
      "outputs": [],
      "source": [
        "datas_russia = []\n",
        "datas_ukraine = []\n",
        "datas_randu = []\n",
        "datas_mainland = []\n",
        "datas_west = []"
      ]
    },
    {
      "cell_type": "code",
      "execution_count": null,
      "id": "3781ee59",
      "metadata": {
        "ExecuteTime": {
          "end_time": "2022-03-14T01:58:01.598928Z",
          "start_time": "2022-03-14T01:58:01.591636Z"
        },
        "id": "3781ee59"
      },
      "outputs": [],
      "source": [
        "datas_randu?"
      ]
    },
    {
      "cell_type": "code",
      "execution_count": null,
      "id": "8c7124e6",
      "metadata": {
        "ExecuteTime": {
          "end_time": "2022-03-14T04:19:08.493282Z",
          "start_time": "2022-03-14T02:55:05.609720Z"
        },
        "id": "8c7124e6",
        "outputId": "74bcc9be-a9bb-448d-f3e0-1678f5b13f12"
      },
      "outputs": [
        {
          "name": "stdout",
          "output_type": "stream",
          "text": [
            "1 2022-02-24 澎湃新闻 #俄乌局势最新进展#【正在直播｜乌克兰宣布与俄罗斯断交，全境进入战时状态】#乌总统发布全国总动员令#  4740322778679204\n",
            "2 2022-02-24 澎湃新闻 【泽连斯基呼吁民众“挺身而出”，将向希望得到武器的人发武器】#乌克兰总统呼吁民众挺身而出# 4740467260922173\n",
            "3 2022-02-25 澎湃新闻 【美国总统#拜登称将冻结俄罗斯在美所有资产#】#俄罗斯在美所有资产将被冻结# 4740666338574356\n",
            "4 2022-02-25 澎湃新闻 #泽连斯基喊话欧洲领导人#：今天不帮乌克兰，明天就有战争上门】#乌总统呼吁欧洲国家施以援手# 4740677163814177\n",
            "5 2022-02-25 澎湃新闻 【乌总统泽连斯基：西方已经完全放弃了乌克兰】#乌总统称西方完全放弃了乌克兰# 4740682151625891\n",
            "6 2022-02-25 澎湃新闻 【#美国会有意援助乌克兰6亿美元武器#，帮助该国“打赢自己的战争”】 4740735829809929\n",
            "7 2022-02-25 澎湃新闻 【#乌克兰民众排队献血#：不过举手之劳，怎能无动于衷】 4740747229660706\n",
            "8 2022-02-25 澎湃新闻 【正在直播丨#俄战斗机群逼近乌首都基辅#，#连线基辅避难所中国留学生#】 4740771506290693\n",
            "9 2022-02-25 澎湃新闻 【微博：发布“乌克兰美女来中国”等恶俗言论，74个账号被禁言】 4740818977423519\n",
            "10 2022-02-25 澎湃新闻 #乌克兰承认基辅被击落的是己方战机#【学者圆桌：#俄罗斯闪击乌克兰只是危机序幕#？】 4740838208835952\n",
            "11 2022-02-26 澎湃新闻 【#乌总统泽连斯基深夜街头露面#：目前仍在基辅】 4741031327171856\n",
            "12 2022-02-26 澎湃新闻 【外媒：#27国同意向乌克兰提供更多军援#，包括弹药、武器等】 4741174281373011\n",
            "13 2022-02-26 澎湃新闻 #乌总统称俄方毫无胜算#【基辅街头夜间猛烈交火，中国驻乌大使：不可能抛下同胞】 4741239792992749\n",
            "14 2022-02-27 澎湃新闻 【法媒：#近万法军进入战备状态#，将派1500人加强北约东翼】 4741453379273987\n",
            "15 2022-02-27 澎湃新闻 【对话在乌中国人：被炮火笼罩的恐惧与乡愁】 4741592772514063\n",
            "16 2022-03-01 澎湃新闻 【中国驻乌克兰大使馆：#在乌中国公民可以乘乌专列撤往西部邻国#】 4742135851781696\n",
            "17 2022-02-28 新华社 【#外交部介绍在乌中国公民撤离进展#】外交部发言人汪文斌在2月28日举行的外交部例行记者会上应询介绍了在乌克兰中国公民撤离的进展情况。 4741890563638622\n",
            "18 2022-02-27 新华社 【俄国防部：#俄乌军事人员共同保障切尔诺贝利核电站安全#】 4741399364766388\n",
            "19 2022-02-25 新华社 【#新华社记者逆行奔赴基辅#】 4740788883296224\n",
            "20 2022-02-24 新华社 【#普京和卢卡申科通电话谈顿巴斯地区局势#】 4740497413245609\n",
            "21 2022-02-24 新华社 #中方反对任何煽动战争的行为#【#华春莹说美国一直在煽动战争危险#】 4740446821550806\n",
            "22 2022-02-24 新华社 新华社快讯：24日清晨，#乌克兰首都基辅上空传来数次爆炸声#。  4740365510512891\n",
            "23 2022-03-02 凤凰网 【#乌克兰网球女将击败俄罗斯选手# 赛后承诺将奖金捐给乌克兰军队】 4742541608489625\n",
            "24 2022-03-01 凤凰网 【#乌克兰将对助乌作战的外籍人士实行免签# 】 4742144013633024\n",
            "25 2022-03-01 凤凰网 【#世界跆拳道联盟撤销普京黑带九段荣誉称号# 】 4742132013465801\n",
            "26 2022-02-28 凤凰网 【乌克兰媒体称俄乌谈判已结束 俄媒：还在进行中】 4741966115900771\n",
            "27 2022-02-28 凤凰网 【#俄战略导弹部队和北方舰队进入战备状态# 】 4741933831819293\n",
            "28 2022-02-28 凤凰网 【#泽连斯基宣布释放有军事经验的罪犯参战#】 4741902643760675\n",
            "29 2022-02-28 凤凰网 【民调：乌克兰总统#泽连斯基支持率飙升至90%以上#】 4741807717748671\n",
            "30 2022-02-28 凤凰网 【#普京在什么情况下会动用核武器#？】当地时间27日，俄罗斯总统普京会见俄罗斯国防部长绍伊古和总参谋长格拉西莫夫时表示，西方对俄罗斯不仅在经济上进行遏制，而且某些领导人的发言越来越具有侵略性，因此命令俄罗斯核力量进入特殊战备状态。 4741772871732329\n",
            "31 2022-02-27 凤凰网 【应对乌克兰局势 #近万法军进入战备状态#】当 4741450899915007\n",
            "32 2022-02-27 凤凰网 【#中国驻乌克兰大使致在乌中国同胞的信#】 4741391408694344\n",
            "33 2022-02-26 凤凰网 【乌东老奶奶哭诉：在战乱下我们坚持了8年 3年前新盖的房子全炸毁了[泪]】 4741220293411963\n",
            "34 2022-02-26 凤凰网 【基辅多个地区发生爆炸 #乌克兰妻子劝中国丈夫能走一个是一个#】 4741168372124759\n",
            "35 2022-02-26 凤凰网 【#乌克兰称约3500名俄军士兵阵亡#，近200人被俘】 4741128304200204\n",
            "36 2022-02-26 凤凰网 【乌克兰总参谋部宣布击落一架俄军伊尔-76运输机】 4741035437852577\n",
            "37 2022-02-26 凤凰网 【联合国#安理会未通过关于乌克兰局势决议草案#】 4741014557819559\n",
            "38 2022-02-25 凤凰网 【#乌前总统波罗申科持枪走上街头# 斥责普京】 4740870362373989\n",
            "39 2022-02-25 凤凰网 【#乌克兰蛇岛军人集体阵亡#】 4740751814036826\n",
            "40 2022-02-25 凤凰网 【#乌总统称西方完全放弃了乌克兰#】 4740677004692403\n",
            "41 2022-02-25 凤凰网 【#拜登冻结俄罗斯在美所有资产#】 4740660975111042\n",
            "42 2022-02-24 凤凰网 【#乌克兰外长称普京发动了全面战争#】 4740369185506508\n",
            "43 2022-02-27 凤凰网 【俄媒：普京下令将核威慑力量转入高度戒备状态】 4741613894502633\n",
            "44 2022-02-27 凤凰网 【#俄代表团抵达白俄罗斯准备与乌会谈# 】 4741391408694344\n",
            "45 2022-02-28 澎湃新闻 【正在直播丨俄乌会谈正进行丨#俄方有意与乌方尽快达成共识#，乌称核心是立即停火和撤军】 4741821970518865\n",
            "46 2022-03-02 环球时报 【美媒：#乌克兰东部将迎来大雪#】 4742715315586720\n",
            "47 2022-03-02 环球时报 【#俄罗斯多家芭蕾舞团演出被取消#】 4742705332360238\n",
            "48 2022-03-02 环球时报 【俄媒：有可能出现俄罗斯飞机在美国空域被拦截】 4742698696969860\n",
            "49 2022-03-02 环球时报 【外国留学生撤离时遭遇种族歧视，#乌克兰外长道歉#】 4742685880223182\n",
            "50 2022-03-02 环球时报 【俄外交部：不保证不会与北约发生意外事件】 4742676844648459\n",
            "51 2022-03-02 环球时报 【外媒再问#中国会不会继续购买俄罗斯天然气#，外交部回应】 4742614547173444\n",
            "52 2022-03-02 环球时报 【俄媒：#乌外交部要求驻俄使领馆3月2日撤离#】 4742611384667249\n",
            "53 2022-03-01 环球时报 【外媒：#俄方称将对乌军信息心理战部队实施打击#】 4742333175957840\n",
            "54 2022-03-01 环球时报 【#王毅应约同乌克兰外长库列巴通电话#】 4742318030848240\n",
            "55 2022-02-28 环球时报 【#俄乌谈判已结束#】 4741955823337762\n",
            "56 2022-02-28 环球时报 【#俄罗斯对36国实施航空禁令#】 4741966253791036\n",
            "57 2022-02-28 环球时报 【#泽连斯基宣布释放有实战经验囚犯参战赎罪#】 4741915267826829\n"
          ]
        }
      ],
      "source": [
        "\n",
        "workbook = xlrd.open_workbook('微博网址.xls')\n",
        "table = workbook.sheet_by_name('Sheet1')\n",
        "rows = table.nrows\n",
        "for row in range(1,rows):\n",
        "#     datas = []\n",
        "    date = turn_time(table[row][0].value)\n",
        "    subject = table[row][1].value\n",
        "    media = table[row][2].value\n",
        "    title = table[row][3].value\n",
        "    url = table[row][4].value\n",
        "    mid = str(url_to_mid(url))\n",
        "    print(row,date,media,title,mid)\n",
        "#     get_comment_index(mid,datas)\n",
        "#     pd.DataFrame(datas).to_csv('.\\\\大陆\\\\'+date+'_'+subject+'_'+url+'.csv',encoding = 'utf_8_sig')\n",
        "\n",
        "\n",
        "    if subject == '俄罗斯':\n",
        "        get_comment_index(mid,datas_russia)\n",
        "    elif subject == '乌克兰':\n",
        "        get_comment_index(mid, datas_ukraine)\n",
        "    elif subject == 'Russia-Ukriane':\n",
        "        get_comment_index(mid, datas_randu)\n",
        "    elif subject == '中国':\n",
        "        get_comment_index(mid,datas_mainland)\n",
        "    elif subject == '西方':\n",
        "        get_comment_index(mid,datas_west)\n",
        "    else:\n",
        "        print('wrong')\n",
        "\n",
        "    time.sleep(30)\n",
        "\n",
        "# pd.DataFrame(datas_russia).to_csv('.\\\\大陆\\\\俄罗斯.csv',encoding = 'utf_8_sig')\n",
        "# pd.DataFrame(datas_ukraine).to_csv('.\\\\大陆\\\\乌克兰.csv',encoding = 'utf_8_sig')\n",
        "# pd.DataFrame(datas_randu).to_csv('.\\\\大陆\\\\俄罗斯和乌克兰.csv',encoding = 'utf_8_sig')\n",
        "# pd.DataFrame(datas_mainland).to_csv('.\\\\大陆\\\\大陆.csv',encoding = 'utf_8_sig')\n",
        "# pd.DataFrame(datas_west).to_csv('.\\\\大陆\\\\西方.csv',encoding = 'utf_8_sig')\n",
        "        "
      ]
    },
    {
      "cell_type": "code",
      "execution_count": null,
      "id": "9e119fa7",
      "metadata": {
        "id": "9e119fa7"
      },
      "outputs": [],
      "source": []
    },
    {
      "cell_type": "code",
      "execution_count": null,
      "id": "1b86f120",
      "metadata": {
        "ExecuteTime": {
          "end_time": "2022-03-13T13:21:21.332331Z",
          "start_time": "2022-03-13T12:36:51.038853Z"
        },
        "id": "1b86f120",
        "outputId": "896f17b6-4ba8-4376-fd21-b94fb2870700"
      },
      "outputs": [
        {
          "name": "stdout",
          "output_type": "stream",
          "text": [
            "15 2022-02-27 澎湃新闻 【对话在乌中国人：被炮火笼罩的恐惧与乡愁】 4741592772514063\n",
            "16 2022-03-01 澎湃新闻 【中国驻乌克兰大使馆：#在乌中国公民可以乘乌专列撤往西部邻国#】 4742135851781696\n",
            "17 2022-02-28 新华社 【#外交部介绍在乌中国公民撤离进展#】外交部发言人汪文斌在2月28日举行的外交部例行记者会上应询介绍了在乌克兰中国公民撤离的进展情况。 4741890563638622\n",
            "18 2022-02-27 新华社 【俄国防部：#俄乌军事人员共同保障切尔诺贝利核电站安全#】 4741399364766388\n",
            "19 2022-02-25 新华社 【#新华社记者逆行奔赴基辅#】 4740788883296224\n",
            "20 2022-02-24 新华社 【#普京和卢卡申科通电话谈顿巴斯地区局势#】 4740497413245609\n",
            "21 2022-02-24 新华社 #中方反对任何煽动战争的行为#【#华春莹说美国一直在煽动战争危险#】 4740446821550806\n",
            "22 2022-02-24 新华社 新华社快讯：24日清晨，#乌克兰首都基辅上空传来数次爆炸声#。  4740365510512891\n",
            "23 2022-03-02 凤凰网 【#乌克兰网球女将击败俄罗斯选手# 赛后承诺将奖金捐给乌克兰军队】 4742541608489625\n",
            "24 2022-03-01 凤凰网 【#乌克兰将对助乌作战的外籍人士实行免签# 】 4742144013633024\n",
            "25 2022-03-01 凤凰网 【#世界跆拳道联盟撤销普京黑带九段荣誉称号# 】 4742132013465801\n",
            "26 2022-02-28 凤凰网 【乌克兰媒体称俄乌谈判已结束 俄媒：还在进行中】 4741966115900771\n",
            "27 2022-02-28 凤凰网 【#俄战略导弹部队和北方舰队进入战备状态# 】 4741933831819293\n",
            "28 2022-02-28 凤凰网 【#泽连斯基宣布释放有军事经验的罪犯参战#】 4741902643760675\n",
            "29 2022-02-28 凤凰网 【民调：乌克兰总统#泽连斯基支持率飙升至90%以上#】 4741807717748671\n",
            "30 2022-02-28 凤凰网 【#普京在什么情况下会动用核武器#？】当地时间27日，俄罗斯总统普京会见俄罗斯国防部长绍伊古和总参谋长格拉西莫夫时表示，西方对俄罗斯不仅在经济上进行遏制，而且某些领导人的发言越来越具有侵略性，因此命令俄罗斯核力量进入特殊战备状态。 4741772871732329\n",
            "31 2022-02-27 凤凰网 【应对乌克兰局势 #近万法军进入战备状态#】当 4741450899915007\n",
            "32 2022-02-27 凤凰网 【#中国驻乌克兰大使致在乌中国同胞的信#】 4741391408694344\n",
            "33 2022-02-26 凤凰网 【乌东老奶奶哭诉：在战乱下我们坚持了8年 3年前新盖的房子全炸毁了[泪]】 4741220293411963\n",
            "34 2022-02-26 凤凰网 【基辅多个地区发生爆炸 #乌克兰妻子劝中国丈夫能走一个是一个#】 4741168372124759\n",
            "35 2022-02-26 凤凰网 【#乌克兰称约3500名俄军士兵阵亡#，近200人被俘】 4741128304200204\n",
            "36 2022-02-26 凤凰网 【乌克兰总参谋部宣布击落一架俄军伊尔-76运输机】 4741035437852577\n",
            "37 2022-02-26 凤凰网 【联合国#安理会未通过关于乌克兰局势决议草案#】 4741014557819559\n",
            "38 2022-02-25 凤凰网 【#乌前总统波罗申科持枪走上街头# 斥责普京】 4740870362373989\n",
            "39 2022-02-25 凤凰网 【#乌克兰蛇岛军人集体阵亡#】 4740751814036826\n",
            "40 2022-02-25 凤凰网 【#乌总统称西方完全放弃了乌克兰#】 4740677004692403\n",
            "41 2022-02-25 凤凰网 【#拜登冻结俄罗斯在美所有资产#】 4740660975111042\n",
            "42 2022-02-24 凤凰网 【#乌克兰外长称普京发动了全面战争#】 4740369185506508\n",
            "43 2022-02-27 凤凰网 【俄媒：普京下令将核威慑力量转入高度戒备状态】 4741613894502633\n",
            "44 2022-02-27 凤凰网 【#俄代表团抵达白俄罗斯准备与乌会谈# 】 4741391408694344\n",
            "45 2022-02-28 澎湃新闻 【正在直播丨俄乌会谈正进行丨#俄方有意与乌方尽快达成共识#，乌称核心是立即停火和撤军】 4741821970518865\n"
          ]
        }
      ],
      "source": [
        "main()"
      ]
    },
    {
      "cell_type": "code",
      "execution_count": null,
      "id": "df97eaca",
      "metadata": {
        "ExecuteTime": {
          "end_time": "2022-03-13T09:49:28.250955Z",
          "start_time": "2022-03-13T09:49:26.411092Z"
        },
        "id": "df97eaca"
      },
      "outputs": [],
      "source": [
        "datas = []\n",
        "mid=str(4740666338574356)\n",
        "get_comment_index(mid,datas)"
      ]
    },
    {
      "cell_type": "code",
      "execution_count": null,
      "id": "8e760c70",
      "metadata": {
        "ExecuteTime": {
          "end_time": "2022-03-13T07:46:50.616378Z",
          "start_time": "2022-03-13T07:46:50.600608Z"
        },
        "id": "8e760c70",
        "outputId": "d5a7c424-6af2-4d0a-b904-96edbe2e5710"
      },
      "outputs": [
        {
          "data": {
            "text/html": [
              "<div>\n",
              "<style scoped>\n",
              "    .dataframe tbody tr th:only-of-type {\n",
              "        vertical-align: middle;\n",
              "    }\n",
              "\n",
              "    .dataframe tbody tr th {\n",
              "        vertical-align: top;\n",
              "    }\n",
              "\n",
              "    .dataframe thead th {\n",
              "        text-align: right;\n",
              "    }\n",
              "</style>\n",
              "<table border=\"1\" class=\"dataframe\">\n",
              "  <thead>\n",
              "    <tr style=\"text-align: right;\">\n",
              "      <th></th>\n",
              "      <th>user_name</th>\n",
              "      <th>commtent</th>\n",
              "      <th>data_time</th>\n",
              "      <th>mid</th>\n",
              "    </tr>\n",
              "  </thead>\n",
              "  <tbody>\n",
              "    <tr>\n",
              "      <th>0</th>\n",
              "      <td>小愚-MR</td>\n",
              "      <td>乌克兰看好了，你的所谓盟友是怎么挣钱的</td>\n",
              "      <td>Fri Feb 25 07:53:26 +0800 2022</td>\n",
              "      <td>4740668062960982</td>\n",
              "    </tr>\n",
              "    <tr>\n",
              "      <th>1</th>\n",
              "      <td>Gemini_西_</td>\n",
              "      <td>这是开始明抢了</td>\n",
              "      <td>Fri Feb 25 07:47:46 +0800 2022</td>\n",
              "      <td>4740666637420446</td>\n",
              "    </tr>\n",
              "    <tr>\n",
              "      <th>2</th>\n",
              "      <td>余文浩先森</td>\n",
              "      <td>拜登：反正我已经拱完火了，我要开始背后敛财了。你们打归打，闹归闹，黄金美刀我都要</td>\n",
              "      <td>Fri Feb 25 07:51:10 +0800 2022</td>\n",
              "      <td>4740667492534246</td>\n",
              "    </tr>\n",
              "    <tr>\n",
              "      <th>3</th>\n",
              "      <td>你们的美少女哪吒</td>\n",
              "      <td>和国境线安全比起来这算个屁啊</td>\n",
              "      <td>Fri Feb 25 07:47:52 +0800 2022</td>\n",
              "      <td>4740666662062482</td>\n",
              "    </tr>\n",
              "    <tr>\n",
              "      <th>4</th>\n",
              "      <td>船长人生之星辰大海</td>\n",
              "      <td>老美牛逼，明抢</td>\n",
              "      <td>Fri Feb 25 07:51:54 +0800 2022</td>\n",
              "      <td>4740667677608174</td>\n",
              "    </tr>\n",
              "    <tr>\n",
              "      <th>...</th>\n",
              "      <td>...</td>\n",
              "      <td>...</td>\n",
              "      <td>...</td>\n",
              "      <td>...</td>\n",
              "    </tr>\n",
              "    <tr>\n",
              "      <th>62</th>\n",
              "      <td>牛若丸大叔</td>\n",
              "      <td>抢完阿富汗抢俄罗斯了真不怕打大的啊</td>\n",
              "      <td>Fri Feb 25 08:41:19 +0800 2022</td>\n",
              "      <td>4740680117125186</td>\n",
              "    </tr>\n",
              "    <tr>\n",
              "      <th>63</th>\n",
              "      <td>每天都想冬眠</td>\n",
              "      <td>无耻，坑乌克兰和俄罗斯打仗自己躲背后赚钱</td>\n",
              "      <td>Fri Feb 25 08:06:51 +0800 2022</td>\n",
              "      <td>4740671439899675</td>\n",
              "    </tr>\n",
              "    <tr>\n",
              "      <th>64</th>\n",
              "      <td>古玉和紫砂艺术研究</td>\n",
              "      <td>美欧的目的就是逼饿动手，然后明抢！</td>\n",
              "      <td>Fri Feb 25 08:03:58 +0800 2022</td>\n",
              "      <td>4740670714282618</td>\n",
              "    </tr>\n",
              "    <tr>\n",
              "      <th>65</th>\n",
              "      <td>村西来的狗蛋</td>\n",
              "      <td>前几年普京就说过，如果世界不需要俄罗斯了，那么这个世界也就没必要存在了！美国这么搞，真把俄罗...</td>\n",
              "      <td>Fri Feb 25 07:59:43 +0800 2022</td>\n",
              "      <td>4740669644736329</td>\n",
              "    </tr>\n",
              "    <tr>\n",
              "      <th>66</th>\n",
              "      <td>ACoolgirl__Jessie</td>\n",
              "      <td>俄罗斯不会来个鱼死网破？</td>\n",
              "      <td>Fri Feb 25 07:48:23 +0800 2022</td>\n",
              "      <td>4740666796539973</td>\n",
              "    </tr>\n",
              "  </tbody>\n",
              "</table>\n",
              "<p>67 rows × 4 columns</p>\n",
              "</div>"
            ],
            "text/plain": [
              "            user_name                                           commtent  \\\n",
              "0               小愚-MR                                乌克兰看好了，你的所谓盟友是怎么挣钱的   \n",
              "1           Gemini_西_                                            这是开始明抢了   \n",
              "2               余文浩先森           拜登：反正我已经拱完火了，我要开始背后敛财了。你们打归打，闹归闹，黄金美刀我都要   \n",
              "3            你们的美少女哪吒                                     和国境线安全比起来这算个屁啊   \n",
              "4           船长人生之星辰大海                                            老美牛逼，明抢   \n",
              "..                ...                                                ...   \n",
              "62              牛若丸大叔                                  抢完阿富汗抢俄罗斯了真不怕打大的啊   \n",
              "63             每天都想冬眠                               无耻，坑乌克兰和俄罗斯打仗自己躲背后赚钱   \n",
              "64          古玉和紫砂艺术研究                                  美欧的目的就是逼饿动手，然后明抢！   \n",
              "65             村西来的狗蛋  前几年普京就说过，如果世界不需要俄罗斯了，那么这个世界也就没必要存在了！美国这么搞，真把俄罗...   \n",
              "66  ACoolgirl__Jessie                                       俄罗斯不会来个鱼死网破？   \n",
              "\n",
              "                         data_time               mid  \n",
              "0   Fri Feb 25 07:53:26 +0800 2022  4740668062960982  \n",
              "1   Fri Feb 25 07:47:46 +0800 2022  4740666637420446  \n",
              "2   Fri Feb 25 07:51:10 +0800 2022  4740667492534246  \n",
              "3   Fri Feb 25 07:47:52 +0800 2022  4740666662062482  \n",
              "4   Fri Feb 25 07:51:54 +0800 2022  4740667677608174  \n",
              "..                             ...               ...  \n",
              "62  Fri Feb 25 08:41:19 +0800 2022  4740680117125186  \n",
              "63  Fri Feb 25 08:06:51 +0800 2022  4740671439899675  \n",
              "64  Fri Feb 25 08:03:58 +0800 2022  4740670714282618  \n",
              "65  Fri Feb 25 07:59:43 +0800 2022  4740669644736329  \n",
              "66  Fri Feb 25 07:48:23 +0800 2022  4740666796539973  \n",
              "\n",
              "[67 rows x 4 columns]"
            ]
          },
          "execution_count": 117,
          "metadata": {},
          "output_type": "execute_result"
        }
      ],
      "source": [
        "pd.DataFrame(datas)"
      ]
    },
    {
      "cell_type": "code",
      "execution_count": null,
      "id": "905054bc",
      "metadata": {
        "ExecuteTime": {
          "end_time": "2022-03-14T02:52:02.842825Z",
          "start_time": "2022-03-14T02:52:02.833777Z"
        },
        "id": "905054bc",
        "outputId": "0d0a94ce-e753-489f-fe1a-908196e6950b"
      },
      "outputs": [
        {
          "data": {
            "text/plain": [
              "[1, 2, 3, 2, 3, 4]"
            ]
          },
          "execution_count": 17,
          "metadata": {},
          "output_type": "execute_result"
        }
      ],
      "source": [
        "l1 = [1,2,3]\n",
        "l3 = [2,3,4]\n",
        "l2=[]\n",
        "l2.extend(l1)\n",
        "l2.extend(l3)\n",
        "l2"
      ]
    },
    {
      "cell_type": "code",
      "execution_count": null,
      "id": "53979367",
      "metadata": {
        "ExecuteTime": {
          "end_time": "2022-03-14T02:51:08.357963Z",
          "start_time": "2022-03-14T02:51:08.306888Z"
        },
        "id": "53979367",
        "outputId": "f7fd0b32-8393-49e1-cae9-6abfcbdcdf70"
      },
      "outputs": [
        {
          "data": {
            "text/html": [
              "<div>\n",
              "<style scoped>\n",
              "    .dataframe tbody tr th:only-of-type {\n",
              "        vertical-align: middle;\n",
              "    }\n",
              "\n",
              "    .dataframe tbody tr th {\n",
              "        vertical-align: top;\n",
              "    }\n",
              "\n",
              "    .dataframe thead th {\n",
              "        text-align: right;\n",
              "    }\n",
              "</style>\n",
              "<table border=\"1\" class=\"dataframe\">\n",
              "  <thead>\n",
              "    <tr style=\"text-align: right;\">\n",
              "      <th></th>\n",
              "      <th>0</th>\n",
              "      <th>1</th>\n",
              "      <th>2</th>\n",
              "    </tr>\n",
              "  </thead>\n",
              "  <tbody>\n",
              "    <tr>\n",
              "      <th>0</th>\n",
              "      <td>1</td>\n",
              "      <td>2</td>\n",
              "      <td>3</td>\n",
              "    </tr>\n",
              "    <tr>\n",
              "      <th>1</th>\n",
              "      <td>2</td>\n",
              "      <td>3</td>\n",
              "      <td>4</td>\n",
              "    </tr>\n",
              "  </tbody>\n",
              "</table>\n",
              "</div>"
            ],
            "text/plain": [
              "   0  1  2\n",
              "0  1  2  3\n",
              "1  2  3  4"
            ]
          },
          "execution_count": 16,
          "metadata": {},
          "output_type": "execute_result"
        }
      ],
      "source": [
        "pd.DataFrame(l2)"
      ]
    },
    {
      "cell_type": "code",
      "execution_count": null,
      "id": "b53fc3e2",
      "metadata": {
        "ExecuteTime": {
          "end_time": "2022-03-13T05:49:45.789095Z",
          "start_time": "2022-03-13T05:49:42.200045Z"
        },
        "id": "b53fc3e2"
      },
      "outputs": [],
      "source": [
        "datas = []\n",
        "mid=str(4740677163814177)\n",
        "get_comment_index(mid)"
      ]
    },
    {
      "cell_type": "code",
      "execution_count": null,
      "id": "956a08b4",
      "metadata": {
        "ExecuteTime": {
          "end_time": "2022-03-13T05:49:46.971993Z",
          "start_time": "2022-03-13T05:49:46.949563Z"
        },
        "id": "956a08b4",
        "outputId": "c9931220-eb39-45d7-da70-5f943818b14b"
      },
      "outputs": [
        {
          "data": {
            "text/html": [
              "<div>\n",
              "<style scoped>\n",
              "    .dataframe tbody tr th:only-of-type {\n",
              "        vertical-align: middle;\n",
              "    }\n",
              "\n",
              "    .dataframe tbody tr th {\n",
              "        vertical-align: top;\n",
              "    }\n",
              "\n",
              "    .dataframe thead th {\n",
              "        text-align: right;\n",
              "    }\n",
              "</style>\n",
              "<table border=\"1\" class=\"dataframe\">\n",
              "  <thead>\n",
              "    <tr style=\"text-align: right;\">\n",
              "      <th></th>\n",
              "      <th>user_name</th>\n",
              "      <th>commtent</th>\n",
              "      <th>data_time</th>\n",
              "      <th>mid</th>\n",
              "    </tr>\n",
              "  </thead>\n",
              "  <tbody>\n",
              "    <tr>\n",
              "      <th>0</th>\n",
              "      <td>九洲大道中</td>\n",
              "      <td>北约：今天帮你，战争今天就上门</td>\n",
              "      <td>Fri Feb 25 08:30:14 +0800 2022</td>\n",
              "      <td>4740677323196641</td>\n",
              "    </tr>\n",
              "    <tr>\n",
              "      <th>1</th>\n",
              "      <td>麦晓慕</td>\n",
              "      <td>今天帮了乌克兰，今天就有战争上门</td>\n",
              "      <td>Fri Feb 25 08:30:09 +0800 2022</td>\n",
              "      <td>4740677302224943</td>\n",
              "    </tr>\n",
              "    <tr>\n",
              "      <th>2</th>\n",
              "      <td>庐山防滑链</td>\n",
              "      <td>悲剧，自己国家的安全需要别人来帮忙。把自己命运交给西方嘴皮子政客。兄弟，你把剧本拿错了。</td>\n",
              "      <td>Fri Feb 25 08:32:26 +0800 2022</td>\n",
              "      <td>4740677877109182</td>\n",
              "    </tr>\n",
              "    <tr>\n",
              "      <th>3</th>\n",
              "      <td>MurasameZero</td>\n",
              "      <td>欧洲:本来你没了就结束的东西，你还想拖整个欧洲下水啊</td>\n",
              "      <td>Fri Feb 25 08:31:11 +0800 2022</td>\n",
              "      <td>4740677562797652</td>\n",
              "    </tr>\n",
              "    <tr>\n",
              "      <th>4</th>\n",
              "      <td>CXN猫LN</td>\n",
              "      <td>帮了就不单单两个国家的战争啦</td>\n",
              "      <td>Fri Feb 25 08:32:49 +0800 2022</td>\n",
              "      <td>4740677974100643</td>\n",
              "    </tr>\n",
              "    <tr>\n",
              "      <th>...</th>\n",
              "      <td>...</td>\n",
              "      <td>...</td>\n",
              "      <td>...</td>\n",
              "      <td>...</td>\n",
              "    </tr>\n",
              "    <tr>\n",
              "      <th>191</th>\n",
              "      <td>文文1970X</td>\n",
              "      <td>你觉得能唬住他们？</td>\n",
              "      <td>Fri Feb 25 09:15:34 +0800 2022</td>\n",
              "      <td>4740688733017813</td>\n",
              "    </tr>\n",
              "    <tr>\n",
              "      <th>192</th>\n",
              "      <td>墨西哥祁明</td>\n",
              "      <td></td>\n",
              "      <td>Fri Feb 25 09:08:19 +0800 2022</td>\n",
              "      <td>4740686912422952</td>\n",
              "    </tr>\n",
              "    <tr>\n",
              "      <th>193</th>\n",
              "      <td>千年红杏儿</td>\n",
              "      <td>刚看到一个新闻，说乌克兰没有向北约提出兵要求</td>\n",
              "      <td>Fri Feb 25 09:07:33 +0800 2022</td>\n",
              "      <td>4740686719746390</td>\n",
              "    </tr>\n",
              "    <tr>\n",
              "      <th>194</th>\n",
              "      <td>R-Augustus</td>\n",
              "      <td>北约: 一定支持你，加油，再送你2000个头盔</td>\n",
              "      <td>Fri Feb 25 08:49:32 +0800 2022</td>\n",
              "      <td>4740682180463366</td>\n",
              "    </tr>\n",
              "    <tr>\n",
              "      <th>195</th>\n",
              "      <td>黄脓鼻涕</td>\n",
              "      <td>道理谁都懂，可是以什么名义出兵帮你呢，你还不是北约成员，联合国也没通过军事干预的决议，出师无名呀</td>\n",
              "      <td>Fri Feb 25 08:31:33 +0800 2022</td>\n",
              "      <td>4740677659788401</td>\n",
              "    </tr>\n",
              "  </tbody>\n",
              "</table>\n",
              "<p>196 rows × 4 columns</p>\n",
              "</div>"
            ],
            "text/plain": [
              "        user_name                                          commtent  \\\n",
              "0           九洲大道中                                   北约：今天帮你，战争今天就上门   \n",
              "1             麦晓慕                                  今天帮了乌克兰，今天就有战争上门   \n",
              "2           庐山防滑链      悲剧，自己国家的安全需要别人来帮忙。把自己命运交给西方嘴皮子政客。兄弟，你把剧本拿错了。   \n",
              "3    MurasameZero                        欧洲:本来你没了就结束的东西，你还想拖整个欧洲下水啊   \n",
              "4          CXN猫LN                                    帮了就不单单两个国家的战争啦   \n",
              "..            ...                                               ...   \n",
              "191       文文1970X                                         你觉得能唬住他们？   \n",
              "192         墨西哥祁明                                                     \n",
              "193         千年红杏儿                            刚看到一个新闻，说乌克兰没有向北约提出兵要求   \n",
              "194    R-Augustus                           北约: 一定支持你，加油，再送你2000个头盔   \n",
              "195          黄脓鼻涕  道理谁都懂，可是以什么名义出兵帮你呢，你还不是北约成员，联合国也没通过军事干预的决议，出师无名呀   \n",
              "\n",
              "                          data_time               mid  \n",
              "0    Fri Feb 25 08:30:14 +0800 2022  4740677323196641  \n",
              "1    Fri Feb 25 08:30:09 +0800 2022  4740677302224943  \n",
              "2    Fri Feb 25 08:32:26 +0800 2022  4740677877109182  \n",
              "3    Fri Feb 25 08:31:11 +0800 2022  4740677562797652  \n",
              "4    Fri Feb 25 08:32:49 +0800 2022  4740677974100643  \n",
              "..                              ...               ...  \n",
              "191  Fri Feb 25 09:15:34 +0800 2022  4740688733017813  \n",
              "192  Fri Feb 25 09:08:19 +0800 2022  4740686912422952  \n",
              "193  Fri Feb 25 09:07:33 +0800 2022  4740686719746390  \n",
              "194  Fri Feb 25 08:49:32 +0800 2022  4740682180463366  \n",
              "195  Fri Feb 25 08:31:33 +0800 2022  4740677659788401  \n",
              "\n",
              "[196 rows x 4 columns]"
            ]
          },
          "execution_count": 100,
          "metadata": {},
          "output_type": "execute_result"
        }
      ],
      "source": [
        "pd.DataFrame(datas)"
      ]
    },
    {
      "cell_type": "code",
      "execution_count": null,
      "id": "e116bb94",
      "metadata": {
        "ExecuteTime": {
          "end_time": "2022-03-13T05:49:32.195021Z",
          "start_time": "2022-03-13T05:49:32.185947Z"
        },
        "id": "e116bb94",
        "outputId": "e6f85188-b135-4f36-c381-150f165f311b"
      },
      "outputs": [
        {
          "name": "stdout",
          "output_type": "stream",
          "text": [
            "Ze0gkc4hL\n",
            "3\n"
          ]
        },
        {
          "data": {
            "text/plain": [
              "4740677163814177"
            ]
          },
          "execution_count": 98,
          "metadata": {},
          "output_type": "execute_result"
        }
      ],
      "source": [
        "url_to_mid('Lh4ckg0eZ')"
      ]
    }
  ],
  "metadata": {
    "kernelspec": {
      "display_name": "Python 3",
      "language": "python",
      "name": "python3"
    },
    "language_info": {
      "codemirror_mode": {
        "name": "ipython",
        "version": 3
      },
      "file_extension": ".py",
      "mimetype": "text/x-python",
      "name": "python",
      "nbconvert_exporter": "python",
      "pygments_lexer": "ipython3",
      "version": "3.8.8"
    },
    "toc": {
      "base_numbering": 1,
      "nav_menu": {},
      "number_sections": true,
      "sideBar": true,
      "skip_h1_title": false,
      "title_cell": "Table of Contents",
      "title_sidebar": "Contents",
      "toc_cell": false,
      "toc_position": {},
      "toc_section_display": true,
      "toc_window_display": false
    },
    "colab": {
      "provenance": [],
      "include_colab_link": true
    }
  },
  "nbformat": 4,
  "nbformat_minor": 5
}