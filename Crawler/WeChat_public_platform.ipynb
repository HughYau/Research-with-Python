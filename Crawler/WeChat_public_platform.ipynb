{
  "cells": [
    {
      "cell_type": "markdown",
      "metadata": {
        "id": "view-in-github",
        "colab_type": "text"
      },
      "source": [
        "<a href=\"https://colab.research.google.com/github/HughYau/Research-with-Python/blob/main/Crawler/WeChat_public_platform.ipynb\" target=\"_parent\"><img src=\"https://colab.research.google.com/assets/colab-badge.svg\" alt=\"Open In Colab\"/></a>"
      ]
    },
    {
      "cell_type": "code",
      "execution_count": null,
      "id": "09e2e968",
      "metadata": {
        "ExecuteTime": {
          "end_time": "2022-07-29T05:49:18.092929Z",
          "start_time": "2022-07-29T05:49:17.763188Z"
        },
        "id": "09e2e968"
      },
      "outputs": [],
      "source": [
        "import requests\n",
        "from bs4 import BeautifulSoup\n",
        "from docx import Document\n",
        "from lxml import etree\n",
        "import xlrd\n",
        "import re\n",
        "import os"
      ]
    },
    {
      "cell_type": "code",
      "execution_count": null,
      "id": "09c2379c",
      "metadata": {
        "ExecuteTime": {
          "end_time": "2022-07-29T05:55:41.519657Z",
          "start_time": "2022-07-29T05:55:41.507669Z"
        },
        "id": "09c2379c"
      },
      "outputs": [],
      "source": [
        "def request_web(url):\n",
        "    headers = {\n",
        "    'cookie':'ua_id=tgqpOg9t6PnrGXoiAAAAAE4rMNt2931pD3mFCSDKK5Q=; wxuin=32833676921824; mm_lang=zh_CN; pgv_pvid=7872158752; LW_uid=u1j673D3Q4j0Q8H1z5U0P1j8I3; eas_sid=J1T6n3Q3j4O0M8w1E5T0b3O1x3; RK=itY4H0keHe; ptcz=9d971d6f8868458b9a253baa1fb390623138f5f745f8c98dadf78fc58d7676ea; tvfe_boss_uuid=1d6f33a58bbfa279; iip=0; xid=61c7478d0979cf484bd8deee97ee096a; uin_cookie=o3164683980; ied_qq=o3164683980; LW_sid=C1j6f4X248n2G0P4M434j937l8; o_cookie=3164683980; pac_uid=1_3164683980; rewardsn=; wxtokenkey=777',\n",
        "    'User-Agent': 'Mozilla/5.0 (Windows NT 10.0; Win64; x64) AppleWebKit/537.36 (KHTML, like Gecko) Chrome/103.0.5060.134 Safari/537.36 Edg/103.0.1264.71'\n",
        "}\n",
        "    try:\n",
        "        response = requests.get(url,headers = headers)\n",
        "        if response.status_code == 200:\n",
        "            return response\n",
        "    except requests.RequestException:\n",
        "        return None"
      ]
    },
    {
      "cell_type": "code",
      "execution_count": null,
      "id": "f61ee4ac",
      "metadata": {
        "ExecuteTime": {
          "end_time": "2022-07-29T05:55:43.303544Z",
          "start_time": "2022-07-29T05:55:43.284831Z"
        },
        "id": "f61ee4ac"
      },
      "outputs": [],
      "source": [
        "def download(url):\n",
        "    res = request_web(url)\n",
        "    title = BeautifulSoup(res.text, 'lxml').find(class_='rich_media_title').text.strip().replace('\\\\','').replace('|','_').replace('/','_').replace('?','_').replace('>','').replace('<','').replace(':','_').replace('*',\n",
        "    '_').replace('\"', '').replace(':', '').replace('“', '').replace('”', '') \n",
        "    print(title)\n",
        "    current = Document()\n",
        "    current.add_heading(title)\n",
        "\n",
        "    soup = BeautifulSoup(res.text, 'lxml').find('div', id='js_content') \n",
        "    gg =re.findall(r'style=\"text-align: center;\"', str(soup),re.DOTALL)\n",
        "\n",
        "    for child in soup.children:\n",
        "\n",
        "        child = BeautifulSoup(str(child), 'lxml')\n",
        "\n",
        "        if child.p or child.section:\n",
        "            p=current.add_paragraph(text=child.text) \n",
        "            try:\n",
        "                p.add_run()\n",
        "                r_id = p.part.relate_to(child.a['href'],\n",
        "                                        opc.constants.RELATIONSHIP_TYPE.HYPERLINK, \n",
        "                                        is_external=True)\n",
        "                hyperlink = oxml.shared.OxmlElement('w:hyperlink') \n",
        "                hyperlink.set(oxml.shared.qn('r:id'), r_id) \n",
        "                hyperlink.append(p.runs[0]. r) \n",
        "                p. p.insert(1, hyperlink)\n",
        "            except:\n",
        "                pass\n",
        "#         img = re.findall(r'<img', str(child)) #爬取图片\n",
        "#         if img:\n",
        "#             pic ='temg.png'\n",
        "#             u =re.findall(r'<img.*?data-src=\"(.*?)\"', str(child),re.DOTALL)\n",
        "#             # print(u) \n",
        "#             for uu in u:\n",
        "#                 with open(pic, 'wb')as fp:\n",
        "#                     fp.write(requests.get(uu, verify=False).content) \n",
        "#                 try:\n",
        "#                     current.add_picture(pic)\n",
        "#                 except:\n",
        "#                     pass\n",
        "                \n",
        "    direct_dir = 'C:\\\\Users\\\\Akira\\\\CODE\\\\Crawler\\\\公众号爬虫\\\\' #修改为你需要储存的文件夹地址\n",
        "    current.save(direct_dir+title+'.docx')"
      ]
    },
    {
      "cell_type": "code",
      "execution_count": null,
      "id": "633052d3",
      "metadata": {
        "ExecuteTime": {
          "end_time": "2022-07-29T05:55:49.900945Z",
          "start_time": "2022-07-29T05:55:49.893945Z"
        },
        "id": "633052d3"
      },
      "outputs": [],
      "source": [
        "def main():\n",
        "    workbook = xlrd.open_workbook('LA(1).xls') #修改成你需要读取的文件名\n",
        "    table = workbook.sheet_by_index(0)\n",
        "    rows = table.nrows\n",
        "    for row in range(rows):\n",
        "        url = table[row][0].value\n",
        "        download(url)"
      ]
    },
    {
      "cell_type": "code",
      "execution_count": null,
      "id": "02f67cd0",
      "metadata": {
        "ExecuteTime": {
          "end_time": "2022-07-29T05:56:07.104158Z",
          "start_time": "2022-07-29T05:55:58.376667Z"
        },
        "id": "02f67cd0",
        "outputId": "4a5bb152-326d-44b8-e8ba-70c232026745"
      },
      "outputs": [
        {
          "name": "stdout",
          "output_type": "stream",
          "text": [
            "一头扎进酒店泳池，尽享夏日清凉！\n",
            "初夏时节，邂逅洛杉矶的山间瀑布！\n",
            "洛杉矶花园 _ 你不可错过的世外桃源\n",
            "他只活了十九岁，却震惊了世界！\n",
            "叮！夏季吃喝玩乐种草清单到啦~\n",
            "山映斜阳天接水，看日落？这儿最美！\n",
            "古典文艺小清新，洛杉矶花园原来也有很多幅面孔！\n",
            "好莱坞电影梦？来这些剧院让你还原大片场景！\n",
            "谁说西餐都油腻？洛杉矶清新素食了解一下~\n",
            "探索阿特沃特村，最本色的洛杉矶生活\n",
            "盘点洛杉矶那些让人泪牛满面的地道中国菜馆\n",
            "洛杉矶全城视野开启，在这里看夕阳简直美爆了！\n",
            "9月，天使铁路重临La La Land\n",
            "扬帆，起航！洛杉矶观鲸指南\n",
            "这个夏天，吃冰激凌不用先摸摸小肚子！\n",
            "夏天美国人最喜欢的家庭出游方式你造吗？\n",
            "甜品即正义！洛杉矶不可错过的甜蜜打卡\n",
            "在洛杉矶，这样运动才算酷~\n",
            "假如只有一天时间，去洛杉矶哪些地方最不留遗憾？\n",
            "洛杉矶名人明星邂逅指南，2017最新版！\n",
            "满城敬待黄金周！这个十一，洛杉矶福利满满！\n",
            "Girls`weekend！姐妹们的聚会好嗨皮\n",
            "超实用，洛杉矶各大博物馆免费开放时间表！\n"
          ]
        }
      ],
      "source": [
        "main()"
      ]
    }
  ],
  "metadata": {
    "kernelspec": {
      "display_name": "Python 3",
      "language": "python",
      "name": "python3"
    },
    "language_info": {
      "codemirror_mode": {
        "name": "ipython",
        "version": 3
      },
      "file_extension": ".py",
      "mimetype": "text/x-python",
      "name": "python",
      "nbconvert_exporter": "python",
      "pygments_lexer": "ipython3",
      "version": "3.8.8"
    },
    "toc": {
      "base_numbering": 1,
      "nav_menu": {},
      "number_sections": true,
      "sideBar": true,
      "skip_h1_title": false,
      "title_cell": "Table of Contents",
      "title_sidebar": "Contents",
      "toc_cell": false,
      "toc_position": {},
      "toc_section_display": true,
      "toc_window_display": false
    },
    "colab": {
      "provenance": [],
      "include_colab_link": true
    }
  },
  "nbformat": 4,
  "nbformat_minor": 5
}